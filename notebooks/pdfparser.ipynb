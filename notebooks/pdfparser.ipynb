{
 "cells": [
  {
   "cell_type": "markdown",
   "metadata": {},
   "source": [
    "# Parsing PDFs \n",
    "\n",
    "Pull in all of the PDF files and create objects for the text inside each one. \n",
    "\n",
    "This also probably should include a spell check\n",
    "\n",
    "[One of the sources I am using for the topic modeling](https://www.machinelearningplus.com/nlp/topic-modeling-gensim-python/)\n",
    "[This is a good post on Lemmatizing in python](https://www.machinelearningplus.com/nlp/lemmatization-examples-python/)"
   ]
  },
  {
   "cell_type": "code",
   "execution_count": 1,
   "metadata": {},
   "outputs": [],
   "source": [
    "import string "
   ]
  },
  {
   "cell_type": "code",
   "execution_count": 2,
   "metadata": {},
   "outputs": [
    {
     "data": {
      "text/plain": [
       "'!\"#$%&\\'()*+,-./:;<=>?@[\\\\]^_`{|}~'"
      ]
     },
     "execution_count": 2,
     "metadata": {},
     "output_type": "execute_result"
    }
   ],
   "source": [
    "string.punctuation"
   ]
  },
  {
   "cell_type": "code",
   "execution_count": 3,
   "metadata": {},
   "outputs": [],
   "source": [
    "import PyPDF2 \n",
    "from glob import glob\n",
    "\n",
    "pdfs = glob('../pdfs/*.pdf') "
   ]
  },
  {
   "cell_type": "code",
   "execution_count": 4,
   "metadata": {},
   "outputs": [
    {
     "data": {
      "text/plain": [
       "['../pdfs/Cruz - 2010 - Chapter Six. Expanding The View The Challenges Of.pdf',\n",
       " '../pdfs/Cruz - 2010 - Index.pdf',\n",
       " '../pdfs/Frederiks and Nagy - 2016 - Religion, migration, and identity methodological .pdf',\n",
       " '../pdfs/Cruz - 2010 - Introduction.pdf',\n",
       " '../pdfs/Cruz - 2010 - Chapter One. Geographies Of Domestication Mapping.pdf',\n",
       " '../pdfs/cruz2010.pdf',\n",
       " '../pdfs/Cruz - 2010 - Chapter Two. Frontiers Of Struggle Negotiating Fi.pdf',\n",
       " '../pdfs/Cruz - 2010 - Conclusion.pdf',\n",
       " '../pdfs/Cruz - 2010 - Chapter Four. Exploring Theological Markers Delor.pdf',\n",
       " '../pdfs/Cruz - 2010 - An intercultural theology of migration pilgrims i.pdf',\n",
       " \"../pdfs/Nguyen and Prior - 2014 - God's people on the move biblical and global pers.pdf\",\n",
       " '../pdfs/Cruz - 2010 - Chapter Three. Expanding The Boundaries Theologic.pdf',\n",
       " '../pdfs/Gods People on the Move 2.pdf',\n",
       " '../pdfs/Cruz - 2010 - Chapter Five. A Different Cartography Mapping The.pdf',\n",
       " '../pdfs/Izuzquiza - 2011 - Breaking bread notes for a political theology of .pdf',\n",
       " '../pdfs/Cruz - 2010 - Preliminary Material.pdf']"
      ]
     },
     "execution_count": 4,
     "metadata": {},
     "output_type": "execute_result"
    }
   ],
   "source": [
    "pdfs"
   ]
  },
  {
   "cell_type": "markdown",
   "metadata": {},
   "source": [
    "# Preparing Texts "
   ]
  },
  {
   "cell_type": "markdown",
   "metadata": {},
   "source": [
    "## Lemmatizing and cleaning "
   ]
  },
  {
   "cell_type": "code",
   "execution_count": 5,
   "metadata": {},
   "outputs": [
    {
     "name": "stderr",
     "output_type": "stream",
     "text": [
      "[nltk_data] Downloading package wordnet to\n",
      "[nltk_data]     /Users/sgoodwin/nltk_data...\n",
      "[nltk_data]   Package wordnet is already up-to-date!\n",
      "[nltk_data] Downloading package punkt to /Users/sgoodwin/nltk_data...\n",
      "[nltk_data]   Package punkt is already up-to-date!\n"
     ]
    }
   ],
   "source": [
    "import string\n",
    "import nltk \n",
    "from nltk.stem import WordNetLemmatizer\n",
    "nltk.download('wordnet')\n",
    "nltk.download('punkt')\n",
    "from sklearn.feature_extraction.stop_words import ENGLISH_STOP_WORDS as STOPWORDS \n",
    "\n",
    "PUNCDIG_TRANSLATOR = str.maketrans('', '', string.punctuation+string.digits)\n",
    "\n",
    "lemmatizer = WordNetLemmatizer()"
   ]
  },
  {
   "cell_type": "code",
   "execution_count": 6,
   "metadata": {},
   "outputs": [],
   "source": [
    "def text_clean(text):\n",
    "    clean_list = []\n",
    "    words = nltk.word_tokenize(text)\n",
    "    for w in words:\n",
    "        if w not in STOPWORDS:\n",
    "            w = w.translate(PUNCDIG_TRANSLATOR)\n",
    "            clean_list.append(lemmatizer.lemmatize(w))\n",
    "    return clean_list"
   ]
  },
  {
   "cell_type": "code",
   "execution_count": 7,
   "metadata": {},
   "outputs": [
    {
     "data": {
      "text/plain": [
       "['striped', 'bat', 'hanging', 'foot', 'best', '']"
      ]
     },
     "execution_count": 7,
     "metadata": {},
     "output_type": "execute_result"
    }
   ],
   "source": [
    "text_clean(\"The striped bats are hanging on their feet3 for best.\".lower())"
   ]
  },
  {
   "cell_type": "markdown",
   "metadata": {},
   "source": [
    "## Extracting Texts"
   ]
  },
  {
   "cell_type": "code",
   "execution_count": 8,
   "metadata": {},
   "outputs": [],
   "source": [
    "pdf = open(pdfs[0], 'rb')\n",
    "pdf_obj = PyPDF2.PdfFileReader(pdf)\n"
   ]
  },
  {
   "cell_type": "code",
   "execution_count": 9,
   "metadata": {
    "lines_to_next_cell": 2
   },
   "outputs": [
    {
     "name": "stdout",
     "output_type": "stream",
     "text": [
      "No. of pages: 35\n"
     ]
    }
   ],
   "source": [
    "print('No. of pages: {}'.format(pdf_obj.numPages))"
   ]
  },
  {
   "cell_type": "code",
   "execution_count": 10,
   "metadata": {},
   "outputs": [],
   "source": [
    "def pdf_extractor(pdf, corpus_list, text_list):\n",
    "    '''Extract the text of pdfs and return a dictionary with\n",
    "    the file name as a key, and the value being a list of the pages\n",
    "    and the containing texts\n",
    "    '''\n",
    "    pdf_file_obj = open(pdf, 'rb')\n",
    "    pdf_obj = PyPDF2.PdfFileReader(pdf_file_obj)\n",
    "    for pn in range(0,pdf_obj.numPages):\n",
    "        page = pdf_obj.getPage(pn)\n",
    "        text = page.extractText().lower()\n",
    "        cleaned_list = text_clean(text)\n",
    "        corpus_list.append(cleaned_list)\n",
    "        # corpus_list.append(page.extractText())\n",
    "        text_list.append((pdf, pn))\n",
    "        # if you want to create a dictionary\n",
    "        # text_dict.setdefault(pdf, []).append(page.extractText())\n",
    "    pdf_file_obj.close()\n",
    "    return corpus_list, text_list"
   ]
  },
  {
   "cell_type": "code",
   "execution_count": 11,
   "metadata": {},
   "outputs": [
    {
     "name": "stderr",
     "output_type": "stream",
     "text": [
      "PdfReadWarning: Xref table not zero-indexed. ID numbers for objects will be corrected. [pdf.py:1736]\n"
     ]
    }
   ],
   "source": [
    "corpus_list = []\n",
    "text_list = []\n",
    "\n",
    "for pdf in pdfs:\n",
    "    corpus_list, text_list = pdf_extractor(pdf, corpus_list, text_list)"
   ]
  },
  {
   "cell_type": "markdown",
   "metadata": {},
   "source": [
    "# Creating LDA Model \n",
    "\n"
   ]
  },
  {
   "cell_type": "code",
   "execution_count": 12,
   "metadata": {},
   "outputs": [],
   "source": [
    "from gensim import corpora \n",
    "from gensim.models.ldamodel import LdaModel "
   ]
  },
  {
   "cell_type": "code",
   "execution_count": 13,
   "metadata": {},
   "outputs": [],
   "source": [
    "def prepare_topic_model(corpus_list):\n",
    "    corpus_dict = corpora.Dictionary(corpus_list)\n",
    "    corpus_dict.filter_extremes(no_below=100, no_above=0.5)\n",
    "    corpus = [corpus_dict.doc2bow(text) for text in corpus_list]\n",
    "    lda_model = LdaModel(corpus=corpus, \n",
    "                        id2word=corpus_dict, num_topics=25,\n",
    "                        random_state=100, update_every=1,\n",
    "                        chunksize=100, passes=50,\n",
    "                        alpha='symmetric', per_word_topics=True)\n",
    "    return lda_model, corpus, corpus_dict"
   ]
  },
  {
   "cell_type": "code",
   "execution_count": 14,
   "metadata": {},
   "outputs": [],
   "source": [
    "lda_model, corpus, corpus_dict = prepare_topic_model(corpus_list)"
   ]
  },
  {
   "cell_type": "markdown",
   "metadata": {},
   "source": [
    "# Visualizing LDA Model"
   ]
  },
  {
   "cell_type": "code",
   "execution_count": 15,
   "metadata": {},
   "outputs": [],
   "source": [
    "# Plotting tools\n",
    "import pyLDAvis\n",
    "import pyLDAvis.gensim  # don't skip this\n",
    "import matplotlib.pyplot as plt\n",
    "%matplotlib inline"
   ]
  },
  {
   "cell_type": "code",
   "execution_count": 38,
   "metadata": {},
   "outputs": [
    {
     "name": "stderr",
     "output_type": "stream",
     "text": [
      "FutureWarning: Sorting because non-concatenation axis is not aligned. A future version\n",
      "of pandas will change to not sort by default.\n",
      "\n",
      "To accept the future behavior, pass 'sort=False'.\n",
      "\n",
      "To retain the current behavior and silence the warning, pass 'sort=True'.\n",
      " [_prepare.py:257]\n"
     ]
    }
   ],
   "source": [
    "pyLDAvis.enable_notebook()\n",
    "# The sort_topics=False makes the topic model numbers agree [+1] with the topic model from gensim\n",
    "# Gensim's topic numbers' are zero indexed, and the vis index is 1 indexed\n",
    "vis = pyLDAvis.gensim.prepare(lda_model, corpus, corpus_dict, sort_topics=False, mds='mmds')"
   ]
  },
  {
   "cell_type": "code",
   "execution_count": 43,
   "metadata": {},
   "outputs": [
    {
     "data": {
      "text/html": [
       "\n",
       "<link rel=\"stylesheet\" type=\"text/css\" href=\"https://cdn.rawgit.com/bmabey/pyLDAvis/files/ldavis.v1.0.0.css\">\n",
       "\n",
       "\n",
       "<div id=\"ldavis_el3096045261143848052092986\"></div>\n",
       "<script type=\"text/javascript\">\n",
       "\n",
       "var ldavis_el3096045261143848052092986_data = {\"mdsDat\": {\"x\": [-0.14187641556667444, 0.23768811385137847, -0.30963785229899504, 0.5080197500311886, 0.13942442253990991, -0.27991732427626687, -0.1676146581094137, -0.5127033901152123, 0.04641298387559676, 0.48033943560914344, 0.31044219314687516, 0.21511129909458743, 0.08514327668521521, 0.07458052259574094, -0.07899928767065237, -0.2847336411687099, -0.003352431146426883, 0.4471062829822918, -0.25200237203914816, 0.16797298824254367, -0.1763323824278962, -0.33759488254007997, -0.4784212412815849, -0.0033524310876970765, 0.31429704107428613], \"y\": [0.45193887560337137, -0.179055472395911, -0.25565319667194275, 0.17645531222588406, 0.43273859460308317, -0.4274602683163273, -0.1243206048483221, 0.1114939690202477, -0.2562093760524021, -0.20616972243141787, 0.3335943737482917, 0.09956805451377947, -0.4708623152894763, 0.27888898942072937, -0.4372269114799322, 0.11723091319202526, 0.03506168737362911, -0.04694798302338023, 0.007852627393924045, 0.268543969063673, 0.30683809036505283, 0.3057663721502832, -0.11996396774028081, 0.03506168731130047, -0.4371636977358817], \"topics\": [1, 2, 3, 4, 5, 6, 7, 8, 9, 10, 11, 12, 13, 14, 15, 16, 17, 18, 19, 20, 21, 22, 23, 24, 25], \"cluster\": [1, 1, 1, 1, 1, 1, 1, 1, 1, 1, 1, 1, 1, 1, 1, 1, 1, 1, 1, 1, 1, 1, 1, 1, 1], \"Freq\": [3.5415661334991455, 2.2555079460144043, 4.095958709716797, 1.0355740785598755, 4.8525919914245605, 1.704988956451416, 5.764232158660889, 1.3784197568893433, 3.555053472518921, 3.076549530029297, 3.449643850326538, 12.626311302185059, 2.762901544570923, 19.958881378173828, 2.4398820400238037, 3.8701303005218506, 0.06964190304279327, 1.1678105592727661, 4.217513084411621, 9.02137565612793, 2.9137513637542725, 3.449894428253174, 1.8759468793869019, 0.06964190304279327, 0.8462415933609009]}, \"tinfo\": {\"Category\": [\"Default\", \"Default\", \"Default\", \"Default\", \"Default\", \"Default\", \"Default\", \"Default\", \"Default\", \"Default\", \"Default\", \"Default\", \"Default\", \"Default\", \"Default\", \"Default\", \"Default\", \"Default\", \"Default\", \"Default\", \"Default\", \"Default\", \"Default\", \"Default\", \"Default\", \"Default\", \"Default\", \"Default\", \"Default\", \"Default\", \"Topic1\", \"Topic1\", \"Topic1\", \"Topic1\", \"Topic1\", \"Topic1\", \"Topic1\", \"Topic1\", \"Topic1\", \"Topic1\", \"Topic1\", \"Topic1\", \"Topic1\", \"Topic1\", \"Topic1\", \"Topic1\", \"Topic1\", \"Topic1\", \"Topic1\", \"Topic1\", \"Topic1\", \"Topic1\", \"Topic1\", \"Topic1\", \"Topic1\", \"Topic1\", \"Topic1\", \"Topic1\", \"Topic1\", \"Topic1\", \"Topic1\", \"Topic1\", \"Topic1\", \"Topic1\", \"Topic1\", \"Topic1\", \"Topic1\", \"Topic1\", \"Topic1\", \"Topic1\", \"Topic1\", \"Topic1\", \"Topic1\", \"Topic2\", \"Topic2\", \"Topic2\", \"Topic2\", \"Topic2\", \"Topic2\", \"Topic2\", \"Topic2\", \"Topic2\", \"Topic2\", \"Topic2\", \"Topic2\", \"Topic2\", \"Topic2\", \"Topic2\", \"Topic2\", \"Topic2\", \"Topic2\", \"Topic2\", \"Topic2\", \"Topic2\", \"Topic2\", \"Topic2\", \"Topic2\", \"Topic2\", \"Topic2\", \"Topic2\", \"Topic2\", \"Topic2\", \"Topic2\", \"Topic2\", \"Topic2\", \"Topic2\", \"Topic2\", \"Topic2\", \"Topic2\", \"Topic2\", \"Topic2\", \"Topic2\", \"Topic2\", \"Topic3\", \"Topic3\", \"Topic3\", \"Topic3\", \"Topic3\", \"Topic3\", \"Topic3\", \"Topic3\", \"Topic3\", \"Topic3\", \"Topic3\", \"Topic3\", \"Topic3\", \"Topic3\", \"Topic3\", \"Topic3\", \"Topic3\", \"Topic3\", \"Topic3\", \"Topic3\", \"Topic3\", \"Topic3\", \"Topic3\", \"Topic3\", \"Topic3\", \"Topic3\", \"Topic3\", \"Topic3\", \"Topic3\", \"Topic3\", \"Topic3\", \"Topic3\", \"Topic3\", \"Topic3\", \"Topic3\", \"Topic3\", \"Topic3\", \"Topic3\", \"Topic3\", \"Topic3\", \"Topic4\", \"Topic4\", \"Topic4\", \"Topic4\", \"Topic4\", \"Topic4\", \"Topic4\", \"Topic4\", \"Topic4\", \"Topic4\", \"Topic4\", \"Topic4\", \"Topic4\", \"Topic4\", \"Topic4\", \"Topic4\", \"Topic4\", \"Topic4\", \"Topic4\", \"Topic4\", \"Topic4\", \"Topic4\", \"Topic4\", \"Topic4\", \"Topic4\", \"Topic4\", \"Topic4\", \"Topic4\", \"Topic4\", \"Topic4\", \"Topic4\", \"Topic4\", \"Topic4\", \"Topic4\", \"Topic4\", \"Topic4\", \"Topic4\", \"Topic4\", \"Topic4\", \"Topic4\", \"Topic4\", \"Topic4\", \"Topic4\", \"Topic4\", \"Topic4\", \"Topic4\", \"Topic4\", \"Topic4\", \"Topic4\", \"Topic4\", \"Topic4\", \"Topic4\", \"Topic5\", \"Topic5\", \"Topic5\", \"Topic5\", \"Topic5\", \"Topic5\", \"Topic5\", \"Topic5\", \"Topic5\", \"Topic5\", \"Topic5\", \"Topic5\", \"Topic5\", \"Topic5\", \"Topic5\", \"Topic5\", \"Topic5\", \"Topic5\", \"Topic5\", \"Topic5\", \"Topic5\", \"Topic5\", \"Topic5\", \"Topic5\", \"Topic5\", \"Topic5\", \"Topic5\", \"Topic5\", \"Topic5\", \"Topic5\", \"Topic5\", \"Topic5\", \"Topic5\", \"Topic5\", \"Topic5\", \"Topic5\", \"Topic5\", \"Topic5\", \"Topic5\", \"Topic5\", \"Topic5\", \"Topic5\", \"Topic6\", \"Topic6\", \"Topic6\", \"Topic6\", \"Topic6\", \"Topic6\", \"Topic6\", \"Topic6\", \"Topic6\", \"Topic6\", \"Topic6\", \"Topic6\", \"Topic6\", \"Topic6\", \"Topic6\", \"Topic6\", \"Topic6\", \"Topic6\", \"Topic6\", \"Topic6\", \"Topic6\", \"Topic6\", \"Topic6\", \"Topic6\", \"Topic6\", \"Topic6\", \"Topic6\", \"Topic6\", \"Topic6\", \"Topic6\", \"Topic6\", \"Topic6\", \"Topic6\", \"Topic6\", \"Topic6\", \"Topic6\", \"Topic6\", \"Topic6\", \"Topic6\", \"Topic6\", \"Topic6\", \"Topic6\", \"Topic6\", \"Topic6\", \"Topic6\", \"Topic6\", \"Topic6\", \"Topic7\", \"Topic7\", \"Topic7\", \"Topic7\", \"Topic7\", \"Topic7\", \"Topic7\", \"Topic7\", \"Topic7\", \"Topic7\", \"Topic7\", \"Topic7\", \"Topic7\", \"Topic7\", \"Topic7\", \"Topic7\", \"Topic7\", \"Topic7\", \"Topic7\", \"Topic7\", \"Topic7\", \"Topic7\", \"Topic7\", \"Topic7\", \"Topic7\", \"Topic7\", \"Topic7\", \"Topic7\", \"Topic7\", \"Topic7\", \"Topic7\", \"Topic7\", \"Topic8\", \"Topic8\", \"Topic8\", \"Topic8\", \"Topic8\", \"Topic8\", \"Topic8\", \"Topic8\", \"Topic8\", \"Topic8\", \"Topic8\", \"Topic8\", \"Topic8\", \"Topic8\", \"Topic8\", \"Topic8\", \"Topic8\", \"Topic8\", \"Topic8\", \"Topic8\", \"Topic8\", \"Topic8\", \"Topic8\", \"Topic8\", \"Topic8\", \"Topic8\", \"Topic8\", \"Topic8\", \"Topic8\", \"Topic8\", \"Topic8\", \"Topic8\", \"Topic8\", \"Topic8\", \"Topic8\", \"Topic8\", \"Topic8\", \"Topic8\", \"Topic8\", \"Topic8\", \"Topic8\", \"Topic8\", \"Topic8\", \"Topic8\", \"Topic8\", \"Topic8\", \"Topic8\", \"Topic9\", \"Topic9\", \"Topic9\", \"Topic9\", \"Topic9\", \"Topic9\", \"Topic9\", \"Topic9\", \"Topic9\", \"Topic9\", \"Topic9\", \"Topic9\", \"Topic9\", \"Topic9\", \"Topic9\", \"Topic9\", \"Topic9\", \"Topic9\", \"Topic9\", \"Topic9\", \"Topic9\", \"Topic9\", \"Topic9\", \"Topic9\", \"Topic9\", \"Topic9\", \"Topic9\", \"Topic9\", \"Topic9\", \"Topic9\", \"Topic9\", \"Topic9\", \"Topic9\", \"Topic9\", \"Topic9\", \"Topic9\", \"Topic9\", \"Topic9\", \"Topic9\", \"Topic9\", \"Topic9\", \"Topic9\", \"Topic10\", \"Topic10\", \"Topic10\", \"Topic10\", \"Topic10\", \"Topic10\", \"Topic10\", \"Topic10\", \"Topic10\", \"Topic10\", \"Topic10\", \"Topic10\", \"Topic10\", \"Topic10\", \"Topic10\", \"Topic10\", \"Topic10\", \"Topic10\", \"Topic10\", \"Topic10\", \"Topic10\", \"Topic10\", \"Topic10\", \"Topic10\", \"Topic10\", \"Topic10\", \"Topic10\", \"Topic10\", \"Topic10\", \"Topic10\", \"Topic10\", \"Topic10\", \"Topic10\", \"Topic10\", \"Topic10\", \"Topic10\", \"Topic10\", \"Topic10\", \"Topic10\", \"Topic10\", \"Topic10\", \"Topic10\", \"Topic10\", \"Topic10\", \"Topic10\", \"Topic10\", \"Topic10\", \"Topic10\", \"Topic10\", \"Topic10\", \"Topic10\", \"Topic11\", \"Topic11\", \"Topic11\", \"Topic11\", \"Topic11\", \"Topic11\", \"Topic11\", \"Topic11\", \"Topic11\", \"Topic11\", \"Topic11\", \"Topic11\", \"Topic11\", \"Topic11\", \"Topic11\", \"Topic11\", \"Topic11\", \"Topic11\", \"Topic11\", \"Topic11\", \"Topic11\", \"Topic11\", \"Topic11\", \"Topic11\", \"Topic11\", \"Topic11\", \"Topic11\", \"Topic11\", \"Topic11\", \"Topic11\", \"Topic11\", \"Topic11\", \"Topic11\", \"Topic11\", \"Topic11\", \"Topic11\", \"Topic11\", \"Topic11\", \"Topic11\", \"Topic11\", \"Topic11\", \"Topic12\", \"Topic12\", \"Topic12\", \"Topic12\", \"Topic12\", \"Topic12\", \"Topic12\", \"Topic12\", \"Topic12\", \"Topic12\", \"Topic12\", \"Topic12\", \"Topic12\", \"Topic12\", \"Topic12\", \"Topic12\", \"Topic12\", \"Topic12\", \"Topic12\", \"Topic12\", \"Topic12\", \"Topic12\", \"Topic12\", \"Topic12\", \"Topic12\", \"Topic12\", \"Topic12\", \"Topic12\", \"Topic12\", \"Topic12\", \"Topic12\", \"Topic12\", \"Topic12\", \"Topic12\", \"Topic13\", \"Topic13\", \"Topic13\", \"Topic13\", \"Topic13\", \"Topic13\", \"Topic13\", \"Topic13\", \"Topic13\", \"Topic13\", \"Topic13\", \"Topic13\", \"Topic13\", \"Topic13\", \"Topic13\", \"Topic13\", \"Topic13\", \"Topic13\", \"Topic13\", \"Topic13\", \"Topic13\", \"Topic13\", \"Topic13\", \"Topic13\", \"Topic13\", \"Topic13\", \"Topic13\", \"Topic13\", \"Topic13\", \"Topic13\", \"Topic13\", \"Topic13\", \"Topic13\", \"Topic13\", \"Topic13\", \"Topic13\", \"Topic13\", \"Topic13\", \"Topic13\", \"Topic13\", \"Topic13\", \"Topic13\", \"Topic13\", \"Topic13\", \"Topic13\", \"Topic13\", \"Topic13\", \"Topic13\", \"Topic14\", \"Topic14\", \"Topic14\", \"Topic14\", \"Topic14\", \"Topic14\", \"Topic14\", \"Topic14\", \"Topic14\", \"Topic14\", \"Topic14\", \"Topic14\", \"Topic14\", \"Topic14\", \"Topic14\", \"Topic14\", \"Topic14\", \"Topic14\", \"Topic14\", \"Topic14\", \"Topic14\", \"Topic14\", \"Topic14\", \"Topic14\", \"Topic14\", \"Topic14\", \"Topic14\", \"Topic14\", \"Topic14\", \"Topic14\", \"Topic14\", \"Topic14\", \"Topic14\", \"Topic15\", \"Topic15\", \"Topic15\", \"Topic15\", \"Topic15\", \"Topic15\", \"Topic15\", \"Topic15\", \"Topic15\", \"Topic15\", \"Topic15\", \"Topic15\", \"Topic15\", \"Topic15\", \"Topic15\", \"Topic15\", \"Topic15\", \"Topic15\", \"Topic15\", \"Topic15\", \"Topic15\", \"Topic15\", \"Topic15\", \"Topic15\", \"Topic15\", \"Topic15\", \"Topic15\", \"Topic15\", \"Topic15\", \"Topic15\", \"Topic15\", \"Topic15\", \"Topic15\", \"Topic15\", \"Topic15\", \"Topic15\", \"Topic15\", \"Topic15\", \"Topic15\", \"Topic15\", \"Topic15\", \"Topic15\", \"Topic15\", \"Topic15\", \"Topic15\", \"Topic15\", \"Topic15\", \"Topic15\", \"Topic16\", \"Topic16\", \"Topic16\", \"Topic16\", \"Topic16\", \"Topic16\", \"Topic16\", \"Topic16\", \"Topic16\", \"Topic16\", \"Topic16\", \"Topic16\", \"Topic16\", \"Topic16\", \"Topic16\", \"Topic16\", \"Topic16\", \"Topic16\", \"Topic16\", \"Topic16\", \"Topic16\", \"Topic16\", \"Topic16\", \"Topic16\", \"Topic16\", \"Topic16\", \"Topic16\", \"Topic16\", \"Topic16\", \"Topic16\", \"Topic16\", \"Topic16\", \"Topic16\", \"Topic16\", \"Topic16\", \"Topic17\", \"Topic17\", \"Topic17\", \"Topic17\", \"Topic17\", \"Topic17\", \"Topic17\", \"Topic17\", \"Topic17\", \"Topic17\", \"Topic17\", \"Topic17\", \"Topic17\", \"Topic17\", \"Topic17\", \"Topic17\", \"Topic17\", \"Topic17\", \"Topic17\", \"Topic17\", \"Topic17\", \"Topic17\", \"Topic17\", \"Topic17\", \"Topic17\", \"Topic17\", \"Topic17\", \"Topic17\", \"Topic17\", \"Topic17\", \"Topic17\", \"Topic17\", \"Topic17\", \"Topic17\", \"Topic17\", \"Topic17\", \"Topic17\", \"Topic17\", \"Topic17\", \"Topic17\", \"Topic17\", \"Topic17\", \"Topic17\", \"Topic17\", \"Topic17\", \"Topic17\", \"Topic17\", \"Topic17\", \"Topic17\", \"Topic17\", \"Topic17\", \"Topic17\", \"Topic17\", \"Topic17\", \"Topic18\", \"Topic18\", \"Topic18\", \"Topic18\", \"Topic18\", \"Topic18\", \"Topic18\", \"Topic18\", \"Topic18\", \"Topic18\", \"Topic18\", \"Topic18\", \"Topic18\", \"Topic18\", \"Topic18\", \"Topic18\", \"Topic18\", \"Topic18\", \"Topic18\", \"Topic18\", \"Topic18\", \"Topic18\", \"Topic18\", \"Topic18\", \"Topic18\", \"Topic18\", \"Topic18\", \"Topic18\", \"Topic18\", \"Topic18\", \"Topic18\", \"Topic18\", \"Topic18\", \"Topic18\", \"Topic18\", \"Topic18\", \"Topic18\", \"Topic18\", \"Topic18\", \"Topic18\", \"Topic18\", \"Topic18\", \"Topic18\", \"Topic18\", \"Topic18\", \"Topic18\", \"Topic18\", \"Topic18\", \"Topic18\", \"Topic19\", \"Topic19\", \"Topic19\", \"Topic19\", \"Topic19\", \"Topic19\", \"Topic19\", \"Topic19\", \"Topic19\", \"Topic19\", \"Topic19\", \"Topic19\", \"Topic19\", \"Topic19\", \"Topic19\", \"Topic19\", \"Topic19\", \"Topic19\", \"Topic19\", \"Topic19\", \"Topic19\", \"Topic19\", \"Topic19\", \"Topic19\", \"Topic19\", \"Topic19\", \"Topic19\", \"Topic19\", \"Topic19\", \"Topic19\", \"Topic19\", \"Topic19\", \"Topic19\", \"Topic20\", \"Topic20\", \"Topic20\", \"Topic20\", \"Topic20\", \"Topic20\", \"Topic20\", \"Topic20\", \"Topic20\", \"Topic20\", \"Topic20\", \"Topic20\", \"Topic20\", \"Topic20\", \"Topic20\", \"Topic20\", \"Topic20\", \"Topic20\", \"Topic20\", \"Topic20\", \"Topic20\", \"Topic20\", \"Topic20\", \"Topic20\", \"Topic20\", \"Topic20\", \"Topic20\", \"Topic20\", \"Topic20\", \"Topic20\", \"Topic20\", \"Topic20\", \"Topic20\", \"Topic21\", \"Topic21\", \"Topic21\", \"Topic21\", \"Topic21\", \"Topic21\", \"Topic21\", \"Topic21\", \"Topic21\", \"Topic21\", \"Topic21\", \"Topic21\", \"Topic21\", \"Topic21\", \"Topic21\", \"Topic21\", \"Topic21\", \"Topic21\", \"Topic21\", \"Topic21\", \"Topic21\", \"Topic21\", \"Topic21\", \"Topic21\", \"Topic21\", \"Topic21\", \"Topic21\", \"Topic21\", \"Topic21\", \"Topic21\", \"Topic21\", \"Topic21\", \"Topic21\", \"Topic21\", \"Topic21\", \"Topic21\", \"Topic21\", \"Topic21\", \"Topic21\", \"Topic21\", \"Topic21\", \"Topic21\", \"Topic22\", \"Topic22\", \"Topic22\", \"Topic22\", \"Topic22\", \"Topic22\", \"Topic22\", \"Topic22\", \"Topic22\", \"Topic22\", \"Topic22\", \"Topic22\", \"Topic22\", \"Topic22\", \"Topic22\", \"Topic22\", \"Topic22\", \"Topic22\", \"Topic22\", \"Topic22\", \"Topic22\", \"Topic22\", \"Topic22\", \"Topic22\", \"Topic22\", \"Topic22\", \"Topic22\", \"Topic22\", \"Topic22\", \"Topic22\", \"Topic22\", \"Topic22\", \"Topic22\", \"Topic22\", \"Topic22\", \"Topic22\", \"Topic22\", \"Topic22\", \"Topic22\", \"Topic23\", \"Topic23\", \"Topic23\", \"Topic23\", \"Topic23\", \"Topic23\", \"Topic23\", \"Topic23\", \"Topic23\", \"Topic23\", \"Topic23\", \"Topic23\", \"Topic23\", \"Topic23\", \"Topic23\", \"Topic23\", \"Topic23\", \"Topic23\", \"Topic23\", \"Topic23\", \"Topic23\", \"Topic23\", \"Topic23\", \"Topic23\", \"Topic23\", \"Topic23\", \"Topic23\", \"Topic23\", \"Topic23\", \"Topic23\", \"Topic23\", \"Topic23\", \"Topic23\", \"Topic23\", \"Topic23\", \"Topic23\", \"Topic23\", \"Topic23\", \"Topic23\", \"Topic23\", \"Topic23\", \"Topic23\", \"Topic23\", \"Topic23\", \"Topic23\", \"Topic23\", \"Topic24\", \"Topic24\", \"Topic24\", \"Topic24\", \"Topic24\", \"Topic24\", \"Topic24\", \"Topic24\", \"Topic24\", \"Topic24\", \"Topic24\", \"Topic24\", \"Topic24\", \"Topic24\", \"Topic24\", \"Topic24\", \"Topic24\", \"Topic24\", \"Topic24\", \"Topic24\", \"Topic24\", \"Topic24\", \"Topic24\", \"Topic24\", \"Topic24\", \"Topic24\", \"Topic24\", \"Topic24\", \"Topic24\", \"Topic24\", \"Topic24\", \"Topic24\", \"Topic24\", \"Topic24\", \"Topic24\", \"Topic24\", \"Topic24\", \"Topic24\", \"Topic24\", \"Topic24\", \"Topic24\", \"Topic24\", \"Topic24\", \"Topic24\", \"Topic24\", \"Topic24\", \"Topic24\", \"Topic24\", \"Topic24\", \"Topic24\", \"Topic24\", \"Topic24\", \"Topic24\", \"Topic24\", \"Topic25\", \"Topic25\", \"Topic25\", \"Topic25\", \"Topic25\", \"Topic25\", \"Topic25\", \"Topic25\", \"Topic25\", \"Topic25\", \"Topic25\", \"Topic25\", \"Topic25\", \"Topic25\", \"Topic25\", \"Topic25\", \"Topic25\", \"Topic25\", \"Topic25\", \"Topic25\", \"Topic25\", \"Topic25\", \"Topic25\", \"Topic25\", \"Topic25\", \"Topic25\", \"Topic25\", \"Topic25\", \"Topic25\", \"Topic25\", \"Topic25\", \"Topic25\", \"Topic25\", \"Topic25\", \"Topic25\", \"Topic25\", \"Topic25\", \"Topic25\", \"Topic25\", \"Topic25\", \"Topic25\", \"Topic25\", \"Topic25\", \"Topic25\", \"Topic25\", \"Topic25\", \"Topic25\", \"Topic25\", \"Topic25\", \"Topic25\", \"Topic25\", \"Topic25\"], \"Freq\": [2532.0, 932.0, 1812.0, 2171.0, 680.0, 944.0, 704.0, 1182.0, 929.0, 689.0, 583.0, 1016.0, 1019.0, 797.0, 371.0, 446.0, 437.0, 416.0, 317.0, 241.0, 281.0, 534.0, 259.0, 352.0, 491.0, 395.0, 357.0, 435.0, 333.0, 255.0, 840.1409912109375, 180.41903686523438, 83.85916900634766, 35.33431625366211, 24.29854965209961, 96.18234252929688, 53.64476013183594, 20.215097427368164, 30.25152015686035, 17.204179763793945, 15.945401191711426, 5.646718502044678, 10.027931213378906, 0.9563875198364258, 0.0529736690223217, 0.0529736690223217, 0.0529736690223217, 0.0529736690223217, 0.0529736690223217, 0.0529736690223217, 0.0529736690223217, 0.0529736690223217, 0.0529736690223217, 0.0529736690223217, 0.0529736690223217, 0.0529736690223217, 0.0529736690223217, 0.0529736690223217, 0.0529736690223217, 0.0529736690223217, 0.0529736690223217, 0.0529736690223217, 0.0529736690223217, 0.0529736690223217, 0.0529736690223217, 0.0529736690223217, 0.0529736690223217, 0.0529736690223217, 0.0529736690223217, 0.0529736690223217, 0.0529736690223217, 0.0529736690223217, 0.0529736690223217, 232.20864868164062, 155.36721801757812, 81.51493835449219, 93.12672424316406, 41.26802062988281, 35.1716194152832, 24.04719352722168, 35.572818756103516, 21.69837188720703, 31.919260025024414, 28.42780876159668, 18.88137435913086, 21.123598098754883, 15.641400337219238, 9.766441345214844, 25.2415771484375, 7.4571075439453125, 8.104122161865234, 13.158620834350586, 0.04618078097701073, 0.04618078097701073, 0.04618078097701073, 0.04618078097701073, 0.04618078097701073, 0.04618078097701073, 0.04618078097701073, 0.04618078097701073, 0.04618078097701073, 0.04618078097701073, 0.04618078097701073, 0.04618078097701073, 0.04618078097701073, 0.04618078097701073, 0.04618078097701073, 0.04618078097701073, 0.04618078097701073, 0.04618078097701073, 0.04618078097701073, 0.04618078097701073, 0.04618078097701073, 189.76943969726562, 255.5122833251953, 316.76776123046875, 323.6287536621094, 62.5081901550293, 70.27690124511719, 82.44605255126953, 40.27552795410156, 23.14737319946289, 44.5850715637207, 41.850990295410156, 44.67560577392578, 21.76531410217285, 26.815488815307617, 23.42460060119629, 11.486713409423828, 18.56665802001953, 8.166106224060059, 21.578153610229492, 9.79008674621582, 0.04757533594965935, 0.04757533594965935, 0.04757533594965935, 0.04757533594965935, 0.04757533594965935, 0.04757533594965935, 0.04757533594965935, 0.04757533594965935, 0.04757533594965935, 0.04757533594965935, 0.04757533594965935, 0.04757533594965935, 0.04757533594965935, 0.04757533594965935, 0.04757533594965935, 0.04757533594965935, 0.04757533594965935, 0.04757533594965935, 0.04757533594965935, 0.04757533594965935, 402.4260559082031, 3.2609009742736816, 3.701306104660034, 0.05374039709568024, 0.05374039709568024, 0.05374039709568024, 0.05374039709568024, 0.05374039709568024, 0.05374039709568024, 0.05374039709568024, 0.05374039709568024, 0.05374039709568024, 0.05374039709568024, 0.05374039709568024, 0.05374039709568024, 0.05374039709568024, 0.05374039709568024, 0.05374039709568024, 0.05374039709568024, 0.05374039709568024, 0.05374039709568024, 0.05374039709568024, 0.05374039709568024, 0.05374039709568024, 0.05374039709568024, 0.05374039709568024, 0.05374039709568024, 0.05374039709568024, 0.05374039709568024, 0.05374039709568024, 0.05374039709568024, 0.05374039709568024, 0.05374039709568024, 0.05374039709568024, 0.05374039709568024, 0.05374039709568024, 0.05374039709568024, 0.05374039709568024, 0.05374039709568024, 0.05374039709568024, 0.05374039709568024, 0.05374039709568024, 0.05374039709568024, 0.05374039709568024, 0.05374039709568024, 0.05374039709568024, 0.05374039709568024, 0.05374039709568024, 0.05374039709568024, 0.05374039709568024, 0.05374039709568024, 0.05374039709568024, 213.9088897705078, 731.6500244140625, 395.0826721191406, 170.8198699951172, 60.01937484741211, 57.932960510253906, 52.96257781982422, 48.64692306518555, 14.652846336364746, 47.36699295043945, 66.48650360107422, 29.40078353881836, 33.02867126464844, 8.929553031921387, 9.902286529541016, 0.038439229130744934, 0.038439229130744934, 0.038439229130744934, 0.038439229130744934, 0.038439229130744934, 0.038439229130744934, 0.038439229130744934, 0.038439229130744934, 0.038439229130744934, 0.038439229130744934, 0.038439229130744934, 0.038439229130744934, 0.038439229130744934, 0.038439229130744934, 0.038439229130744934, 0.038439229130744934, 0.038439229130744934, 0.038439229130744934, 0.038439229130744934, 0.038439229130744934, 0.038439229130744934, 0.038439229130744934, 0.038439229130744934, 0.038439229130744934, 0.038439229130744934, 0.038439229130744934, 0.038439229130744934, 257.56805419921875, 151.1322784423828, 84.13056182861328, 66.35933685302734, 33.068511962890625, 15.802807807922363, 15.66208553314209, 55.52260971069336, 0.039712756872177124, 0.039712756872177124, 0.039712756872177124, 0.039712756872177124, 0.039712756872177124, 0.039712756872177124, 0.039712756872177124, 0.039712756872177124, 0.039712756872177124, 0.039712756872177124, 0.039712756872177124, 0.039712756872177124, 0.039712756872177124, 0.039712756872177124, 0.039712756872177124, 0.039712756872177124, 0.039712756872177124, 0.039712756872177124, 0.039712756872177124, 0.039712756872177124, 0.039712756872177124, 0.039712756872177124, 0.039712756872177124, 0.039712756872177124, 0.039712756872177124, 0.039712756872177124, 0.039712756872177124, 0.039712756872177124, 0.039712756872177124, 0.039712756872177124, 0.039712756872177124, 0.039712756872177124, 0.039712756872177124, 0.039712756872177124, 0.039712756872177124, 0.039712756872177124, 0.039712756872177124, 0.039712756872177124, 0.039712756872177124, 210.41757202148438, 207.87432861328125, 207.74598693847656, 201.99827575683594, 100.20023345947266, 128.0831756591797, 72.7799301147461, 65.41557312011719, 78.39875030517578, 140.25152587890625, 51.86221694946289, 63.60066604614258, 65.9345932006836, 37.59522247314453, 36.160858154296875, 34.83512878417969, 36.240570068359375, 34.00794219970703, 36.47829818725586, 28.510805130004883, 25.41383934020996, 29.707775115966797, 65.3567123413086, 60.612606048583984, 25.50423812866211, 18.771621704101562, 34.40365219116211, 47.50216293334961, 35.89781188964844, 19.3294620513916, 39.11378479003906, 47.33731460571289, 217.387939453125, 151.7764434814453, 81.39581298828125, 41.077640533447266, 16.775466918945312, 14.046534538269043, 17.812650680541992, 8.798685073852539, 0.032862208783626556, 0.032862208783626556, 0.032862208783626556, 0.032862208783626556, 0.032862208783626556, 0.032862208783626556, 0.032862208783626556, 0.032862208783626556, 0.032862208783626556, 0.032862208783626556, 0.032862208783626556, 0.032862208783626556, 0.032862208783626556, 0.032862208783626556, 0.032862208783626556, 0.032862208783626556, 0.032862208783626556, 0.032862208783626556, 0.032862208783626556, 0.032862208783626556, 0.032862208783626556, 0.032862208783626556, 0.032862208783626556, 0.032862208783626556, 0.032862208783626556, 0.032862208783626556, 0.032862208783626556, 0.032862208783626556, 0.032862208783626556, 0.032862208783626556, 0.032862208783626556, 0.032862208783626556, 0.032862208783626556, 0.032862208783626556, 0.032862208783626556, 0.032862208783626556, 0.032862208783626556, 0.032862208783626556, 0.032862208783626556, 293.88763427734375, 220.05792236328125, 163.14895629882812, 123.60633087158203, 193.75584411621094, 58.338958740234375, 38.49672317504883, 95.08309936523438, 44.17170715332031, 36.29137420654297, 67.39310455322266, 10.206155776977539, 12.010266304016113, 32.39104080200195, 10.509929656982422, 3.3303182125091553, 17.75398826599121, 0.044609129428863525, 0.044609129428863525, 0.044609129428863525, 0.044609129428863525, 0.044609129428863525, 0.044609129428863525, 0.044609129428863525, 0.044609129428863525, 0.044609129428863525, 0.044609129428863525, 0.044609129428863525, 0.044609129428863525, 0.044609129428863525, 0.04461023584008217, 0.044609129428863525, 0.044609129428863525, 0.044609129428863525, 0.044609129428863525, 0.044609129428863525, 0.044609129428863525, 0.044609129428863525, 0.044609129428863525, 0.044609129428863525, 0.044609129428863525, 0.044609129428863525, 460.1859436035156, 403.0997314453125, 175.38648986816406, 159.0143585205078, 30.392078399658203, 0.04557228088378906, 0.04557228088378906, 0.04557228088378906, 0.04557228088378906, 0.04557228088378906, 0.04557228088378906, 0.04557228088378906, 0.04557228088378906, 0.04557228088378906, 0.04557228088378906, 0.04557228088378906, 0.04557228088378906, 0.04557228088378906, 0.04557228088378906, 0.04557228088378906, 0.04557228088378906, 0.04557228088378906, 0.04557228088378906, 0.04557228088378906, 0.04557228088378906, 0.04557228088378906, 0.04557228088378906, 0.04557228088378906, 0.04557228088378906, 0.04557228088378906, 0.04557228088378906, 0.04557228088378906, 0.04557228088378906, 0.04557228088378906, 0.04557228088378906, 0.04557228088378906, 0.04557228088378906, 0.04557228088378906, 0.04557228088378906, 0.04557228088378906, 0.04557228088378906, 0.04557228088378906, 0.04557228088378906, 0.04557228088378906, 0.04557228088378906, 0.04557228088378906, 0.04557228088378906, 0.04557228088378906, 0.04557228088378906, 0.04557228088378906, 0.04557228088378906, 277.0184020996094, 126.47921752929688, 63.2598876953125, 257.6477355957031, 66.43280029296875, 98.98536682128906, 110.13066101074219, 103.98526000976562, 47.805660247802734, 28.842315673828125, 35.179073333740234, 82.03710174560547, 11.724599838256836, 12.15363883972168, 8.399200439453125, 23.31233787536621, 16.722183227539062, 9.081352233886719, 0.03377902880311012, 0.03377902880311012, 0.03377902880311012, 0.03377902880311012, 0.03377902880311012, 0.03377902880311012, 0.03377902880311012, 0.03377902880311012, 0.03377902880311012, 0.03377902880311012, 0.03377902880311012, 0.03377902880311012, 0.03377902880311012, 0.03377902880311012, 0.03377902880311012, 0.03377902880311012, 0.03377902880311012, 0.03377902880311012, 0.03377902880311012, 0.03377902880311012, 0.03377902880311012, 0.03377902880311012, 0.03377902880311012, 367.4254150390625, 367.18145751953125, 256.0531311035156, 170.69943237304688, 790.7067260742188, 220.8148956298828, 203.1561737060547, 150.15890502929688, 285.35791015625, 92.08100891113281, 45.50408172607422, 43.776248931884766, 49.87102508544922, 78.3573226928711, 92.20047760009766, 169.03785705566406, 91.5490951538086, 41.324928283691406, 46.00752258300781, 172.55982971191406, 335.5011291503906, 55.41276550292969, 29.575960159301758, 37.61421203613281, 21.0029239654541, 64.42476654052734, 34.01066589355469, 31.72050666809082, 36.6723747253418, 31.76709747314453, 134.23635864257812, 103.02877807617188, 44.19569396972656, 49.69807815551758, 849.9036865234375, 47.430564880371094, 89.15074157714844, 31.983478546142578, 37.048160552978516, 18.5445556640625, 12.541752815246582, 15.222700119018555, 0.05292331054806709, 0.05292331054806709, 0.05292331054806709, 0.05292331054806709, 0.05292331054806709, 0.05292331054806709, 0.05292331054806709, 0.05292331054806709, 0.05292331054806709, 0.05292331054806709, 0.05292331054806709, 0.05292331054806709, 0.05292331054806709, 0.05292331054806709, 0.05292331054806709, 0.05292331054806709, 0.05292331054806709, 0.05292331054806709, 0.05292331054806709, 0.05292331054806709, 0.05292331054806709, 0.05292331054806709, 0.05292331054806709, 0.05292331054806709, 0.05292331054806709, 0.05292331054806709, 0.05292331054806709, 0.05292331054806709, 0.05292331054806709, 0.05292331054806709, 0.05292331054806709, 0.05292331054806709, 0.05292331054806709, 0.05292331054806709, 0.05292331054806709, 0.05292331054806709, 0.05292331054806709, 0.05292331054806709, 0.05292331054806709, 0.05292331054806709, 2045.948974609375, 2372.374755859375, 249.35113525390625, 98.28365325927734, 100.28035736083984, 59.60210418701172, 88.55351257324219, 276.165771484375, 77.06929016113281, 102.7361068725586, 81.41082763671875, 67.10484313964844, 109.65792846679688, 82.82552337646484, 74.33265686035156, 244.48703002929688, 121.694091796875, 102.14585876464844, 115.95366668701172, 54.65080261230469, 224.24192810058594, 52.61304473876953, 46.05575180053711, 33.810752868652344, 77.51154327392578, 26.03123664855957, 309.74981689453125, 39.545387268066406, 171.32073974609375, 32.92737579345703, 42.98927307128906, 40.68531036376953, 35.08695602416992, 242.14064025878906, 113.2049331665039, 378.17218017578125, 111.53058624267578, 69.46199798583984, 21.707000732421875, 30.38355827331543, 7.9129791259765625, 0.031367503106594086, 0.031367503106594086, 0.031367503106594086, 0.031367503106594086, 0.031367503106594086, 0.031367503106594086, 0.031367503106594086, 0.031367503106594086, 0.031367503106594086, 0.031367503106594086, 0.031367503106594086, 0.031367503106594086, 0.031367503106594086, 0.031367503106594086, 0.031367503106594086, 0.031367503106594086, 0.031367503106594086, 0.031367503106594086, 0.031367503106594086, 0.031367503106594086, 0.031367503106594086, 0.031367503106594086, 0.031367503106594086, 0.031367503106594086, 0.031367503106594086, 0.031367503106594086, 0.031367503106594086, 0.031367503106594086, 0.031367503106594086, 0.031367503106594086, 0.031367503106594086, 0.031367503106594086, 0.031367503106594086, 0.031367503106594086, 0.031367503106594086, 0.031367503106594086, 0.031367503106594086, 0.031367503106594086, 0.031367503106594086, 0.031367503106594086, 159.0071563720703, 103.6126480102539, 81.44103240966797, 87.18944549560547, 245.27276611328125, 61.99333572387695, 95.7746353149414, 97.46080780029297, 66.64803314208984, 70.96016693115234, 71.48662567138672, 47.6965446472168, 40.96125411987305, 37.20741271972656, 82.97831726074219, 23.29130744934082, 44.05106735229492, 14.026568412780762, 26.17406463623047, 14.536226272583008, 37.56650161743164, 13.57394027709961, 8.579236030578613, 15.930535316467285, 0.03933842107653618, 0.03933842107653618, 0.03933842107653618, 0.03933842107653618, 0.03933842107653618, 0.03933842107653618, 0.03933842107653618, 0.03933842107653618, 0.03933842107653618, 0.03933842107653618, 0.03933842107653618, 0.26323992013931274, 0.26323992013931274, 0.26323992013931274, 0.26323992013931274, 0.26323992013931274, 0.26323992013931274, 0.26323992013931274, 0.26323992013931274, 0.26323992013931274, 0.26323992013931274, 0.26323992013931274, 0.26323992013931274, 0.26323992013931274, 0.26323992013931274, 0.26323992013931274, 0.26323992013931274, 0.26323992013931274, 0.26323992013931274, 0.26323992013931274, 0.26323992013931274, 0.26323992013931274, 0.26323992013931274, 0.26323992013931274, 0.26323992013931274, 0.26323992013931274, 0.26323992013931274, 0.26323992013931274, 0.26323992013931274, 0.26323992013931274, 0.26323992013931274, 0.26323992013931274, 0.26323992013931274, 0.26323992013931274, 0.26323992013931274, 0.26323992013931274, 0.26323992013931274, 0.26323992013931274, 0.26323992013931274, 0.26323992013931274, 0.26323992013931274, 0.26323992013931274, 0.26323992013931274, 0.26323992013931274, 0.26323992013931274, 0.26323992013931274, 0.26323992013931274, 0.26323992013931274, 0.26323992013931274, 0.26323992013931274, 0.26323992013931274, 0.26323992013931274, 0.26323992013931274, 0.26323992013931274, 0.26323992013931274, 270.115234375, 54.45321273803711, 64.0293197631836, 22.193716049194336, 23.703733444213867, 23.302576065063477, 6.0776262283325195, 0.040720075368881226, 0.040720075368881226, 0.040720075368881226, 0.040720075368881226, 0.040720075368881226, 0.040720075368881226, 0.040720075368881226, 0.040720075368881226, 0.040720075368881226, 0.040720075368881226, 0.040720075368881226, 0.040720075368881226, 0.040720075368881226, 0.040720075368881226, 0.040720075368881226, 0.040720075368881226, 0.040720075368881226, 0.040720075368881226, 0.040720075368881226, 0.040720075368881226, 0.040720075368881226, 0.040720075368881226, 0.040720075368881226, 0.040720075368881226, 0.040720075368881226, 0.040720075368881226, 0.040720075368881226, 0.040720075368881226, 0.040720075368881226, 0.040720075368881226, 0.040720075368881226, 0.040720075368881226, 0.040720075368881226, 0.040720075368881226, 0.040720075368881226, 0.040720075368881226, 0.040720075368881226, 0.040720075368881226, 0.040720075368881226, 0.040720075368881226, 0.040720075368881226, 0.040720075368881226, 142.1881561279297, 97.1354751586914, 99.94586944580078, 84.38129425048828, 93.6440658569336, 182.5994415283203, 200.64901733398438, 65.21881103515625, 104.22595977783203, 55.8552131652832, 62.9722900390625, 106.89531707763672, 65.19241333007812, 39.52558517456055, 21.57379722595215, 61.663246154785156, 19.93206024169922, 17.277141571044922, 10.984282493591309, 14.545845985412598, 15.372300148010254, 17.534761428833008, 26.46500015258789, 54.81121063232422, 8.518662452697754, 9.242762565612793, 8.96228313446045, 0.03188753500580788, 0.03188753500580788, 0.03188753500580788, 0.03188753500580788, 0.03188753500580788, 0.03188753500580788, 972.8738403320312, 134.7190704345703, 122.59376525878906, 98.9293212890625, 49.96039962768555, 284.80328369140625, 61.1102180480957, 151.93397521972656, 62.458045959472656, 434.62274169921875, 40.104122161865234, 43.9908561706543, 36.504478454589844, 36.408939361572266, 122.05138397216797, 102.28158569335938, 44.8725700378418, 38.32744598388672, 43.276519775390625, 30.123849868774414, 20.572616577148438, 28.150806427001953, 39.9462776184082, 64.60157775878906, 61.60208511352539, 24.941455841064453, 20.60013198852539, 39.32197570800781, 20.810440063476562, 34.17856216430664, 58.14878845214844, 108.5444107055664, 91.02201843261719, 204.56643676757812, 207.19598388671875, 94.39521789550781, 141.83920288085938, 48.20853042602539, 32.756832122802734, 24.281435012817383, 36.691368103027344, 138.5482177734375, 38.08213424682617, 30.583908081054688, 26.67458724975586, 21.04301643371582, 81.2192611694336, 37.05138397216797, 0.047424763441085815, 0.047424763441085815, 0.047424763441085815, 0.047424763441085815, 0.047424763441085815, 0.047424763441085815, 0.047424763441085815, 0.047424763441085815, 0.047424763441085815, 0.047424763441085815, 0.047424763441085815, 0.047424763441085815, 0.047424763441085815, 0.047424763441085815, 0.047424763441085815, 0.047424763441085815, 0.047424763441085815, 0.047424763441085815, 0.047424763441085815, 0.047424763441085815, 0.047424763441085815, 0.047424763441085815, 0.047424763441085815, 0.047424763441085815, 0.047424763441085815, 0.047424763441085815, 0.047424763441085815, 680.2420654296875, 174.2761993408203, 37.62957000732422, 88.91595458984375, 32.283660888671875, 28.112754821777344, 35.133968353271484, 29.0719051361084, 34.76166915893555, 46.13602828979492, 17.143951416015625, 17.015851974487305, 38.882083892822266, 14.723905563354492, 29.364377975463867, 14.063355445861816, 33.73328399658203, 10.147764205932617, 9.735437393188477, 6.68065071105957, 0.04901445284485817, 0.04901445284485817, 0.04901445284485817, 0.04901445284485817, 0.04901445284485817, 0.04901445284485817, 0.04901445284485817, 0.04901445284485817, 0.04901445284485817, 0.04901445284485817, 0.04901445284485817, 0.04901445284485817, 0.04901445284485817, 0.04901445284485817, 0.04901445284485817, 0.04901445284485817, 0.04901445284485817, 0.04901445284485817, 0.04901445284485817, 285.3859558105469, 84.41705322265625, 105.19707489013672, 84.3603286743164, 46.758888244628906, 31.02915382385254, 30.466161727905273, 31.55512237548828, 15.133338928222656, 22.74164390563965, 11.77384090423584, 0.029655830934643745, 0.029655830934643745, 0.029655830934643745, 0.029655830934643745, 0.029655830934643745, 0.029655830934643745, 0.029655830934643745, 0.029655830934643745, 0.029655830934643745, 0.029655830934643745, 0.029655830934643745, 0.029655830934643745, 0.029655830934643745, 0.029655830934643745, 0.029655830934643745, 0.029655830934643745, 0.029655830934643745, 0.029655830934643745, 0.029655830934643745, 0.029655830934643745, 0.029655830934643745, 0.029655830934643745, 0.029655830934643745, 0.029655830934643745, 0.029655830934643745, 0.029655830934643745, 0.029655830934643745, 0.029655830934643745, 0.029655830934643745, 0.029655830934643745, 0.029655830934643745, 0.029655830934643745, 0.029655830934643745, 0.029655830934643745, 0.029655830934643745, 0.26323992013931274, 0.26323992013931274, 0.26323992013931274, 0.26323992013931274, 0.26323992013931274, 0.26323992013931274, 0.26323992013931274, 0.26323992013931274, 0.26323992013931274, 0.26323992013931274, 0.26323992013931274, 0.26323992013931274, 0.26323992013931274, 0.26323992013931274, 0.26323992013931274, 0.26323992013931274, 0.26323992013931274, 0.26323992013931274, 0.26323992013931274, 0.26323992013931274, 0.26323992013931274, 0.26323992013931274, 0.26323992013931274, 0.26323992013931274, 0.26323992013931274, 0.26323992013931274, 0.26323992013931274, 0.26323992013931274, 0.26323992013931274, 0.26323992013931274, 0.26323992013931274, 0.26323992013931274, 0.26323992013931274, 0.26323992013931274, 0.26323992013931274, 0.26323992013931274, 0.26323992013931274, 0.26323992013931274, 0.26323992013931274, 0.26323992013931274, 0.26323992013931274, 0.26323992013931274, 0.26323992013931274, 0.26323992013931274, 0.26323992013931274, 0.26323992013931274, 0.26323992013931274, 0.26323992013931274, 0.26323992013931274, 0.26323992013931274, 0.26323992013931274, 0.26323992013931274, 0.26323992013931274, 0.26323992013931274, 239.70263671875, 96.14747619628906, 0.030900029465556145, 0.030900029465556145, 0.030900029465556145, 0.030900029465556145, 0.030900029465556145, 0.030900029465556145, 0.030900029465556145, 0.030900029465556145, 0.030900029465556145, 0.030900029465556145, 0.030900029465556145, 0.030900029465556145, 0.030900029465556145, 0.030900029465556145, 0.030900029465556145, 0.030900029465556145, 0.030900029465556145, 0.030900029465556145, 0.030900029465556145, 0.030900029465556145, 0.030900029465556145, 0.030900029465556145, 0.030900029465556145, 0.030900029465556145, 0.030900029465556145, 0.030900029465556145, 0.030900029465556145, 0.030900029465556145, 0.030900029465556145, 0.030900029465556145, 0.030900029465556145, 0.030900029465556145, 0.030900029465556145, 0.030900029465556145, 0.030900029465556145, 0.030900029465556145, 0.030900029465556145, 0.030900029465556145, 0.030900029465556145, 0.030900029465556145, 0.030900029465556145, 0.030900029465556145, 0.030900029465556145, 0.030900029465556145, 0.030900029465556145, 0.030900029465556145, 0.030900029465556145, 0.030900029465556145, 0.030900029465556145, 0.030900029465556145], \"Term\": [\"\\u201d\", \"church\", \"\\u2019\", \"\\u201c\", \"\\u2013\", \"migration\", \"theology\", \"woman\", \"migrant\", \"filipino\", \"struggle\", \"dhs\", \"s\", \"e\", \"work\", \"worker\", \"eology\", \"ed\", \"social\", \"d\", \"right\", \"new\", \"economic\", \"religion\", \"people\", \"religious\", \"philippine\", \"god\", \"domestic\", \"immigrant\", \"migration\", \"context\", \"study\", \"tion\", \"challenge\", \"migrant\", \"experience\", \"human\", \"community\", \"culture\", \"mission\", \"perspective\", \"new\", \"world\", \"sense\", \"come\", \"\\u2018\", \"order\", \"book\", \"question\", \"ey\", \"service\", \"word\", \"term\", \"state\", \"fact\", \"relation\", \"c\", \"situation\", \"reality\", \"way\", \"woman\", \"worker\", \"york\", \"\\u2013\", \"\\u201c\", \"\\u201d\", \"god\", \"vol\", \"just\", \"mean\", \"particularly\", \"point\", \"immigrant\", \"american\", \"service\", \"case\", \"sense\", \"make\", \"situation\", \"group\", \"tion\", \"identity\", \"study\", \"challenge\", \"just\", \"cultural\", \"reality\", \"experience\", \"example\", \"like\", \"new\", \"come\", \"\\u2018\", \"order\", \"book\", \"question\", \"ey\", \"word\", \"term\", \"state\", \"fact\", \"relation\", \"cruz\", \"way\", \"woman\", \"worker\", \"york\", \"\\u2013\", \"\\u201c\", \"\\u201d\", \"tulud\", \"god\", \"york\", \"press\", \"ed\", \"new\", \"book\", \"mission\", \"study\", \"c\", \"state\", \"world\", \"religion\", \"christian\", \"immigrant\", \"g\", \"religious\", \"american\", \"community\", \"relation\", \"god\", \"faith\", \"sense\", \"come\", \"\\u2018\", \"order\", \"question\", \"ey\", \"service\", \"word\", \"term\", \"fact\", \"mean\", \"situation\", \"\\u2013\", \"\\u201c\", \"\\u201d\", \"social\", \"particularly\", \"s\", \"worker\", \"point\", \"\\u2013\", \"religion\", \"people\", \"sense\", \"come\", \"\\u2018\", \"order\", \"book\", \"question\", \"ey\", \"service\", \"word\", \"term\", \"state\", \"fact\", \"relation\", \"c\", \"situation\", \"tion\", \"reality\", \"perspective\", \"political\", \"filipina\", \"ing\", \"doe\", \"form\", \"york\", \"role\", \"need\", \"say\", \"immigrant\", \"mean\", \"woman\", \"worker\", \"\\u201c\", \"\\u201d\", \"god\", \"group\", \"just\", \"point\", \"particularly\", \"economic\", \"s\", \"social\", \"time\", \"world\", \"\\u2019\", \"american\", \"way\", \"vol\", \"tulud\", \"theology\", \"god\", \"\\u2019\", \"s\", \"experience\", \"challenge\", \"g\", \"cruz\", \"tulud\", \"term\", \"life\", \"e\", \"way\", \"people\", \"word\", \"human\", \"sense\", \"come\", \"\\u2018\", \"order\", \"book\", \"question\", \"ey\", \"service\", \"state\", \"fact\", \"relation\", \"c\", \"situation\", \"tion\", \"reality\", \"woman\", \"worker\", \"york\", \"\\u2013\", \"\\u201c\", \"\\u201d\", \"hong\", \"frederiks\", \"just\", \"mean\", \"particularly\", \"point\", \"economic\", \"family\", \"home\", \"role\", \"er\", \"term\", \"relation\", \"migration\", \"sense\", \"come\", \"\\u2018\", \"order\", \"book\", \"question\", \"ey\", \"service\", \"word\", \"state\", \"fact\", \"c\", \"situation\", \"tion\", \"reality\", \"perspective\", \"political\", \"filipina\", \"ing\", \"doe\", \"form\", \"york\", \"god\", \"group\", \"\\u201d\", \"\\u201c\", \"\\u2013\", \"worker\", \"just\", \"immigrant\", \"mean\", \"way\", \"particularly\", \"point\", \"s\", \"social\", \"time\", \"world\", \"woman\", \"nagy\", \"dorottya\", \"frederiks\", \"martha\", \"state\", \"mission\", \"term\", \"question\", \"country\", \"christian\", \"need\", \"faith\", \"world\", \"ing\", \"doe\", \"especially\", \"point\", \"time\", \"home\", \"form\", \"political\", \"mean\", \"life\", \"people\", \"case\", \"tion\", \"community\", \"new\", \"way\", \"group\", \"experience\", \"migration\", \"right\", \"power\", \"human\", \"political\", \"come\", \"state\", \"world\", \"tion\", \"sense\", \"\\u2018\", \"order\", \"book\", \"question\", \"ey\", \"service\", \"word\", \"term\", \"fact\", \"relation\", \"c\", \"situation\", \"reality\", \"perspective\", \"filipina\", \"ing\", \"doe\", \"form\", \"york\", \"role\", \"need\", \"way\", \"woman\", \"worker\", \"\\u2013\", \"\\u201c\", \"\\u201d\", \"group\", \"god\", \"just\", \"mean\", \"particularly\", \"point\", \"s\", \"social\", \"time\", \"vol\", \"immigrant\", \"religion\", \"identity\", \"culture\", \"cultural\", \"religious\", \"challenge\", \"relation\", \"christian\", \"example\", \"way\", \"migrant\", \"fact\", \"particularly\", \"experience\", \"time\", \"state\", \"s\", \"sense\", \"come\", \"\\u2018\", \"order\", \"book\", \"question\", \"ey\", \"service\", \"word\", \"term\", \"c\", \"situation\", \"tion\", \"need\", \"context\", \"vol\", \"dorottya\", \"woman\", \"worker\", \"york\", \"\\u2013\", \"\\u201c\", \"\\u201d\", \"theology\", \"god\", \"struggle\", \"filipino\", \"philippine\", \"eology\", \"book\", \"sense\", \"come\", \"\\u2018\", \"order\", \"question\", \"ey\", \"service\", \"word\", \"term\", \"state\", \"fact\", \"relation\", \"c\", \"situation\", \"tion\", \"reality\", \"perspective\", \"political\", \"filipina\", \"ing\", \"doe\", \"form\", \"york\", \"role\", \"need\", \"immigrant\", \"particularly\", \"\\u2013\", \"\\u201c\", \"\\u201d\", \"god\", \"group\", \"just\", \"mean\", \"point\", \"woman\", \"s\", \"social\", \"time\", \"world\", \"\\u2019\", \"american\", \"cultural\", \"worker\", \"tulud\", \"way\", \"eology\", \"feminist\", \"perspective\", \"e\", \"power\", \"g\", \"cruz\", \"tulud\", \"challenge\", \"book\", \"oppression\", \"woman\", \"form\", \"mean\", \"ing\", \"life\", \"new\", \"context\", \"sense\", \"come\", \"\\u2018\", \"order\", \"question\", \"ey\", \"service\", \"word\", \"term\", \"state\", \"fact\", \"relation\", \"ed\", \"god\", \"group\", \"just\", \"particularly\", \"point\", \"reality\", \"\\u201c\", \"s\", \"situation\", \"social\", \"hong\", \"kong\", \"hk\", \"filipina\", \"dhs\", \"domestic\", \"worker\", \"philippine\", \"filipino\", \"oppression\", \"ey\", \"service\", \"family\", \"g\", \"tulud\", \"e\", \"cruz\", \"case\", \"home\", \"migrant\", \"\\u2019\", \"vol\", \"c\", \"er\", \"come\", \"way\", \"especially\", \"mean\", \"like\", \"example\", \"s\", \"woman\", \"life\", \"\\u201d\", \"church\", \"role\", \"christian\", \"american\", \"context\", \"time\", \"society\", \"s\", \"sense\", \"come\", \"\\u2018\", \"order\", \"book\", \"question\", \"ey\", \"service\", \"word\", \"term\", \"state\", \"fact\", \"relation\", \"c\", \"situation\", \"tion\", \"reality\", \"perspective\", \"political\", \"filipina\", \"ing\", \"doe\", \"group\", \"york\", \"\\u201c\", \"\\u201d\", \"worker\", \"woman\", \"god\", \"\\u2013\", \"particularly\", \"just\", \"mean\", \"vol\", \"point\", \"social\", \"world\", \"\\u2019\", \"way\", \"immigrant\", \"\\u201c\", \"\\u201d\", \"vol\", \"\\u2018\", \"ey\", \"sense\", \"er\", \"\\u2013\", \"say\", \"just\", \"especially\", \"doe\", \"world\", \"like\", \"home\", \"e\", \"tulud\", \"g\", \"cruz\", \"case\", \"dhs\", \"faith\", \"time\", \"perspective\", \"ed\", \"order\", \"\\u2019\", \"society\", \"s\", \"make\", \"community\", \"people\", \"press\", \"worker\", \"country\", \"migrant\", \"domestic\", \"work\", \"tion\", \"social\", \"experience\", \"sense\", \"come\", \"\\u2018\", \"order\", \"book\", \"question\", \"ey\", \"service\", \"word\", \"term\", \"state\", \"fact\", \"relation\", \"c\", \"situation\", \"reality\", \"perspective\", \"political\", \"filipina\", \"ing\", \"doe\", \"form\", \"e\", \"particularly\", \"\\u2013\", \"\\u201c\", \"\\u201d\", \"god\", \"cruz\", \"group\", \"just\", \"mean\", \"point\", \"culture\", \"s\", \"context\", \"time\", \"world\", \"christian\", \"\\u2019\", \"place\", \"fact\", \"come\", \"situation\", \"people\", \"order\", \"make\", \"example\", \"ing\", \"society\", \"like\", \"need\", \"mean\", \"country\", \"new\", \"doe\", \"context\", \"term\", \"identity\", \"particularly\", \"experience\", \"er\", \"especially\", \"god\", \"sense\", \"\\u2018\", \"book\", \"question\", \"ey\", \"service\", \"g\", \"\\u2013\", \"\\u201c\", \"\\u201d\", \"culture\", \"sense\", \"come\", \"\\u2018\", \"order\", \"book\", \"question\", \"ey\", \"service\", \"word\", \"term\", \"state\", \"fact\", \"relation\", \"c\", \"situation\", \"tion\", \"reality\", \"perspective\", \"political\", \"filipina\", \"ing\", \"doe\", \"form\", \"york\", \"role\", \"need\", \"say\", \"american\", \"martha\", \"theological\", \"immigrant\", \"vol\", \"woman\", \"worker\", \"\\u2013\", \"\\u201c\", \"\\u201d\", \"god\", \"group\", \"just\", \"mean\", \"particularly\", \"point\", \"s\", \"social\", \"time\", \"world\", \"\\u2019\", \"cultural\", \"way\", \"tulud\", \"nagy\", \"theology\", \"christian\", \"work\", \"form\", \"study\", \"question\", \"relation\", \"place\", \"role\", \"sense\", \"come\", \"\\u2018\", \"order\", \"book\", \"ey\", \"service\", \"word\", \"term\", \"state\", \"fact\", \"c\", \"situation\", \"tion\", \"reality\", \"perspective\", \"political\", \"filipina\", \"ing\", \"doe\", \"york\", \"need\", \"say\", \"group\", \"woman\", \"worker\", \"\\u2013\", \"\\u201c\", \"\\u201d\", \"god\", \"immigrant\", \"just\", \"vol\", \"mean\", \"particularly\", \"point\", \"s\", \"social\", \"time\", \"world\", \"way\", \"theology\", \"word\", \"reality\", \"mean\", \"say\", \"time\", \"god\", \"life\", \"human\", \"way\", \"point\", \"right\", \"people\", \"world\", \"form\", \"relation\", \"christian\", \"theological\", \"doe\", \"order\", \"need\", \"family\", \"like\", \"context\", \"migrant\", \"particularly\", \"challenge\", \"experience\", \"sense\", \"come\", \"\\u2018\", \"country\", \"struggle\", \"term\", \"woman\", \"particularly\", \"oppression\", \"feminist\", \"situation\", \"s\", \"especially\", \"experience\", \"point\", \"\\u2019\", \"tion\", \"form\", \"fact\", \"relation\", \"struggle\", \"life\", \"example\", \"make\", \"like\", \"doe\", \"sense\", \"ing\", \"just\", \"tulud\", \"cruz\", \"society\", \"need\", \"way\", \"faith\", \"context\", \"e\", \"\\u201d\", \"\\u201c\", \"group\", \"community\", \"faith\", \"religious\", \"role\", \"\\u2018\", \"service\", \"point\", \"migrant\", \"just\", \"place\", \"need\", \"say\", \"church\", \"life\", \"sense\", \"come\", \"order\", \"book\", \"question\", \"ey\", \"word\", \"term\", \"state\", \"fact\", \"relation\", \"c\", \"situation\", \"tion\", \"reality\", \"worker\", \"york\", \"\\u2013\", \"\\u201c\", \"woman\", \"way\", \"vol\", \"\\u201d\", \"theology\", \"god\", \"mean\", \"particularly\", \"theology\", \"theological\", \"question\", \"context\", \"term\", \"perspective\", \"culture\", \"er\", \"just\", \"way\", \"reality\", \"ing\", \"new\", \"challenge\", \"christian\", \"point\", \"experience\", \"doe\", \"human\", \"cruz\", \"sense\", \"come\", \"\\u2018\", \"order\", \"book\", \"ey\", \"service\", \"word\", \"state\", \"fact\", \"right\", \"\\u2013\", \"c\", \"tulud\", \"vol\", \"woman\", \"worker\", \"york\", \"\\u201d\", \"social\", \"political\", \"cultural\", \"society\", \"reality\", \"order\", \"perspective\", \"need\", \"state\", \"way\", \"culture\", \"sense\", \"come\", \"\\u2018\", \"book\", \"question\", \"ey\", \"service\", \"word\", \"term\", \"fact\", \"relation\", \"c\", \"situation\", \"tion\", \"filipina\", \"ing\", \"doe\", \"form\", \"york\", \"time\", \"christian\", \"\\u2019\", \"\\u2013\", \"world\", \"\\u201c\", \"\\u201d\", \"god\", \"group\", \"just\", \"mean\", \"particularly\", \"point\", \"cruz\", \"s\", \"context\", \"sense\", \"come\", \"\\u2018\", \"order\", \"book\", \"question\", \"ey\", \"service\", \"word\", \"term\", \"state\", \"fact\", \"relation\", \"c\", \"situation\", \"tion\", \"reality\", \"perspective\", \"political\", \"filipina\", \"ing\", \"doe\", \"form\", \"york\", \"role\", \"need\", \"say\", \"american\", \"martha\", \"theological\", \"immigrant\", \"vol\", \"woman\", \"worker\", \"\\u2013\", \"\\u201c\", \"\\u201d\", \"god\", \"group\", \"just\", \"mean\", \"particularly\", \"point\", \"s\", \"social\", \"time\", \"world\", \"\\u2019\", \"cultural\", \"way\", \"tulud\", \"nagy\", \"theology\", \"christian\", \"d\", \"c\", \"sense\", \"come\", \"\\u2018\", \"order\", \"book\", \"question\", \"ey\", \"service\", \"word\", \"term\", \"state\", \"fact\", \"relation\", \"situation\", \"tion\", \"reality\", \"perspective\", \"political\", \"filipina\", \"ing\", \"doe\", \"form\", \"york\", \"role\", \"need\", \"say\", \"american\", \"martha\", \"immigrant\", \"way\", \"woman\", \"worker\", \"\\u2013\", \"\\u201c\", \"\\u201d\", \"god\", \"group\", \"just\", \"mean\", \"tulud\", \"particularly\", \"point\", \"s\", \"social\", \"time\", \"world\", \"\\u2019\", \"vol\", \"theology\", \"economic\"], \"Total\": [2532.0, 932.0, 1812.0, 2171.0, 680.0, 944.0, 704.0, 1182.0, 929.0, 689.0, 583.0, 1016.0, 1019.0, 797.0, 371.0, 446.0, 437.0, 416.0, 317.0, 241.0, 281.0, 534.0, 259.0, 352.0, 491.0, 395.0, 357.0, 435.0, 333.0, 255.0, 944.3611450195312, 421.37554931640625, 283.58636474609375, 169.26339721679688, 234.5363006591797, 929.822509765625, 562.3963623046875, 213.02072143554688, 343.4163513183594, 228.60728454589844, 215.657958984375, 172.26316833496094, 534.084228515625, 305.3796691894531, 127.65679931640625, 129.98907470703125, 132.46849060058594, 140.54310607910156, 143.35585021972656, 145.0997314453125, 147.21548461914062, 150.9571533203125, 153.23495483398438, 156.58294677734375, 157.15611267089844, 160.6923065185547, 161.98963928222656, 167.3986358642578, 167.6471405029297, 172.1705780029297, 404.96044921875, 1182.612548828125, 446.7436218261719, 191.24447631835938, 680.0134887695312, 2171.65283203125, 2532.001953125, 435.3824462890625, 306.1949462890625, 265.37017822265625, 215.7926025390625, 208.29522705078125, 232.5034942626953, 255.40283203125, 200.21334838867188, 150.9571533203125, 215.92196655273438, 127.65679931640625, 224.93128967285156, 167.6471405029297, 260.8281555175781, 169.26339721679688, 307.9433898925781, 283.58636474609375, 234.5363006591797, 265.37017822265625, 245.84693908691406, 172.1705780029297, 562.3963623046875, 233.61610412597656, 261.1672668457031, 534.084228515625, 129.98907470703125, 132.46849060058594, 140.54310607910156, 143.35585021972656, 145.0997314453125, 147.21548461914062, 153.23495483398438, 156.58294677734375, 157.15611267089844, 160.6923065185547, 161.98963928222656, 440.14227294921875, 404.96044921875, 1182.612548828125, 446.7436218261719, 191.24447631835938, 680.0134887695312, 2171.65283203125, 2532.001953125, 432.4408874511719, 435.3824462890625, 191.24447631835938, 292.0271301269531, 416.5212707519531, 534.084228515625, 143.35585021972656, 215.657958984375, 283.58636474609375, 167.3986358642578, 157.15611267089844, 305.3796691894531, 352.38909912109375, 482.9399719238281, 255.40283203125, 365.54827880859375, 395.1347961425781, 200.21334838867188, 343.4163513183594, 161.98963928222656, 435.3824462890625, 242.48451232910156, 127.65679931640625, 129.98907470703125, 132.46849060058594, 140.54310607910156, 145.0997314453125, 147.21548461914062, 150.9571533203125, 153.23495483398438, 156.58294677734375, 160.6923065185547, 215.7926025390625, 167.6471405029297, 680.0134887695312, 2171.65283203125, 2532.001953125, 317.2310791015625, 208.29522705078125, 1019.6685180664062, 446.7436218261719, 232.5034942626953, 680.0134887695312, 352.38909912109375, 491.4384765625, 127.65679931640625, 129.98907470703125, 132.46849060058594, 140.54310607910156, 143.35585021972656, 145.0997314453125, 147.21548461914062, 150.9571533203125, 153.23495483398438, 156.58294677734375, 157.15611267089844, 160.6923065185547, 161.98963928222656, 167.3986358642578, 167.6471405029297, 169.26339721679688, 172.1705780029297, 172.26316833496094, 174.5559844970703, 176.07994079589844, 178.21383666992188, 185.34510803222656, 190.04522705078125, 191.24447631835938, 193.59718322753906, 194.19285583496094, 195.6956787109375, 255.40283203125, 215.7926025390625, 1182.612548828125, 446.7436218261719, 2171.65283203125, 2532.001953125, 435.3824462890625, 260.8281555175781, 265.37017822265625, 232.5034942626953, 208.29522705078125, 259.05096435546875, 1019.6685180664062, 317.2310791015625, 221.3235626220703, 305.3796691894531, 1812.8702392578125, 200.21334838867188, 404.96044921875, 306.1949462890625, 432.4408874511719, 704.525634765625, 435.3824462890625, 1812.8702392578125, 1019.6685180664062, 562.3963623046875, 234.5363006591797, 365.54827880859375, 440.14227294921875, 432.4408874511719, 156.58294677734375, 523.4913330078125, 797.1204833984375, 404.96044921875, 491.4384765625, 153.23495483398438, 213.02072143554688, 127.65679931640625, 129.98907470703125, 132.46849060058594, 140.54310607910156, 143.35585021972656, 145.0997314453125, 147.21548461914062, 150.9571533203125, 157.15611267089844, 160.6923065185547, 161.98963928222656, 167.3986358642578, 167.6471405029297, 169.26339721679688, 172.1705780029297, 1182.612548828125, 446.7436218261719, 191.24447631835938, 680.0134887695312, 2171.65283203125, 2532.001953125, 368.90362548828125, 209.1990203857422, 265.37017822265625, 215.7926025390625, 208.29522705078125, 232.5034942626953, 259.05096435546875, 217.7821807861328, 242.27076721191406, 193.59718322753906, 214.0802459716797, 156.58294677734375, 161.98963928222656, 944.3611450195312, 127.65679931640625, 129.98907470703125, 132.46849060058594, 140.54310607910156, 143.35585021972656, 145.0997314453125, 147.21548461914062, 150.9571533203125, 153.23495483398438, 157.15611267089844, 160.6923065185547, 167.3986358642578, 167.6471405029297, 169.26339721679688, 172.1705780029297, 172.26316833496094, 174.5559844970703, 176.07994079589844, 178.21383666992188, 185.34510803222656, 190.04522705078125, 191.24447631835938, 435.3824462890625, 260.8281555175781, 2532.001953125, 2171.65283203125, 680.0134887695312, 446.7436218261719, 265.37017822265625, 255.40283203125, 215.7926025390625, 404.96044921875, 208.29522705078125, 232.5034942626953, 1019.6685180664062, 317.2310791015625, 221.3235626220703, 305.3796691894531, 1182.612548828125, 211.87060546875, 209.32736206054688, 209.1990203857422, 203.45130920410156, 157.15611267089844, 215.657958984375, 156.58294677734375, 145.0997314453125, 230.19338989257812, 482.9399719238281, 194.19285583496094, 242.48451232910156, 305.3796691894531, 178.21383666992188, 185.34510803222656, 221.221923828125, 232.5034942626953, 221.3235626220703, 242.27076721191406, 190.04522705078125, 174.5559844970703, 215.7926025390625, 523.4913330078125, 491.4384765625, 215.92196655273438, 169.26339721679688, 343.4163513183594, 534.084228515625, 404.96044921875, 260.8281555175781, 562.3963623046875, 944.3611450195312, 281.818115234375, 219.6652069091797, 213.02072143554688, 174.5559844970703, 129.98907470703125, 157.15611267089844, 305.3796691894531, 169.26339721679688, 127.65679931640625, 132.46849060058594, 140.54310607910156, 143.35585021972656, 145.0997314453125, 147.21548461914062, 150.9571533203125, 153.23495483398438, 156.58294677734375, 160.6923065185547, 161.98963928222656, 167.3986358642578, 167.6471405029297, 172.1705780029297, 172.26316833496094, 176.07994079589844, 178.21383666992188, 185.34510803222656, 190.04522705078125, 191.24447631835938, 193.59718322753906, 194.19285583496094, 404.96044921875, 1182.612548828125, 446.7436218261719, 680.0134887695312, 2171.65283203125, 2532.001953125, 260.8281555175781, 435.3824462890625, 265.37017822265625, 215.7926025390625, 208.29522705078125, 232.5034942626953, 1019.6685180664062, 317.2310791015625, 221.3235626220703, 306.1949462890625, 255.40283203125, 352.38909912109375, 307.9433898925781, 228.60728454589844, 245.84693908691406, 395.1347961425781, 234.5363006591797, 161.98963928222656, 482.9399719238281, 233.61610412597656, 404.96044921875, 929.822509765625, 160.6923065185547, 208.29522705078125, 562.3963623046875, 221.3235626220703, 157.15611267089844, 1019.6685180664062, 127.65679931640625, 129.98907470703125, 132.46849060058594, 140.54310607910156, 143.35585021972656, 145.0997314453125, 147.21548461914062, 150.9571533203125, 153.23495483398438, 156.58294677734375, 167.3986358642578, 167.6471405029297, 169.26339721679688, 194.19285583496094, 421.37554931640625, 306.1949462890625, 209.32736206054688, 1182.612548828125, 446.7436218261719, 191.24447631835938, 680.0134887695312, 2171.65283203125, 2532.001953125, 704.525634765625, 435.3824462890625, 583.6680297851562, 689.8901977539062, 357.3069152832031, 437.47601318359375, 143.35585021972656, 127.65679931640625, 129.98907470703125, 132.46849060058594, 140.54310607910156, 145.0997314453125, 147.21548461914062, 150.9571533203125, 153.23495483398438, 156.58294677734375, 157.15611267089844, 160.6923065185547, 161.98963928222656, 167.3986358642578, 167.6471405029297, 169.26339721679688, 172.1705780029297, 172.26316833496094, 174.5559844970703, 176.07994079589844, 178.21383666992188, 185.34510803222656, 190.04522705078125, 191.24447631835938, 193.59718322753906, 194.19285583496094, 255.40283203125, 208.29522705078125, 680.0134887695312, 2171.65283203125, 2532.001953125, 435.3824462890625, 260.8281555175781, 265.37017822265625, 215.7926025390625, 232.5034942626953, 1182.612548828125, 1019.6685180664062, 317.2310791015625, 221.3235626220703, 305.3796691894531, 1812.8702392578125, 200.21334838867188, 245.84693908691406, 446.7436218261719, 432.4408874511719, 404.96044921875, 437.47601318359375, 226.85105895996094, 172.26316833496094, 797.1204833984375, 219.6652069091797, 365.54827880859375, 440.14227294921875, 432.4408874511719, 234.5363006591797, 143.35585021972656, 251.251953125, 1182.612548828125, 190.04522705078125, 215.7926025390625, 178.21383666992188, 523.4913330078125, 534.084228515625, 421.37554931640625, 127.65679931640625, 129.98907470703125, 132.46849060058594, 140.54310607910156, 145.0997314453125, 147.21548461914062, 150.9571533203125, 153.23495483398438, 156.58294677734375, 157.15611267089844, 160.6923065185547, 161.98963928222656, 416.5212707519531, 435.3824462890625, 260.8281555175781, 265.37017822265625, 208.29522705078125, 232.5034942626953, 172.1705780029297, 2171.65283203125, 1019.6685180664062, 167.6471405029297, 317.2310791015625, 368.90362548828125, 368.65966796875, 257.5313415527344, 176.07994079589844, 1016.379638671875, 333.79229736328125, 446.7436218261719, 357.3069152832031, 689.8901977539062, 251.251953125, 147.21548461914062, 150.9571533203125, 217.7821807861328, 365.54827880859375, 432.4408874511719, 797.1204833984375, 440.14227294921875, 215.92196655273438, 242.27076721191406, 929.822509765625, 1812.8702392578125, 306.1949462890625, 167.3986358642578, 214.0802459716797, 129.98907470703125, 404.96044921875, 221.221923828125, 215.7926025390625, 261.1672668457031, 233.61610412597656, 1019.6685180664062, 1182.612548828125, 523.4913330078125, 2532.001953125, 932.5451049804688, 193.59718322753906, 482.9399719238281, 200.21334838867188, 421.37554931640625, 221.3235626220703, 233.6563262939453, 1019.6685180664062, 127.65679931640625, 129.98907470703125, 132.46849060058594, 140.54310607910156, 143.35585021972656, 145.0997314453125, 147.21548461914062, 150.9571533203125, 153.23495483398438, 156.58294677734375, 157.15611267089844, 160.6923065185547, 161.98963928222656, 167.3986358642578, 167.6471405029297, 169.26339721679688, 172.1705780029297, 172.26316833496094, 174.5559844970703, 176.07994079589844, 178.21383666992188, 185.34510803222656, 260.8281555175781, 191.24447631835938, 2171.65283203125, 2532.001953125, 446.7436218261719, 1182.612548828125, 435.3824462890625, 680.0134887695312, 208.29522705078125, 265.37017822265625, 215.7926025390625, 306.1949462890625, 232.5034942626953, 317.2310791015625, 305.3796691894531, 1812.8702392578125, 404.96044921875, 255.40283203125, 2171.65283203125, 2532.001953125, 306.1949462890625, 132.46849060058594, 147.21548461914062, 127.65679931640625, 214.0802459716797, 680.0134887695312, 195.6956787109375, 265.37017822265625, 221.221923828125, 185.34510803222656, 305.3796691894531, 261.1672668457031, 242.27076721191406, 797.1204833984375, 432.4408874511719, 365.54827880859375, 440.14227294921875, 215.92196655273438, 1016.379638671875, 242.48451232910156, 221.3235626220703, 172.26316833496094, 416.5212707519531, 140.54310607910156, 1812.8702392578125, 233.6563262939453, 1019.6685180664062, 224.93128967285156, 343.4163513183594, 491.4384765625, 292.0271301269531, 446.7436218261719, 230.19338989257812, 929.822509765625, 333.79229736328125, 371.73883056640625, 169.26339721679688, 317.2310791015625, 562.3963623046875, 127.65679931640625, 129.98907470703125, 132.46849060058594, 140.54310607910156, 143.35585021972656, 145.0997314453125, 147.21548461914062, 150.9571533203125, 153.23495483398438, 156.58294677734375, 157.15611267089844, 160.6923065185547, 161.98963928222656, 167.3986358642578, 167.6471405029297, 172.1705780029297, 172.26316833496094, 174.5559844970703, 176.07994079589844, 178.21383666992188, 185.34510803222656, 190.04522705078125, 797.1204833984375, 208.29522705078125, 680.0134887695312, 2171.65283203125, 2532.001953125, 435.3824462890625, 440.14227294921875, 260.8281555175781, 265.37017822265625, 215.7926025390625, 232.5034942626953, 228.60728454589844, 1019.6685180664062, 421.37554931640625, 221.3235626220703, 305.3796691894531, 482.9399719238281, 1812.8702392578125, 222.46832275390625, 160.6923065185547, 129.98907470703125, 167.6471405029297, 491.4384765625, 140.54310607910156, 224.93128967285156, 233.61610412597656, 178.21383666992188, 233.6563262939453, 261.1672668457031, 194.19285583496094, 215.7926025390625, 230.19338989257812, 534.084228515625, 185.34510803222656, 421.37554931640625, 156.58294677734375, 307.9433898925781, 208.29522705078125, 562.3963623046875, 214.0802459716797, 221.221923828125, 435.3824462890625, 127.65679931640625, 132.46849060058594, 143.35585021972656, 145.0997314453125, 147.21548461914062, 150.9571533203125, 365.54827880859375, 680.0134887695312, 2171.65283203125, 2532.001953125, 228.60728454589844, 127.65679931640625, 129.98907470703125, 132.46849060058594, 140.54310607910156, 143.35585021972656, 145.0997314453125, 147.21548461914062, 150.9571533203125, 153.23495483398438, 156.58294677734375, 157.15611267089844, 160.6923065185547, 161.98963928222656, 167.3986358642578, 167.6471405029297, 169.26339721679688, 172.1705780029297, 172.26316833496094, 174.5559844970703, 176.07994079589844, 178.21383666992188, 185.34510803222656, 190.04522705078125, 191.24447631835938, 193.59718322753906, 194.19285583496094, 195.6956787109375, 200.21334838867188, 203.45130920410156, 208.1809844970703, 255.40283203125, 306.1949462890625, 1182.612548828125, 446.7436218261719, 680.0134887695312, 2171.65283203125, 2532.001953125, 435.3824462890625, 260.8281555175781, 265.37017822265625, 215.7926025390625, 208.29522705078125, 232.5034942626953, 1019.6685180664062, 317.2310791015625, 221.3235626220703, 305.3796691894531, 1812.8702392578125, 245.84693908691406, 404.96044921875, 432.4408874511719, 211.87060546875, 704.525634765625, 482.9399719238281, 371.73883056640625, 190.04522705078125, 283.58636474609375, 145.0997314453125, 161.98963928222656, 222.46832275390625, 193.59718322753906, 127.65679931640625, 129.98907470703125, 132.46849060058594, 140.54310607910156, 143.35585021972656, 147.21548461914062, 150.9571533203125, 153.23495483398438, 156.58294677734375, 157.15611267089844, 160.6923065185547, 167.3986358642578, 167.6471405029297, 169.26339721679688, 172.1705780029297, 172.26316833496094, 174.5559844970703, 176.07994079589844, 178.21383666992188, 185.34510803222656, 191.24447631835938, 194.19285583496094, 195.6956787109375, 260.8281555175781, 1182.612548828125, 446.7436218261719, 680.0134887695312, 2171.65283203125, 2532.001953125, 435.3824462890625, 255.40283203125, 265.37017822265625, 306.1949462890625, 215.7926025390625, 208.29522705078125, 232.5034942626953, 1019.6685180664062, 317.2310791015625, 221.3235626220703, 305.3796691894531, 404.96044921875, 704.525634765625, 153.23495483398438, 172.1705780029297, 215.7926025390625, 195.6956787109375, 221.3235626220703, 435.3824462890625, 523.4913330078125, 213.02072143554688, 404.96044921875, 232.5034942626953, 281.818115234375, 491.4384765625, 305.3796691894531, 190.04522705078125, 161.98963928222656, 482.9399719238281, 208.1809844970703, 185.34510803222656, 140.54310607910156, 194.19285583496094, 217.7821807861328, 261.1672668457031, 421.37554931640625, 929.822509765625, 208.29522705078125, 234.5363006591797, 562.3963623046875, 127.65679931640625, 129.98907470703125, 132.46849060058594, 230.19338989257812, 583.6680297851562, 156.58294677734375, 1182.612548828125, 208.29522705078125, 251.251953125, 226.85105895996094, 167.6471405029297, 1019.6685180664062, 221.221923828125, 562.3963623046875, 232.5034942626953, 1812.8702392578125, 169.26339721679688, 190.04522705078125, 160.6923065185547, 161.98963928222656, 583.6680297851562, 523.4913330078125, 233.61610412597656, 224.93128967285156, 261.1672668457031, 185.34510803222656, 127.65679931640625, 178.21383666992188, 265.37017822265625, 432.4408874511719, 440.14227294921875, 233.6563262939453, 194.19285583496094, 404.96044921875, 242.48451232910156, 421.37554931640625, 797.1204833984375, 2532.001953125, 2171.65283203125, 260.8281555175781, 343.4163513183594, 242.48451232910156, 395.1347961425781, 193.59718322753906, 132.46849060058594, 150.9571533203125, 232.5034942626953, 929.822509765625, 265.37017822265625, 222.46832275390625, 194.19285583496094, 195.6956787109375, 932.5451049804688, 523.4913330078125, 127.65679931640625, 129.98907470703125, 140.54310607910156, 143.35585021972656, 145.0997314453125, 147.21548461914062, 153.23495483398438, 156.58294677734375, 157.15611267089844, 160.6923065185547, 161.98963928222656, 167.3986358642578, 167.6471405029297, 169.26339721679688, 172.1705780029297, 446.7436218261719, 191.24447631835938, 680.0134887695312, 2171.65283203125, 1182.612548828125, 404.96044921875, 306.1949462890625, 2532.001953125, 704.525634765625, 435.3824462890625, 215.7926025390625, 208.29522705078125, 704.525634765625, 208.1809844970703, 145.0997314453125, 421.37554931640625, 156.58294677734375, 172.26316833496094, 228.60728454589844, 214.0802459716797, 265.37017822265625, 404.96044921875, 172.1705780029297, 178.21383666992188, 534.084228515625, 234.5363006591797, 482.9399719238281, 232.5034942626953, 562.3963623046875, 185.34510803222656, 213.02072143554688, 440.14227294921875, 127.65679931640625, 129.98907470703125, 132.46849060058594, 140.54310607910156, 143.35585021972656, 147.21548461914062, 150.9571533203125, 153.23495483398438, 157.15611267089844, 160.6923065185547, 281.818115234375, 680.0134887695312, 167.3986358642578, 432.4408874511719, 306.1949462890625, 1182.612548828125, 446.7436218261719, 191.24447631835938, 2532.001953125, 317.2310791015625, 174.5559844970703, 245.84693908691406, 233.6563262939453, 172.1705780029297, 140.54310607910156, 172.26316833496094, 194.19285583496094, 157.15611267089844, 404.96044921875, 228.60728454589844, 127.65679931640625, 129.98907470703125, 132.46849060058594, 143.35585021972656, 145.0997314453125, 147.21548461914062, 150.9571533203125, 153.23495483398438, 156.58294677734375, 160.6923065185547, 161.98963928222656, 167.3986358642578, 167.6471405029297, 169.26339721679688, 176.07994079589844, 178.21383666992188, 185.34510803222656, 190.04522705078125, 191.24447631835938, 221.3235626220703, 482.9399719238281, 1812.8702392578125, 680.0134887695312, 305.3796691894531, 2171.65283203125, 2532.001953125, 435.3824462890625, 260.8281555175781, 265.37017822265625, 215.7926025390625, 208.29522705078125, 232.5034942626953, 440.14227294921875, 1019.6685180664062, 421.37554931640625, 127.65679931640625, 129.98907470703125, 132.46849060058594, 140.54310607910156, 143.35585021972656, 145.0997314453125, 147.21548461914062, 150.9571533203125, 153.23495483398438, 156.58294677734375, 157.15611267089844, 160.6923065185547, 161.98963928222656, 167.3986358642578, 167.6471405029297, 169.26339721679688, 172.1705780029297, 172.26316833496094, 174.5559844970703, 176.07994079589844, 178.21383666992188, 185.34510803222656, 190.04522705078125, 191.24447631835938, 193.59718322753906, 194.19285583496094, 195.6956787109375, 200.21334838867188, 203.45130920410156, 208.1809844970703, 255.40283203125, 306.1949462890625, 1182.612548828125, 446.7436218261719, 680.0134887695312, 2171.65283203125, 2532.001953125, 435.3824462890625, 260.8281555175781, 265.37017822265625, 215.7926025390625, 208.29522705078125, 232.5034942626953, 1019.6685180664062, 317.2310791015625, 221.3235626220703, 305.3796691894531, 1812.8702392578125, 245.84693908691406, 404.96044921875, 432.4408874511719, 211.87060546875, 704.525634765625, 482.9399719238281, 241.19430541992188, 167.3986358642578, 127.65679931640625, 129.98907470703125, 132.46849060058594, 140.54310607910156, 143.35585021972656, 145.0997314453125, 147.21548461914062, 150.9571533203125, 153.23495483398438, 156.58294677734375, 157.15611267089844, 160.6923065185547, 161.98963928222656, 167.6471405029297, 169.26339721679688, 172.1705780029297, 172.26316833496094, 174.5559844970703, 176.07994079589844, 178.21383666992188, 185.34510803222656, 190.04522705078125, 191.24447631835938, 193.59718322753906, 194.19285583496094, 195.6956787109375, 200.21334838867188, 203.45130920410156, 255.40283203125, 404.96044921875, 1182.612548828125, 446.7436218261719, 680.0134887695312, 2171.65283203125, 2532.001953125, 435.3824462890625, 260.8281555175781, 265.37017822265625, 215.7926025390625, 432.4408874511719, 208.29522705078125, 232.5034942626953, 1019.6685180664062, 317.2310791015625, 221.3235626220703, 305.3796691894531, 1812.8702392578125, 306.1949462890625, 704.525634765625, 259.05096435546875], \"loglift\": [30.0, 29.0, 28.0, 27.0, 26.0, 25.0, 24.0, 23.0, 22.0, 21.0, 20.0, 19.0, 18.0, 17.0, 16.0, 15.0, 14.0, 13.0, 12.0, 11.0, 10.0, 9.0, 8.0, 7.0, 6.0, 5.0, 4.0, 3.0, 2.0, 1.0, 3.2237000465393066, 2.4923999309539795, 2.1222000122070312, 1.7740000486373901, 1.0734000205993652, 1.0719000101089478, 0.9908000230789185, 0.9855999946594238, 0.9111999869346619, 0.7537000179290771, 0.7361000180244446, -0.07729999721050262, -0.6345999836921692, -2.42549991607666, -4.446700096130371, -4.464799880981445, -4.483699798583984, -4.542900085449219, -4.562699794769287, -4.57480001449585, -4.589300155639648, -4.6143999099731445, -4.629300117492676, -4.650899887084961, -4.654600143432617, -4.6768999099731445, -4.684899806976318, -4.717700004577637, -4.719200134277344, -4.745800018310547, -5.601099967956543, -6.672800064086914, -5.6992998123168945, -4.850900173187256, -6.119500160217285, -7.280600070953369, -7.434100151062012, -5.673600196838379, -5.321599960327148, -5.178500175476074, -4.971700191497803, -4.936299800872803, -5.046299934387207, 3.6965999603271484, 3.5381999015808105, 3.175600051879883, 2.9507999420166016, 2.6624999046325684, 1.9362000226974487, 1.850000023841858, 1.7994999885559082, 1.7375999689102173, 1.5250999927520752, 1.4916000366210938, 1.2724000215530396, 1.2611000537872314, 1.0369999408721924, 0.9222999811172485, 0.6880999803543091, 0.3472999930381775, 0.3190000057220459, 0.08829999715089798, -4.1508002281188965, -4.1697001457214355, -4.228899955749512, -4.248700141906738, -4.260799884796143, -4.275300025939941, -4.315400123596191, -4.336999893188477, -4.34060001373291, -4.3628997802734375, -4.3709001541137695, -5.370500087738037, -5.287199974060059, -6.35890007019043, -5.38539981842041, -4.536900043487549, -5.805500030517578, -6.966599941253662, -7.120200157165527, -5.352799892425537, -5.359600067138672, 3.1874001026153564, 3.0615999698638916, 2.9214000701904297, 2.694200038909912, 2.3650999069213867, 2.073899984359741, 1.9598000049591064, 1.7704999446868896, 1.2798000574111938, 1.2710000276565552, 1.0644999742507935, 0.8147000074386597, 0.7325999736785889, 0.5827999711036682, 0.36970001459121704, 0.3370000123977661, 0.2775999903678894, 0.20759999752044678, 0.19059999287128448, -0.014399999752640724, -4.6996002197265625, -4.717700004577637, -4.736599922180176, -4.79580020904541, -4.827700138092041, -4.842199802398682, -4.867300033569336, -4.882199764251709, -4.903900146484375, -4.929800033569336, -5.224599838256836, -4.972099781036377, -6.372399806976318, -7.5335001945495605, -7.686999797821045, -5.609899997711182, -5.189199924468994, -6.777500152587891, -5.952300071716309, -5.299200057983398, 4.045599937438965, -0.11249999701976776, -0.31839999556541443, -3.202699899673462, -3.2207999229431152, -3.2397000789642334, -3.2988998889923096, -3.318700075149536, -3.3308000564575195, -3.3452999591827393, -3.3703999519348145, -3.3852999210357666, -3.4070000648498535, -3.410599946975708, -3.4328999519348145, -3.4409000873565674, -3.47379994392395, -3.4751999378204346, -3.484800100326538, -3.5018999576568604, -3.5023999214172363, -3.5155999660491943, -3.5243000984191895, -3.536400079727173, -3.5755999088287354, -3.600600004196167, -3.6068999767303467, -3.6191999912261963, -3.6222000122070312, -3.6298999786376953, -3.896199941635132, -3.7276999950408936, -5.428899765014648, -4.455399990081787, -6.036600112915039, -6.190100193023682, -4.429599761962891, -3.9172000885009766, -3.934499979019165, -3.802299976348877, -3.6923000812530518, -3.910399913787842, -5.280600070953369, -4.11299991607666, -3.753000020980835, -4.074900150299072, -5.855999946594238, -3.6528000831604004, -4.3572001457214355, -4.077600002288818, -4.422800064086914, -4.910900115966797, 2.315000057220459, 2.118299961090088, 2.077500104904175, 1.8341000080108643, 1.6627000570297241, 1.183500051498413, 0.9081000089645386, 0.8407999873161316, 0.6567000150680542, 0.6230999827384949, 0.541700005531311, 0.40290001034736633, 0.3257000148296356, 0.18310000002384186, -0.0430000014603138, -5.082399845123291, -5.100500106811523, -5.1194000244140625, -5.178500175476074, -5.198299884796143, -5.210400104522705, -5.224899768829346, -5.25, -5.290299892425537, -5.3125, -5.3206000328063965, -5.353400230407715, -5.354899883270264, -5.364500045776367, -5.381499767303467, -7.308499813079834, -6.335000038146973, -5.486599922180176, -6.755099773406982, -7.916299819946289, -8.06980037689209, -6.143599987030029, -5.576300144195557, -5.8140997886657715, -5.6072998046875, -5.572000026702881, -5.6819000244140625, 4.065899848937988, 3.7063000202178955, 3.0139000415802, 3.0009000301361084, 2.2037999629974365, 1.7782000303268433, 1.7352999448776245, 1.2379000186920166, -4.003799915313721, -4.021900177001953, -4.040800094604492, -4.099999904632568, -4.119800090789795, -4.131899833679199, -4.146399974822998, -4.171500205993652, -4.186399936676025, -4.211699962615967, -4.234000205993652, -4.274799823760986, -4.276299953460693, -4.285900115966797, -4.302999973297119, -4.303500175476074, -4.316699981689453, -4.325399875640869, -4.337500095367432, -4.376699924468994, -4.401700019836426, -4.4079999923706055, -5.2307000160217285, -4.718299865722656, -6.991199970245361, -6.837699890136719, -5.676599979400635, -5.256499767303467, -4.735599994659424, -4.697299957275391, -4.528800010681152, -5.158299922943115, -4.4934000968933105, -4.603400230407715, -6.081699848175049, -4.914100170135498, -4.554100036621094, -4.875999927520752, -6.230000019073486, 2.84660005569458, 2.8464999198913574, 2.8464999198913574, 2.846299886703491, 2.40339994430542, 2.3324999809265137, 2.087399959564209, 2.05679988861084, 1.7763999700546265, 1.6169999837875366, 1.5332000255584717, 1.5152000188827515, 1.3206000328063965, 1.2973999977111816, 1.2193000316619873, 1.0049999952316284, 0.9947999715805054, 0.9804999828338623, 0.9602000117301941, 0.9564999938011169, 0.9265000224113464, 0.8705999851226807, 0.7728000283241272, 0.760699987411499, 0.7174000144004822, 0.6543999910354614, 0.5526999831199646, 0.43369999527931213, 0.430400013923645, 0.25130000710487366, 0.18780000507831573, -0.1396999955177307, 4.024700164794922, 3.9144999980926514, 3.322200059890747, 2.8375000953674316, 2.2367000579833984, 1.8694000244140625, 1.4426000118255615, 1.3273999691009521, -3.9804999828338623, -4.017499923706055, -4.076700210571289, -4.096499919891357, -4.10860013961792, -4.1230998039245605, -4.148200035095215, -4.1631999015808105, -4.184800148010254, -4.210700035095215, -4.218699932098389, -4.2515997886657715, -4.2530999183654785, -4.279699802398682, -4.280200004577637, -4.30210018157959, -4.314199924468994, -4.353400230407715, -4.378499984741211, -4.384799957275391, -4.396999835968018, -4.400100231170654, -5.135000228881836, -6.206699848175049, -5.2332000732421875, -5.653299808502197, -6.8144001960754395, -6.9679999351501465, -4.695099830627441, -5.207399845123291, -4.712299823760986, -4.505499839782715, -4.470200061798096, -4.580100059509277, -6.0584001541137695, -4.8907999992370605, -4.530799865722656, -4.855400085449219, -4.673999786376953, 3.1552999019622803, 3.0007998943328857, 2.999500036239624, 2.649199962615967, 2.6242001056671143, 1.9455000162124634, 1.8997999429702759, 1.7116999626159668, 1.6712000370025635, 0.9246000051498413, 0.7123000025749207, 0.580299973487854, 0.483599990606308, 0.48249998688697815, 0.28949999809265137, -0.5174000263214111, -0.7138000130653381, -4.622399806976318, -4.640500068664551, -4.65939998626709, -4.718500137329102, -4.73829984664917, -4.750400066375732, -4.764900207519531, -4.789999961853027, -4.804999828338623, -4.826600074768066, -4.893400192260742, -4.894899845123291, -4.9045000076293945, -5.041800022125244, -5.816500186920166, -5.497200012207031, -5.1168999671936035, -6.848499774932861, -5.875, -5.026599884033203, -6.295100212097168, -7.456299781799316, -7.609799861907959, -6.33050012588501, -5.8491997718811035, 3.2437000274658203, 2.944000005722046, 2.7697999477386475, 2.4693000316619873, 1.9301999807357788, -4.456399917602539, -4.4745001792907715, -4.4934000968933105, -4.552599906921387, -4.584499835968018, -4.598999977111816, -4.624100208282471, -4.639100074768066, -4.660699844360352, -4.664299964904785, -4.686600208282471, -4.6946001052856445, -4.727499961853027, -4.729000091552734, -4.73859977722168, -4.7555999755859375, -4.756100177764893, -4.7692999839782715, -4.7779998779296875, -4.79010009765625, -4.8292999267578125, -4.854400157928467, -4.860599994659424, -4.872900009155273, -4.875899791717529, -5.149899959564209, -4.946100234985352, -6.129199981689453, -7.290299892425537, -7.443900108337402, -5.683300018310547, -5.171000003814697, -5.188199996948242, -4.981400012969971, -5.056000232696533, -6.682600021362305, -6.534299850463867, -5.366700172424316, -5.006700038909912, -5.32859992980957, -7.109799861907959, -4.906499862670898, -5.111800193786621, -5.709099769592285, -5.676499843597412, -5.610899925231934, 2.9100000858306885, 2.7827000617980957, 2.3650999069213867, 2.237499952316284, 2.1710000038146973, 2.060499906539917, 1.9815000295639038, 1.9416999816894531, 1.7763999700546265, 1.7633999586105347, 1.4009000062942505, 0.6985999941825867, 0.5813000202178955, 0.490200012922287, 0.31209999322891235, 0.25540000200271606, -0.09690000116825104, -0.47040000557899475, -4.8703999519348145, -4.888500213623047, -4.907400131225586, -4.9664998054504395, -4.9984002113342285, -5.012899875640869, -5.038000106811523, -5.052999973297119, -5.0746002197265625, -5.0782999992370605, -5.100500106811523, -5.108500003814697, -6.052999973297119, -6.0971999168396, -5.58489990234375, -5.602099895477295, -5.360000133514404, -5.469900131225586, -5.16949987411499, -7.7042999267578125, -6.948200225830078, -5.142899990081787, -5.780600070953369, 2.0653998851776123, 2.0653998851776123, 2.0636000633239746, 2.0383999347686768, 1.8183000087738037, 1.6562000513076782, 1.2813999652862549, 1.2024999856948853, 1.1865999698638916, 1.065600037574768, 0.8952999711036682, 0.8314999938011169, 0.595300018787384, 0.5292999744415283, 0.5238999724388123, 0.5184999704360962, 0.4991999864578247, 0.41589999198913574, 0.4081000089645386, 0.38510000705718994, 0.3822999894618988, 0.36000001430511475, 0.335999995470047, 0.3303999900817871, 0.24660000205039978, 0.23109999299049377, 0.19689999520778656, 0.15199999511241913, 0.1062999963760376, 0.07410000264644623, 0.04179999977350235, -0.3711000084877014, -0.4025000035762787, -1.8614000082015991, 3.4960999488830566, 2.1823999881744385, 1.8992999792099, 1.754699945449829, 1.1576000452041626, 1.1094000339508057, 0.6640999913215637, -0.6155999898910522, -4.199399948120117, -4.21750020980835, -4.236400127410889, -4.295499801635742, -4.315400123596191, -4.327400207519531, -4.341899871826172, -4.367000102996826, -4.381999969482422, -4.403600215911865, -4.407299995422363, -4.429500102996826, -4.437600135803223, -4.470399856567383, -4.47189998626709, -4.481500148773193, -4.498499870300293, -4.499000072479248, -4.51230001449585, -4.520999908447266, -4.5329999923706055, -4.572199821472168, -4.913899898529053, -4.603600025177002, -7.033299922943115, -7.186800003051758, -5.452000141143799, -6.42549991607666, -5.426199913024902, -5.872099876403809, -4.689000129699707, -4.931099891662598, -4.724299907684326, -5.07420015335083, -4.798900127410889, -5.1097002029418945, -5.071599960327148, -6.852700233459473, -5.353799819946289, -4.892899990081787, 1.551900029182434, 1.5463999509811401, 1.4061000347137451, 1.312999963760376, 1.2275999784469604, 0.8497999906539917, 0.7287999987602234, 0.7103999853134155, 0.6796000003814697, 0.6625000238418579, 0.6118000149726868, 0.5954999923706055, 0.5873000025749207, 0.46309998631477356, 0.4300000071525574, 0.42969998717308044, 0.34360000491142273, 0.33649998903274536, 0.2775999903678894, 0.23749999701976776, 0.10019999742507935, 0.08349999785423279, 0.04170000180602074, -0.016699999570846558, -0.07000000029802322, -0.0746999979019165, -0.15539999306201935, -0.164900004863739, -0.17219999432563782, -0.3100000023841858, -0.46650001406669617, -0.8799999952316284, -0.5074999928474426, 3.100800037384033, 3.003499984741211, 2.8136000633239746, 2.617000102996826, 2.035799980163574, 1.6593999862670898, 1.3674999475479126, -0.5504999756813049, -4.598100185394287, -4.616199970245361, -4.6350998878479, -4.694300174713135, -4.714099884033203, -4.726200103759766, -4.740699768066406, -4.7657999992370605, -4.780700206756592, -4.802299976348877, -4.806000232696533, -4.8282999992370605, -4.836299896240234, -4.869100093841553, -4.87060022354126, -4.897200107574463, -4.897799968719482, -4.910999774932861, -4.9197001457214355, -4.931700229644775, -4.9710001945495605, -4.995999813079834, -6.429800033569336, -5.087699890136719, -6.270899772644043, -7.432000160217285, -7.5854997634887695, -5.824999809265137, -5.835899829864502, -5.312600135803223, -5.329899787902832, -5.1230998039245605, -5.197700023651123, -5.180799961090088, -6.676000118255615, -5.792300224304199, -5.148399829864502, -5.470300197601318, -5.928699970245361, -7.251399993896484, 2.9159998893737793, 2.812999963760376, 2.7843000888824463, 2.598099946975708, 2.5569000244140625, 2.4333999156951904, 2.398099899291992, 2.377700090408325, 2.2683000564575195, 2.0601000785827637, 1.9562000036239624, 1.8479000329971313, 1.5901999473571777, 1.4294999837875366, 1.3898999691009521, 1.1777000427246094, 0.9937000274658203, 0.8392000198364258, 0.7867000102996826, 0.5896000266075134, 0.545799970626831, 0.4936999976634979, 0.002099999925121665, -0.05609999969601631, -4.833000183105469, -4.869999885559082, -4.948999881744385, -4.961100101470947, -4.975599765777588, -5.000699996948242, -5.8850998878479, -6.505799770355225, -7.666900157928467, -7.820400238037109, -5.4156999588012695, 1.0855000019073486, 1.0673999786376953, 1.0484999418258667, 0.9894000291824341, 0.9695000052452087, 0.9574000239372253, 0.9430000185966492, 0.917900025844574, 0.902899980545044, 0.8812999725341797, 0.8776000142097473, 0.855400025844574, 0.8472999930381775, 0.8144999742507935, 0.8130000233650208, 0.8033999800682068, 0.7864000201225281, 0.7857999801635742, 0.772599995136261, 0.7638999819755554, 0.7519000172615051, 0.7127000093460083, 0.6876000165939331, 0.6812999844551086, 0.6690999865531921, 0.6660000085830688, 0.65829998254776, 0.6355000138282776, 0.6194000244140625, 0.5964999794960022, 0.3919999897480011, 0.21060000360012054, -1.1405999660491943, -0.1670999974012375, -0.5871999859809875, -1.7483999729156494, -1.901900053024292, -0.14139999449253082, 0.3709999918937683, 0.35370001196861267, 0.5605999827384949, 0.5958999991416931, 0.4860000014305115, -0.9923999905586243, 0.17520000040531158, 0.5351999998092651, 0.21330000460147858, -1.5678000450134277, 0.4302000105381012, -0.06889999657869339, -0.13459999859333038, 0.5788999795913696, -0.6226999759674072, -0.24500000476837158, 4.13070011138916, 3.2000999450683594, 2.961899995803833, 2.5724000930786133, 2.52810001373291, 2.1937999725341797, 0.9889000058174133, -3.6003000736236572, -3.6184000968933105, -3.6373000144958496, -3.696500062942505, -3.7163000106811523, -3.7428998947143555, -3.7679998874664307, -3.7829999923706055, -3.8046000003814697, -3.808199882507324, -3.8304998874664307, -3.8714001178741455, -3.8729000091552734, -3.882499933242798, -3.8994998931884766, -3.9000000953674316, -3.9131999015808105, -3.9219000339508057, -3.934000015258789, -3.9732000827789307, -4.004499912261963, -4.019800186157227, -4.027599811553955, -4.314899921417236, -5.826499938964844, -4.853000164031982, -5.273099899291992, -6.434199810028076, -6.587800025939941, -4.827199935913086, -4.293799877166748, -4.332099914550781, -4.475200176239014, -4.12529993057251, -4.090000152587891, -4.199900150299072, -5.678199768066406, -4.5106000900268555, -4.150599956512451, -4.472599983215332, -4.754799842834473, -5.308499813079834, 3.091099977493286, 2.5934998989105225, 2.396199941635132, 2.324700117111206, 2.305799961090088, 2.296999931335449, 2.2070000171661377, 1.982300043106079, 1.8086999654769897, 1.739799976348877, 1.6674000024795532, 1.6404000520706177, 1.6217000484466553, 1.5956000089645386, 1.149899959564209, 1.107699990272522, 0.8198000192642212, 0.7930999994277954, 0.6169000267982483, 0.574400007724762, 0.5149999856948853, 0.4648999869823456, 0.39820000529289246, 0.33480000495910645, -0.030799999833106995, -0.06780000030994415, -0.9732999801635742, -5.129000186920166, -5.14709997177124, -5.165999889373779, -5.718500137329102, -6.648900032043457, -5.333199977874756, 2.2102999687194824, 1.9697999954223633, 1.687999963760376, 1.575700044631958, 1.1949000358581543, 1.1301000118255615, 1.1190999746322632, 1.0967999696731567, 1.0911999940872192, 0.977400004863739, 0.9656000137329102, 0.942300021648407, 0.9235000014305115, 0.9128999710083008, 0.8406999707221985, 0.7728000283241272, 0.7556999921798706, 0.6359000205993652, 0.6079999804496765, 0.588699996471405, 0.5802000164985657, 0.5601999759674072, 0.5120000243186951, 0.5044000148773193, 0.4392000138759613, 0.16830000281333923, 0.16200000047683716, 0.07360000163316727, -0.04989999905228615, -0.10639999806880951, -0.21240000426769257, -0.7440000176429749, -0.7666000127792358, 3.292799949645996, 3.0304999351501465, 2.5922999382019043, 2.511199951171875, 2.1454999446868896, 2.1384999752044678, 1.708400011062622, 1.6893999576568604, 1.6319999694824219, 1.5943000316619873, 1.5513999462127686, 1.5506000518798828, 1.3056999444961548, 1.0950000286102295, 0.887499988079071, -4.362199783325195, -4.380300045013428, -4.458399772644043, -4.4781999588012695, -4.490300178527832, -4.504799842834473, -4.544899940490723, -4.566500186920166, -4.570099830627441, -4.592400074005127, -4.600399971008301, -4.633299827575684, -4.634699821472168, -4.6442999839782715, -4.661399841308594, -5.6149001121521, -4.76639986038208, -6.034999847412109, -7.196100234985352, -6.588399887084961, -5.51669979095459, -5.237100124359131, -7.349599838256836, -6.070400238037109, -5.589099884033203, -4.887199878692627, -4.851799964904785, 3.3317999839782715, 3.1891000270843506, 2.017199993133545, 1.8109999895095825, 1.7877999544143677, 1.5540000200271606, 1.49399995803833, 1.3702000379562378, 1.3342000246047974, 1.194599986076355, 1.059999942779541, 1.0180000066757202, 0.7468000054359436, 0.5986999869346619, 0.5666999816894531, 0.5615000128746033, 0.5530999898910522, 0.461899995803833, 0.28119999170303345, -0.8210999965667725, -4.498199939727783, -4.516300201416016, -4.535200119018555, -4.594299793243408, -4.614099979400635, -4.640699863433838, -4.665800094604492, -4.680799961090088, -4.706099987030029, -4.728300094604492, -5.29010009765625, -6.170899868011475, -4.769199848175049, -5.718299865722656, -5.373000144958496, -6.724299907684326, -5.750800132751465, -4.902400016784668, -7.485599994659424, 3.870300054550171, 3.2495999336242676, 3.12719988822937, 2.9572999477386475, 2.672600030899048, 2.4655001163482666, 2.2435998916625977, 2.158900022506714, 1.635699987411499, 1.096500039100647, 1.0098999738693237, -4.39139986038208, -4.4095001220703125, -4.428400039672852, -4.507400035858154, -4.519499778747559, -4.533899784088135, -4.559000015258789, -4.573999881744385, -4.595600128173828, -4.621500015258789, -4.6296000480651855, -4.662399768829346, -4.663899898529053, -4.673500061035156, -4.7129998207092285, -4.724999904632568, -4.7642998695373535, -4.789299964904785, -4.795599937438965, -4.941699981689453, -5.72189998626709, -7.0447001457214355, -6.064199924468994, -5.263599872589111, -7.225299835205078, -7.378799915313721, -5.618299961090088, -5.105899810791016, -5.123199939727783, -4.916399955749512, -4.88100004196167, -4.990900039672852, -5.6290998458862305, -6.469299793243408, -5.585599899291992, 1.0855000019073486, 1.0673999786376953, 1.0484999418258667, 0.9894000291824341, 0.9695000052452087, 0.9574000239372253, 0.9430000185966492, 0.917900025844574, 0.902899980545044, 0.8812999725341797, 0.8776000142097473, 0.855400025844574, 0.8472999930381775, 0.8144999742507935, 0.8130000233650208, 0.8033999800682068, 0.7864000201225281, 0.7857999801635742, 0.772599995136261, 0.7638999819755554, 0.7519000172615051, 0.7127000093460083, 0.6876000165939331, 0.6812999844551086, 0.6690999865531921, 0.6660000085830688, 0.65829998254776, 0.6355000138282776, 0.6194000244140625, 0.5964999794960022, 0.3919999897480011, 0.21060000360012054, -1.1405999660491943, -0.1670999974012375, -0.5871999859809875, -1.7483999729156494, -1.901900053024292, -0.14139999449253082, 0.3709999918937683, 0.35370001196861267, 0.5605999827384949, 0.5958999991416931, 0.4860000014305115, -0.9923999905586243, 0.17520000040531158, 0.5351999998092651, 0.21330000460147858, -1.5678000450134277, 0.4302000105381012, -0.06889999657869339, -0.13459999859333038, 0.5788999795913696, -0.6226999759674072, -0.24500000476837158, 4.765900135040283, 4.217599868774414, -3.5541999340057373, -3.5722999572753906, -3.591200113296509, -3.650399923324585, -3.6702001094818115, -3.682300090789795, -3.6967999935150146, -3.72189998626709, -3.736799955368042, -3.758500099182129, -3.7620999813079834, -3.78439998626709, -3.7923998832702637, -3.82669997215271, -3.8362998962402344, -3.8533999919891357, -3.8538999557495117, -3.8671000003814697, -3.8757998943328857, -3.8879001140594482, -3.9270999431610107, -3.9521000385284424, -3.958400011062622, -3.9707000255584717, -3.9737000465393066, -3.9814000129699707, -4.004300117492676, -4.020299911499023, -4.247700214385986, -4.708700180053711, -5.780399799346924, -4.8069000244140625, -5.2270002365112305, -6.3881001472473145, -6.541600227355957, -4.781099796295166, -4.268700122833252, -4.285999774932861, -4.07919979095459, -4.7743000984191895, -4.043799877166748, -4.153800010681152, -5.6321001052856445, -4.4644999504089355, -4.104499816894531, -4.426400184631348, -6.207499980926514, -4.429100036621094, -5.262400150299072, -4.261899948120117], \"logprob\": [30.0, 29.0, 28.0, 27.0, 26.0, 25.0, 24.0, 23.0, 22.0, 21.0, 20.0, 19.0, 18.0, 17.0, 16.0, 15.0, 14.0, 13.0, 12.0, 11.0, 10.0, 9.0, 8.0, 7.0, 6.0, 5.0, 4.0, 3.0, 2.0, 1.0, -0.5241000056266785, -2.0624001026153564, -2.8285999298095703, -3.6928999423980713, -4.067299842834473, -2.691499948501587, -3.2753000259399414, -4.251299858093262, -3.8482000827789307, -4.412600040435791, -4.488500118255615, -5.526599884033203, -4.952300071716309, -7.302299976348877, -10.195699691772461, -10.195699691772461, -10.195699691772461, -10.195699691772461, -10.195699691772461, -10.195699691772461, -10.195699691772461, -10.195699691772461, -10.195699691772461, -10.195699691772461, -10.195699691772461, -10.195699691772461, -10.195699691772461, -10.195699691772461, -10.195699691772461, -10.195699691772461, -10.195699691772461, -10.195699691772461, -10.195699691772461, -10.195699691772461, -10.195699691772461, -10.195699691772461, -10.195699691772461, -10.195699691772461, -10.195699691772461, -10.195699691772461, -10.195699691772461, -10.195699691772461, -10.195699691772461, -1.3588999509811401, -1.760699987411499, -2.4056999683380127, -2.272599935531616, -3.086400032043457, -3.246299982070923, -3.626499891281128, -3.2348999977111816, -3.729300022125244, -3.3433001041412354, -3.4591000080108643, -3.868299961090088, -3.7560999393463135, -4.056600093841553, -4.527599811553955, -3.578000068664551, -4.797299861907959, -4.714099884033203, -4.229400157928467, -9.881699562072754, -9.881699562072754, -9.881699562072754, -9.881699562072754, -9.881699562072754, -9.881699562072754, -9.881699562072754, -9.881699562072754, -9.881699562072754, -9.881699562072754, -9.881699562072754, -9.881699562072754, -9.881699562072754, -9.881699562072754, -9.881699562072754, -9.881699562072754, -9.881699562072754, -9.881699562072754, -9.881699562072754, -9.881699562072754, -9.881699562072754, -2.1572999954223633, -1.8598999977111816, -1.6449999809265137, -1.6234999895095825, -3.2678000926971436, -3.150700092315674, -2.990999937057495, -3.70740008354187, -4.261300086975098, -3.6057000160217285, -3.6689999103546143, -3.6036999225616455, -4.322800159454346, -4.114200115203857, -4.2494001388549805, -4.961900234222412, -4.481800079345703, -5.303100109100342, -4.331500053405762, -5.121799945831299, -10.448599815368652, -10.448599815368652, -10.448599815368652, -10.448599815368652, -10.448599815368652, -10.448599815368652, -10.448599815368652, -10.448599815368652, -10.448599815368652, -10.448599815368652, -10.448599815368652, -10.448599815368652, -10.448599815368652, -10.448599815368652, -10.448599815368652, -10.448599815368652, -10.448599815368652, -10.448599815368652, -10.448599815368652, -10.448599815368652, -0.03060000017285347, -4.846099853515625, -4.719399929046631, -8.951700210571289, -8.951700210571289, -8.951700210571289, -8.951700210571289, -8.951700210571289, -8.951700210571289, -8.951700210571289, -8.951700210571289, -8.951700210571289, -8.951700210571289, -8.951700210571289, -8.951700210571289, -8.951700210571289, -8.951700210571289, -8.951700210571289, -8.951700210571289, -8.951700210571289, -8.951700210571289, -8.951700210571289, -8.951700210571289, -8.951700210571289, -8.951700210571289, -8.951700210571289, -8.951700210571289, -8.951700210571289, -8.951700210571289, -8.951700210571289, -8.951700210571289, -8.951700210571289, -8.951700210571289, -8.951700210571289, -8.951700210571289, -8.951700210571289, -8.951700210571289, -8.951700210571289, -8.951700210571289, -8.951700210571289, -8.951700210571289, -8.951700210571289, -8.951700210571289, -8.951700210571289, -8.951700210571289, -8.951700210571289, -8.951700210571289, -8.951700210571289, -8.951700210571289, -8.951700210571289, -8.951700210571289, -8.951700210571289, -2.2070999145507812, -0.9772999882698059, -1.5936000347137451, -2.431999921798706, -3.4779999256134033, -3.513400077819824, -3.603100061416626, -3.6881000995635986, -4.888000011444092, -3.7146999835968018, -3.375699996948242, -4.1915998458862305, -4.075300216674805, -5.383299827575684, -5.279900074005127, -10.831299781799316, -10.831299781799316, -10.831299781799316, -10.831299781799316, -10.831299781799316, -10.831299781799316, -10.831299781799316, -10.831299781799316, -10.831299781799316, -10.831299781799316, -10.831299781799316, -10.831299781799316, -10.831299781799316, -10.831299781799316, -10.831299781799316, -10.831299781799316, -10.831299781799316, -10.831299781799316, -10.831299781799316, -10.831299781799316, -10.831299781799316, -10.831299781799316, -10.831299781799316, -10.831299781799316, -10.831299781799316, -10.831299781799316, -10.831299781799316, -0.9753999710083008, -1.5084999799728394, -2.0943000316619873, -2.3315999507904053, -3.02810001373291, -3.7664999961853027, -3.7755000591278076, -2.5099000930786133, -9.752799987792969, -9.752799987792969, -9.752799987792969, -9.752799987792969, -9.752799987792969, -9.752799987792969, -9.752799987792969, -9.752799987792969, -9.752799987792969, -9.752799987792969, -9.752799987792969, -9.752799987792969, -9.752799987792969, -9.752799987792969, -9.752799987792969, -9.752799987792969, -9.752799987792969, -9.752799987792969, -9.752799987792969, -9.752799987792969, -9.752799987792969, -9.752799987792969, -9.752799987792969, -9.752799987792969, -9.752799987792969, -9.752799987792969, -9.752799987792969, -9.752799987792969, -9.752799987792969, -9.752799987792969, -9.752799987792969, -9.752799987792969, -9.752799987792969, -9.752799987792969, -9.752799987792969, -9.752799987792969, -9.752799987792969, -9.752799987792969, -9.752799987792969, -2.395699977874756, -2.407900094985962, -2.4084999561309814, -2.4365999698638916, -3.1375999450683594, -2.8921000957489014, -3.45740008354187, -3.563999891281128, -3.382999897003174, -2.8013999462127686, -3.7962000370025635, -3.5922000408172607, -3.5560998916625977, -4.1178998947143555, -4.156799793243408, -4.194200038909912, -4.154600143432617, -4.218200206756592, -4.148099899291992, -4.394499778747559, -4.509500026702881, -4.353400230407715, -3.565000057220459, -3.6403000354766846, -4.50600004196167, -4.8125, -4.206600189208984, -3.884000062942505, -4.164100170135498, -4.783199787139893, -4.0782999992370605, -3.887500047683716, -0.9323999881744385, -1.291700005531311, -1.9148000478744507, -2.598599910736084, -3.4941999912261963, -3.6717000007629395, -3.4342000484466553, -4.139500141143799, -9.729499816894531, -9.729499816894531, -9.729499816894531, -9.729499816894531, -9.729499816894531, -9.729499816894531, -9.729499816894531, -9.729499816894531, -9.729499816894531, -9.729499816894531, -9.729499816894531, -9.729499816894531, -9.729499816894531, -9.729499816894531, -9.729499816894531, -9.729499816894531, -9.729499816894531, -9.729499816894531, -9.729499816894531, -9.729499816894531, -9.729499816894531, -9.729499816894531, -9.729499816894531, -9.729499816894531, -9.729499816894531, -9.729499816894531, -9.729499816894531, -9.729499816894531, -9.729499816894531, -9.729499816894531, -9.729499816894531, -9.729499816894531, -9.729499816894531, -9.729499816894531, -9.729499816894531, -9.729499816894531, -9.729499816894531, -9.729499816894531, -9.729499816894531, -1.5782999992370605, -1.8675999641418457, -2.166800022125244, -2.4444000720977783, -1.9948999881744385, -3.195199966430664, -3.6108999252319336, -2.7067999839782715, -3.473400115966797, -3.6698999404907227, -3.0510001182556152, -4.938499927520752, -4.775700092315674, -3.783600091934204, -4.909200191497803, -6.0584001541137695, -4.384900093078613, -10.371299743652344, -10.371299743652344, -10.371299743652344, -10.371299743652344, -10.371299743652344, -10.371299743652344, -10.371299743652344, -10.371299743652344, -10.371299743652344, -10.371299743652344, -10.371299743652344, -10.371299743652344, -10.371299743652344, -10.371299743652344, -10.371299743652344, -10.371299743652344, -10.371299743652344, -10.371299743652344, -10.371299743652344, -10.371299743652344, -10.371299743652344, -10.371299743652344, -10.371299743652344, -10.371299743652344, -10.371299743652344, -0.9853000044822693, -1.117799997329712, -1.9500000476837158, -2.0480000972747803, -3.7028000354766846, -10.205400466918945, -10.205400466918945, -10.205400466918945, -10.205400466918945, -10.205400466918945, -10.205400466918945, -10.205400466918945, -10.205400466918945, -10.205400466918945, -10.205400466918945, -10.205400466918945, -10.205400466918945, -10.205400466918945, -10.205400466918945, -10.205400466918945, -10.205400466918945, -10.205400466918945, -10.205400466918945, -10.205400466918945, -10.205400466918945, -10.205400466918945, -10.205400466918945, -10.205400466918945, -10.205400466918945, -10.205400466918945, -10.205400466918945, -10.205400466918945, -10.205400466918945, -10.205400466918945, -10.205400466918945, -10.205400466918945, -10.205400466918945, -10.205400466918945, -10.205400466918945, -10.205400466918945, -10.205400466918945, -10.205400466918945, -10.205400466918945, -10.205400466918945, -10.205400466918945, -10.205400466918945, -10.205400466918945, -10.205400466918945, -10.205400466918945, -10.205400466918945, -10.205400466918945, -1.607300043106079, -2.3912999629974365, -3.084199905395508, -1.679800033569336, -3.0352001190185547, -2.636399984359741, -2.5297000408172607, -2.5871999263763428, -3.364300012588501, -3.8696000576019287, -3.6710000038146973, -2.824199914932251, -4.769700050354004, -4.733799934387207, -5.103300094604492, -4.082399845123291, -4.414700031280518, -5.025199890136719, -10.61929988861084, -10.61929988861084, -10.61929988861084, -10.61929988861084, -10.61929988861084, -10.61929988861084, -10.61929988861084, -10.61929988861084, -10.61929988861084, -10.61929988861084, -10.61929988861084, -10.61929988861084, -10.61929988861084, -10.61929988861084, -10.61929988861084, -10.61929988861084, -10.61929988861084, -10.61929988861084, -10.61929988861084, -10.61929988861084, -10.61929988861084, -10.61929988861084, -10.61929988861084, -2.6224000453948975, -2.6231000423431396, -2.9835000038146973, -3.3889999389648438, -1.8559999465942383, -3.1315999031066895, -3.214900016784668, -3.517199993133545, -2.875200033187866, -4.00629997253418, -4.711100101470947, -4.749800205230713, -4.619500160217285, -4.167600154876709, -4.005000114440918, -3.3987998962402344, -4.01200008392334, -4.807499885559082, -4.700099945068359, -3.378200054168701, -2.7132999897003174, -4.514100074768066, -5.142000198364258, -4.901500225067139, -5.484300136566162, -4.363399982452393, -5.002200126647949, -5.072000026702881, -4.9268999099731445, -5.070499897003174, -3.629300117492676, -3.893899917602539, -4.740300178527832, -4.623000144958496, -0.26429998874664307, -3.1501998901367188, -2.5190999507904053, -3.5441999435424805, -3.397200107574463, -4.089200019836426, -4.480400085449219, -4.286600112915039, -9.9483003616333, -9.9483003616333, -9.9483003616333, -9.9483003616333, -9.9483003616333, -9.9483003616333, -9.9483003616333, -9.9483003616333, -9.9483003616333, -9.9483003616333, -9.9483003616333, -9.9483003616333, -9.9483003616333, -9.9483003616333, -9.9483003616333, -9.9483003616333, -9.9483003616333, -9.9483003616333, -9.9483003616333, -9.9483003616333, -9.9483003616333, -9.9483003616333, -9.9483003616333, -9.9483003616333, -9.9483003616333, -9.9483003616333, -9.9483003616333, -9.9483003616333, -9.9483003616333, -9.9483003616333, -9.9483003616333, -9.9483003616333, -9.9483003616333, -9.9483003616333, -9.9483003616333, -9.9483003616333, -9.9483003616333, -9.9483003616333, -9.9483003616333, -9.9483003616333, -1.3631999492645264, -1.2151999473571777, -3.4679999351501465, -4.39900016784668, -4.378799915313721, -4.899099826812744, -4.503200054168701, -3.365799903869629, -4.642099857330322, -4.354599952697754, -4.587299823760986, -4.780600070953369, -4.289400100708008, -4.570099830627441, -4.678299903869629, -3.4876999855041504, -4.185299873352051, -4.360400199890137, -4.23360013961792, -4.985799789428711, -3.5741000175476074, -5.023799896240234, -5.1570000648498535, -5.466000080108643, -4.63640022277832, -5.727499961853027, -3.250999927520752, -5.3094000816345215, -3.8433001041412354, -5.492499828338623, -5.225900173187256, -5.280900001525879, -5.428999900817871, -1.3955999612808228, -2.155900001525879, -0.9496999979019165, -2.170799970626831, -2.6442999839782715, -3.807499885559082, -3.4711999893188477, -4.8165998458862305, -10.347100257873535, -10.347100257873535, -10.347100257873535, -10.347100257873535, -10.347100257873535, -10.347100257873535, -10.347100257873535, -10.347100257873535, -10.347100257873535, -10.347100257873535, -10.347100257873535, -10.347100257873535, -10.347100257873535, -10.347100257873535, -10.347100257873535, -10.347100257873535, -10.347100257873535, -10.347100257873535, -10.347100257873535, -10.347100257873535, -10.347100257873535, -10.347100257873535, -10.347100257873535, -10.347100257873535, -10.347100257873535, -10.347100257873535, -10.347100257873535, -10.347100257873535, -10.347100257873535, -10.347100257873535, -10.347100257873535, -10.347100257873535, -10.347100257873535, -10.347100257873535, -10.347100257873535, -10.347100257873535, -10.347100257873535, -10.347100257873535, -10.347100257873535, -10.347100257873535, -2.2774999141693115, -2.7058000564575195, -2.946500062942505, -2.8782999515533447, -1.844099998474121, -3.219399929046631, -2.78439998626709, -2.7669999599456787, -3.1470000743865967, -3.0843000411987305, -3.076900005340576, -3.481600046157837, -3.6338000297546387, -3.7298998832702637, -2.927799940109253, -4.198299884796143, -3.5611000061035156, -4.70550012588501, -4.081699848175049, -4.6697998046875, -3.7202999591827393, -4.73829984664917, -5.1971001625061035, -4.578199863433838, -10.581999778747559, -10.581999778747559, -10.581999778747559, -10.581999778747559, -10.581999778747559, -10.581999778747559, -10.581999778747559, -10.581999778747559, -10.581999778747559, -10.581999778747559, -10.581999778747559, -4.663400173187256, -4.663400173187256, -4.663400173187256, -4.663400173187256, -4.663400173187256, -4.663400173187256, -4.663400173187256, -4.663400173187256, -4.663400173187256, -4.663400173187256, -4.663400173187256, -4.663400173187256, -4.663400173187256, -4.663400173187256, -4.663400173187256, -4.663400173187256, -4.663400173187256, -4.663400173187256, -4.663400173187256, -4.663400173187256, -4.663400173187256, -4.663400173187256, -4.663400173187256, -4.663400173187256, -4.663400173187256, -4.663400173187256, -4.663400173187256, -4.663400173187256, -4.663400173187256, -4.663400173187256, -4.663400173187256, -4.663400173187256, -4.663400173187256, -4.663400173187256, -4.663400173187256, -4.663400173187256, -4.663400173187256, -4.663400173187256, -4.663400173187256, -4.663400173187256, -4.663400173187256, -4.663400173187256, -4.663400173187256, -4.663400173187256, -4.663400173187256, -4.663400173187256, -4.663400173187256, -4.663400173187256, -4.663400173187256, -4.663400173187256, -4.663400173187256, -4.663400173187256, -4.663400173187256, -4.663400173187256, -0.5493999719619751, -2.150899887084961, -1.9888999462127686, -3.0485000610351562, -2.982599973678589, -2.9997000694274902, -4.343699932098389, -9.349300384521484, -9.349300384521484, -9.349300384521484, -9.349300384521484, -9.349300384521484, -9.349300384521484, -9.349300384521484, -9.349300384521484, -9.349300384521484, -9.349300384521484, -9.349300384521484, -9.349300384521484, -9.349300384521484, -9.349300384521484, -9.349300384521484, -9.349300384521484, -9.349300384521484, -9.349300384521484, -9.349300384521484, -9.349300384521484, -9.349300384521484, -9.349300384521484, -9.349300384521484, -9.349300384521484, -9.349300384521484, -9.349300384521484, -9.349300384521484, -9.349300384521484, -9.349300384521484, -9.349300384521484, -9.349300384521484, -9.349300384521484, -9.349300384521484, -9.349300384521484, -9.349300384521484, -9.349300384521484, -9.349300384521484, -9.349300384521484, -9.349300384521484, -9.349300384521484, -9.349300384521484, -9.349300384521484, -2.4751999378204346, -2.856300115585327, -2.8278000354766846, -2.996999979019165, -2.892899990081787, -2.225100040435791, -2.1308000087738037, -3.2546000480651855, -2.785799980163574, -3.409600019454956, -3.2897000312805176, -2.760499954223633, -3.255000114440918, -3.7553999423980713, -4.360899925231934, -3.310699939727783, -4.440100193023682, -4.583000183105469, -5.035900115966797, -4.755099773406982, -4.69980001449585, -4.56820011138916, -4.156599998474121, -3.428499937057495, -5.29010009765625, -5.208499908447266, -5.2393999099731445, -10.877900123596191, -10.877900123596191, -10.877900123596191, -10.877900123596191, -10.877900123596191, -10.877900123596191, -1.3125, -3.2894999980926514, -3.3838999271392822, -3.598299980163574, -4.281499862670898, -2.5408999919891357, -4.080100059509277, -3.169300079345703, -4.058199882507324, -2.118299961090088, -4.501299858093262, -4.40880012512207, -4.595300197601318, -4.597899913787842, -3.3882999420166016, -3.565000057220459, -4.388899803161621, -4.546599864959717, -4.425099849700928, -4.787399768829346, -5.168799877166748, -4.855199813842773, -4.505199909210205, -4.024499893188477, -4.072000026702881, -4.976200103759766, -5.167399883270264, -4.520999908447266, -5.157299995422363, -4.661099910736084, -4.129700183868408, -3.5055999755859375, -3.6816000938415527, -1.7417000532150269, -1.7288999557495117, -2.5151000022888184, -2.1078999042510986, -3.187000036239624, -3.573499917984009, -3.8729000091552734, -3.4600000381469727, -2.1314001083374023, -3.422800064086914, -3.6421000957489014, -3.778899908065796, -4.015999794006348, -2.6654000282287598, -3.4502999782562256, -10.111200332641602, -10.111200332641602, -10.111200332641602, -10.111200332641602, -10.111200332641602, -10.111200332641602, -10.111200332641602, -10.111200332641602, -10.111200332641602, -10.111200332641602, -10.111200332641602, -10.111200332641602, -10.111200332641602, -10.111200332641602, -10.111200332641602, -10.111200332641602, -10.111200332641602, -10.111200332641602, -10.111200332641602, -10.111200332641602, -10.111200332641602, -10.111200332641602, -10.111200332641602, -10.111200332641602, -10.111200332641602, -10.111200332641602, -10.111200332641602, -0.7089999914169312, -2.0708000659942627, -3.6036999225616455, -2.743799924850464, -3.7569000720977783, -3.8952999114990234, -3.672300100326538, -3.8617000579833984, -3.683000087738037, -3.399899959564209, -4.389800071716309, -4.397299766540527, -3.5708999633789062, -4.541999816894531, -3.8517000675201416, -4.587900161743164, -3.7130000591278076, -4.9141998291015625, -4.955699920654297, -5.332300186157227, -10.247099876403809, -10.247099876403809, -10.247099876403809, -10.247099876403809, -10.247099876403809, -10.247099876403809, -10.247099876403809, -10.247099876403809, -10.247099876403809, -10.247099876403809, -10.247099876403809, -10.247099876403809, -10.247099876403809, -10.247099876403809, -10.247099876403809, -10.247099876403809, -10.247099876403809, -10.247099876403809, -10.247099876403809, -0.9684000015258789, -2.186500072479248, -1.9664000272750854, -2.1872000694274902, -2.7771999835968018, -3.187299966812134, -3.2056000232696533, -3.1705000400543213, -3.905400037765503, -3.4981000423431396, -4.156400203704834, -10.140299797058105, -10.140299797058105, -10.140299797058105, -10.140299797058105, -10.140299797058105, -10.140299797058105, -10.140299797058105, -10.140299797058105, -10.140299797058105, -10.140299797058105, -10.140299797058105, -10.140299797058105, -10.140299797058105, -10.140299797058105, -10.140299797058105, -10.140299797058105, -10.140299797058105, -10.140299797058105, -10.140299797058105, -10.140299797058105, -10.140299797058105, -10.140299797058105, -10.140299797058105, -10.140299797058105, -10.140299797058105, -10.140299797058105, -10.140299797058105, -10.140299797058105, -10.140299797058105, -10.140299797058105, -10.140299797058105, -10.140299797058105, -10.140299797058105, -10.140299797058105, -10.140299797058105, -4.663400173187256, -4.663400173187256, -4.663400173187256, -4.663400173187256, -4.663400173187256, -4.663400173187256, -4.663400173187256, -4.663400173187256, -4.663400173187256, -4.663400173187256, -4.663400173187256, -4.663400173187256, -4.663400173187256, -4.663400173187256, -4.663400173187256, -4.663400173187256, -4.663400173187256, -4.663400173187256, -4.663400173187256, -4.663400173187256, -4.663400173187256, -4.663400173187256, -4.663400173187256, -4.663400173187256, -4.663400173187256, -4.663400173187256, -4.663400173187256, -4.663400173187256, -4.663400173187256, -4.663400173187256, -4.663400173187256, -4.663400173187256, -4.663400173187256, -4.663400173187256, -4.663400173187256, -4.663400173187256, -4.663400173187256, -4.663400173187256, -4.663400173187256, -4.663400173187256, -4.663400173187256, -4.663400173187256, -4.663400173187256, -4.663400173187256, -4.663400173187256, -4.663400173187256, -4.663400173187256, -4.663400173187256, -4.663400173187256, -4.663400173187256, -4.663400173187256, -4.663400173187256, -4.663400173187256, -4.663400173187256, -0.3467999994754791, -1.2603000402450562, -9.303199768066406, -9.303199768066406, -9.303199768066406, -9.303199768066406, -9.303199768066406, -9.303199768066406, -9.303199768066406, -9.303199768066406, -9.303199768066406, -9.303199768066406, -9.303199768066406, -9.303199768066406, -9.303199768066406, -9.303199768066406, -9.303199768066406, -9.303199768066406, -9.303199768066406, -9.303199768066406, -9.303199768066406, -9.303199768066406, -9.303199768066406, -9.303199768066406, -9.303199768066406, -9.303199768066406, -9.303199768066406, -9.303199768066406, -9.303199768066406, -9.303199768066406, -9.303199768066406, -9.303199768066406, -9.303199768066406, -9.303199768066406, -9.303199768066406, -9.303199768066406, -9.303199768066406, -9.303199768066406, -9.303199768066406, -9.303199768066406, -9.303199768066406, -9.303199768066406, -9.303199768066406, -9.303199768066406, -9.303199768066406, -9.303199768066406, -9.303199768066406, -9.303199768066406, -9.303199768066406, -9.303199768066406, -9.303199768066406, -9.303199768066406]}, \"token.table\": {\"Topic\": [2, 3, 13, 3, 7, 10, 11, 14, 20, 3, 12, 25, 2, 7, 12, 14, 1, 2, 5, 9, 11, 19, 22, 3, 7, 9, 13, 14, 19, 22, 13, 21, 8, 12, 16, 20, 1, 3, 7, 12, 14, 21, 1, 11, 13, 16, 19, 20, 22, 7, 15, 16, 5, 11, 12, 14, 20, 22, 2, 9, 23, 1, 9, 22, 23, 25, 12, 14, 7, 14, 16, 19, 20, 22, 12, 15, 7, 5, 11, 12, 14, 20, 6, 3, 12, 14, 10, 11, 6, 12, 14, 16, 20, 22, 7, 12, 14, 16, 20, 2, 9, 12, 14, 16, 20, 1, 2, 5, 7, 9, 15, 16, 19, 20, 22, 12, 14, 7, 9, 16, 20, 3, 7, 14, 20, 21, 6, 12, 19, 11, 20, 12, 14, 10, 12, 7, 11, 12, 18, 19, 20, 7, 3, 5, 11, 12, 14, 3, 5, 16, 19, 2, 7, 21, 12, 6, 7, 12, 14, 12, 1, 5, 8, 14, 19, 22, 2, 9, 12, 16, 2, 3, 7, 11, 12, 16, 20, 22, 2, 12, 14, 20, 21, 22, 12, 5, 7, 11, 12, 14, 19, 20, 21, 2, 12, 14, 16, 19, 20, 2, 12, 14, 16, 20, 7, 7, 11, 12, 16, 19, 1, 9, 12, 14, 15, 19, 21, 1, 6, 7, 1, 3, 7, 7, 7, 16, 19, 20, 21, 23, 1, 2, 3, 7, 11, 16, 22, 11, 12, 20, 12, 14, 16, 19, 23, 9, 12, 14, 16, 19, 20, 4, 5, 7, 14, 16, 19, 1, 11, 14, 20, 22, 23, 10, 12, 14, 12, 16, 18, 21, 7, 12, 14, 19, 20, 21, 22, 7, 8, 14, 23, 8, 11, 3, 14, 7, 14, 18, 22, 2, 19, 22, 23, 3, 6, 9, 14, 18, 19, 20, 3, 4, 9, 20, 3, 9, 14, 21, 8, 19, 6, 12, 13, 14, 18, 21, 5, 9, 12, 13, 14, 20, 12, 14, 19, 21, 2, 12, 14, 20, 2, 12, 21, 2, 14, 16, 20, 15, 23, 13, 14, 16, 20, 23, 3, 7, 8, 9, 23, 10, 20, 1, 2, 3, 12, 18, 5, 6, 7, 12, 16, 22, 19, 20, 22, 20, 22, 7, 9, 12, 13, 14, 19, 1, 2, 7, 8, 14, 15, 20, 5, 11, 12, 14, 20, 12, 14, 5, 7, 9, 12, 14, 19, 20, 22, 23, 11, 12, 14, 20, 5, 14, 19, 12, 15, 18, 12, 15, 1, 3, 7, 8, 14, 19, 3, 4, 14, 14, 21, 5, 12, 14, 20, 12, 14, 20, 12, 14, 20], \"Freq\": [0.774174153804779, 0.05494139343500137, 0.1598294973373413, 0.43946585059165955, 0.05580518767237663, 0.2092694491147995, 0.20229379832744598, 0.02092694491147995, 0.06975648552179337, 0.23895058035850525, 0.17921292781829834, 0.5734813809394836, 0.43071115016937256, 0.1204138696193695, 0.18988341093063354, 0.25472164154052734, 0.10232957452535629, 0.08101091533899307, 0.25582394003868103, 0.24729646742343903, 0.20465914905071259, 0.038373589515686035, 0.06395598500967026, 0.09317928552627563, 0.2898910939693451, 0.19671182334423065, 0.1842879205942154, 0.04555431753396988, 0.12838034331798553, 0.060048870742321014, 0.9114840626716614, 0.0868590697646141, 0.13078022003173828, 0.1615520417690277, 0.6231293082237244, 0.06923659145832062, 0.0873575210571289, 0.0553264282643795, 0.09900518506765366, 0.026207255199551582, 0.12521244585514069, 0.6027668714523315, 0.42717239260673523, 0.021358618512749672, 0.08780765533447266, 0.10441991686820984, 0.061702679842710495, 0.08068811893463135, 0.21121300756931305, 0.33884552121162415, 0.49089160561561584, 0.1607344150543213, 0.12041561305522919, 0.24991919100284576, 0.20902332663536072, 0.26355114579200745, 0.1408635377883911, 0.01590394787490368, 0.0650811418890953, 0.5043788552284241, 0.4270949959754944, 0.0743633359670639, 0.7130131721496582, 0.15310098230838776, 0.05249176546931267, 0.9950483441352844, 0.7782524824142456, 0.22039009630680084, 0.1942322701215744, 0.36148783564567566, 0.12409283220767975, 0.09172078967094421, 0.16186022758483887, 0.05395340546965599, 0.6620883941650391, 0.33553799986839294, 0.9936589002609253, 0.08279802650213242, 0.32366499304771423, 0.2120131254196167, 0.3061017692089081, 0.0727619007229805, 0.995943009853363, 0.7610656023025513, 0.050417594611644745, 0.18726535141468048, 0.36344850063323975, 0.6331775784492493, 0.15414780378341675, 0.1775035262107849, 0.4157319664955139, 0.06539604067802429, 0.051382601261138916, 0.13546322286128998, 0.15821217000484467, 0.15369181334972382, 0.3661481440067291, 0.04068312793970108, 0.27574121952056885, 0.02996368706226349, 0.18834318220615387, 0.13697685301303864, 0.02996368706226349, 0.41521111130714417, 0.19262370467185974, 0.09601768851280212, 0.04445263370871544, 0.3040560185909271, 0.0693461075425148, 0.05689937248826027, 0.014224843122065067, 0.06756800413131714, 0.016002949327230453, 0.27027201652526855, 0.06045558303594589, 0.31246712803840637, 0.6792763471603394, 0.056007660925388336, 0.062230732291936874, 0.6471996307373047, 0.23025371134281158, 0.041239745914936066, 0.2639343738555908, 0.21857066452503204, 0.08660347014665604, 0.3876536190509796, 0.6933533549308777, 0.22958719730377197, 0.06887616217136383, 0.55543053150177, 0.43640968203544617, 0.9711498022079468, 0.022716954350471497, 0.5841509103775024, 0.4131092131137848, 0.15259525179862976, 0.06314286589622498, 0.057880960404872894, 0.2841428816318512, 0.21047621965408325, 0.23152384161949158, 0.994268536567688, 0.07386165112257004, 0.15866577625274658, 0.2708260715007782, 0.21337810158729553, 0.2790329158306122, 0.050530288368463516, 0.4915218949317932, 0.03674929961562157, 0.4203201234340668, 0.13802191615104675, 0.07284490019083023, 0.7859581112861633, 0.9940537810325623, 0.34671950340270996, 0.14859406650066376, 0.1898702085018158, 0.3054433763027191, 0.9948397874832153, 0.0938875824213028, 0.0469437912106514, 0.3802447021007538, 0.1173594743013382, 0.3051346242427826, 0.0469437912106514, 0.10391520708799362, 0.714417040348053, 0.09092580527067184, 0.08443110436201096, 0.9083689451217651, 0.08613843470811844, 0.21322698891162872, 0.044889893382787704, 0.10661349445581436, 0.3759528398513794, 0.15711462497711182, 0.09539102017879486, 0.0791347399353981, 0.10174466669559479, 0.3881370425224304, 0.1507328450679779, 0.1431961953639984, 0.13189123570919037, 0.9954981207847595, 0.08978181332349777, 0.1241663321852684, 0.043935779482126236, 0.08405105769634247, 0.0038205026648938656, 0.3839605152606964, 0.19484563171863556, 0.07067929953336716, 0.030631709843873978, 0.14167165756225586, 0.3178039789199829, 0.271856427192688, 0.06892134994268417, 0.16464544832706451, 0.1556030660867691, 0.09336184710264206, 0.14671146869659424, 0.4267970025539398, 0.1689404845237732, 0.992866575717926, 0.13902238011360168, 0.055608950555324554, 0.14829052984714508, 0.18999724090099335, 0.4634079039096832, 0.10324551165103912, 0.07205676287412643, 0.18605701625347137, 0.022584956139326096, 0.40652918815612793, 0.059151072055101395, 0.14949089288711548, 0.8894902467727661, 0.059299346059560776, 0.049769096076488495, 0.07419155538082123, 0.3245880603790283, 0.5935324430465698, 0.9911710023880005, 0.2677750289440155, 0.24717696011066437, 0.07724279910326004, 0.10813991725444794, 0.13903704285621643, 0.16478464007377625, 0.018723638728260994, 0.024340730160474777, 0.6066458821296692, 0.08987346291542053, 0.031830184161663055, 0.155406191945076, 0.07302218675613403, 0.13930240273475647, 0.36616629362106323, 0.4895484447479248, 0.06403729319572449, 0.1849966198205948, 0.44114580750465393, 0.07826780527830124, 0.22057290375232697, 0.057610537856817245, 0.03840702399611473, 0.13922546803951263, 0.07201316952705383, 0.04320790246129036, 0.6481185555458069, 0.008139370940625668, 0.0671498104929924, 0.1241254061460495, 0.08342855423688889, 0.49853646755218506, 0.2177281677722931, 0.034830428659915924, 0.3657194972038269, 0.1973724365234375, 0.05805071443319321, 0.16254200041294098, 0.17415215075016022, 0.48977500200271606, 0.41980716586112976, 0.08396143466234207, 0.03596017509698868, 0.7147085070610046, 0.10338550806045532, 0.1393456757068634, 0.15483638644218445, 0.03870909661054611, 0.07311718165874481, 0.2408565878868103, 0.2666626572608948, 0.15913739800453186, 0.060214146971702576, 0.14322052896022797, 0.2348816692829132, 0.12603406608104706, 0.48122096061706543, 0.6919621229171753, 0.300457239151001, 0.8766309022903442, 0.11985187977552414, 0.4479677379131317, 0.1309444159269333, 0.15161985158920288, 0.2618888318538666, 0.05808193236589432, 0.5633947253227234, 0.09873928874731064, 0.2729850709438324, 0.04938587546348572, 0.09877175092697144, 0.23458290100097656, 0.10494498163461685, 0.14815762639045715, 0.13581115007400513, 0.22223643958568573, 0.11918643116950989, 0.008513316512107849, 0.8343050479888916, 0.034053266048431396, 0.05820798501372337, 0.4909716844558716, 0.08857736736536026, 0.35937103629112244, 0.770000159740448, 0.22354844212532043, 0.3409140408039093, 0.07748046517372131, 0.24277213215827942, 0.05165364593267441, 0.030992185696959496, 0.24793748557567596, 0.38738080859184265, 0.01765279658138752, 0.1314152628183365, 0.014710662886500359, 0.16770155727863312, 0.27950260043144226, 0.06131969764828682, 0.39346805214881897, 0.42923790216445923, 0.10730947554111481, 0.32117363810539246, 0.03916751965880394, 0.4700102210044861, 0.1645035743713379, 0.5432004928588867, 0.2914734482765198, 0.15898551046848297, 0.14315782487392426, 0.029824547469615936, 0.5189471244812012, 0.29824545979499817, 0.09456828981637955, 0.898398756980896, 0.05563727021217346, 0.17119160294532776, 0.30386507511138916, 0.10699474811553955, 0.3595023453235626, 0.14635129272937775, 0.6363099813461304, 0.08908339589834213, 0.01908929832279682, 0.09544649720191956, 0.7881192564964294, 0.20902292430400848, 0.2962060570716858, 0.09873535484075546, 0.2891535460948944, 0.08463030308485031, 0.22568081319332123, 0.09579586982727051, 0.10218226164579391, 0.4662065804004669, 0.03831834718585014, 0.0894094780087471, 0.20436452329158783, 0.09607025235891342, 0.06244566664099693, 0.835811197757721, 0.03264607861638069, 0.9651884436607361, 0.15362124145030975, 0.049700990319252014, 0.07681062072515488, 0.0858471617102623, 0.20784050226211548, 0.4247175455093384, 0.20677831768989563, 0.12997494637966156, 0.11225108802318573, 0.05317156761884689, 0.12997494637966156, 0.12997494637966156, 0.23631806671619415, 0.11331028491258621, 0.24049529433250427, 0.21274584531784058, 0.282119482755661, 0.15030956268310547, 0.17962412536144257, 0.8132073879241943, 0.0716119334101677, 0.08889757096767426, 0.08889757096767426, 0.1580401211977005, 0.06173442304134369, 0.25681519508361816, 0.09630569815635681, 0.11359134316444397, 0.056795671582221985, 0.06933800876140594, 0.08709530532360077, 0.01944846659898758, 0.8227546811103821, 0.05873333662748337, 0.0065259262919425964, 0.9266815185546875, 0.08339188247919083, 0.1856141835451126, 0.7263163924217224, 0.45439931750297546, 0.5416977405548096, 0.0032746121287345886, 0.14735755324363708, 0.21612440049648285, 0.058943018317222595, 0.36020734906196594, 0.21284979581832886, 0.9934927225112915, 0.591164767742157, 0.4058743119239807, 0.7397985458374023, 0.24911583960056305, 0.4037795960903168, 0.18534144759178162, 0.17099955677986145, 0.2399509847164154, 0.015195799060165882, 0.9421395659446716, 0.04190356656908989, 0.01974721997976303, 0.9368081092834473, 0.04304894059896469], \"Term\": [\"american\", \"american\", \"american\", \"book\", \"book\", \"book\", \"book\", \"book\", \"book\", \"c\", \"c\", \"c\", \"case\", \"case\", \"case\", \"case\", \"challenge\", \"challenge\", \"challenge\", \"challenge\", \"challenge\", \"challenge\", \"challenge\", \"christian\", \"christian\", \"christian\", \"christian\", \"christian\", \"christian\", \"christian\", \"church\", \"church\", \"come\", \"come\", \"come\", \"come\", \"community\", \"community\", \"community\", \"community\", \"community\", \"community\", \"context\", \"context\", \"context\", \"context\", \"context\", \"context\", \"context\", \"country\", \"country\", \"country\", \"cruz\", \"cruz\", \"cruz\", \"cruz\", \"cruz\", \"cruz\", \"cultural\", \"cultural\", \"cultural\", \"culture\", \"culture\", \"culture\", \"culture\", \"d\", \"dhs\", \"dhs\", \"doe\", \"doe\", \"doe\", \"doe\", \"doe\", \"doe\", \"domestic\", \"domestic\", \"dorottya\", \"e\", \"e\", \"e\", \"e\", \"e\", \"economic\", \"ed\", \"ed\", \"ed\", \"eology\", \"eology\", \"er\", \"er\", \"er\", \"er\", \"er\", \"er\", \"especially\", \"especially\", \"especially\", \"especially\", \"especially\", \"example\", \"example\", \"example\", \"example\", \"example\", \"example\", \"experience\", \"experience\", \"experience\", \"experience\", \"experience\", \"experience\", \"experience\", \"experience\", \"experience\", \"experience\", \"ey\", \"ey\", \"fact\", \"fact\", \"fact\", \"fact\", \"faith\", \"faith\", \"faith\", \"faith\", \"faith\", \"family\", \"family\", \"family\", \"feminist\", \"feminist\", \"filipina\", \"filipina\", \"filipino\", \"filipino\", \"form\", \"form\", \"form\", \"form\", \"form\", \"form\", \"frederiks\", \"g\", \"g\", \"g\", \"g\", \"g\", \"god\", \"god\", \"god\", \"god\", \"group\", \"group\", \"group\", \"hk\", \"home\", \"home\", \"home\", \"home\", \"hong\", \"human\", \"human\", \"human\", \"human\", \"human\", \"human\", \"identity\", \"identity\", \"identity\", \"identity\", \"immigrant\", \"immigrant\", \"ing\", \"ing\", \"ing\", \"ing\", \"ing\", \"ing\", \"just\", \"just\", \"just\", \"just\", \"just\", \"just\", \"kong\", \"life\", \"life\", \"life\", \"life\", \"life\", \"life\", \"life\", \"life\", \"like\", \"like\", \"like\", \"like\", \"like\", \"like\", \"make\", \"make\", \"make\", \"make\", \"make\", \"martha\", \"mean\", \"mean\", \"mean\", \"mean\", \"mean\", \"migrant\", \"migrant\", \"migrant\", \"migrant\", \"migrant\", \"migrant\", \"migrant\", \"migration\", \"migration\", \"migration\", \"mission\", \"mission\", \"mission\", \"nagy\", \"need\", \"need\", \"need\", \"need\", \"need\", \"need\", \"new\", \"new\", \"new\", \"new\", \"new\", \"new\", \"new\", \"oppression\", \"oppression\", \"oppression\", \"order\", \"order\", \"order\", \"order\", \"order\", \"particularly\", \"particularly\", \"particularly\", \"particularly\", \"particularly\", \"particularly\", \"people\", \"people\", \"people\", \"people\", \"people\", \"people\", \"perspective\", \"perspective\", \"perspective\", \"perspective\", \"perspective\", \"perspective\", \"philippine\", \"philippine\", \"philippine\", \"place\", \"place\", \"place\", \"place\", \"point\", \"point\", \"point\", \"point\", \"point\", \"point\", \"point\", \"political\", \"political\", \"political\", \"political\", \"power\", \"power\", \"press\", \"press\", \"question\", \"question\", \"question\", \"question\", \"reality\", \"reality\", \"reality\", \"reality\", \"relation\", \"relation\", \"relation\", \"relation\", \"relation\", \"relation\", \"relation\", \"religion\", \"religion\", \"religion\", \"religion\", \"religious\", \"religious\", \"religious\", \"religious\", \"right\", \"right\", \"role\", \"role\", \"role\", \"role\", \"role\", \"role\", \"s\", \"s\", \"s\", \"s\", \"s\", \"s\", \"say\", \"say\", \"say\", \"say\", \"sense\", \"sense\", \"sense\", \"sense\", \"service\", \"service\", \"service\", \"situation\", \"situation\", \"situation\", \"situation\", \"social\", \"social\", \"society\", \"society\", \"society\", \"society\", \"society\", \"state\", \"state\", \"state\", \"state\", \"state\", \"struggle\", \"struggle\", \"study\", \"study\", \"study\", \"study\", \"study\", \"term\", \"term\", \"term\", \"term\", \"term\", \"term\", \"theological\", \"theological\", \"theological\", \"theology\", \"theology\", \"time\", \"time\", \"time\", \"time\", \"time\", \"time\", \"tion\", \"tion\", \"tion\", \"tion\", \"tion\", \"tion\", \"tion\", \"tulud\", \"tulud\", \"tulud\", \"tulud\", \"tulud\", \"vol\", \"vol\", \"way\", \"way\", \"way\", \"way\", \"way\", \"way\", \"way\", \"way\", \"way\", \"woman\", \"woman\", \"woman\", \"woman\", \"word\", \"word\", \"word\", \"work\", \"work\", \"work\", \"worker\", \"worker\", \"world\", \"world\", \"world\", \"world\", \"world\", \"world\", \"york\", \"\\u2013\", \"\\u2013\", \"\\u2018\", \"\\u2018\", \"\\u2019\", \"\\u2019\", \"\\u2019\", \"\\u2019\", \"\\u201c\", \"\\u201c\", \"\\u201c\", \"\\u201d\", \"\\u201d\", \"\\u201d\"]}, \"R\": 30, \"lambda.step\": 0.01, \"plot.opts\": {\"xlab\": \"PC1\", \"ylab\": \"PC2\"}, \"topic.order\": [1, 2, 3, 4, 5, 6, 7, 8, 9, 10, 11, 12, 13, 14, 15, 16, 17, 18, 19, 20, 21, 22, 23, 24, 25]};\n",
       "\n",
       "function LDAvis_load_lib(url, callback){\n",
       "  var s = document.createElement('script');\n",
       "  s.src = url;\n",
       "  s.async = true;\n",
       "  s.onreadystatechange = s.onload = callback;\n",
       "  s.onerror = function(){console.warn(\"failed to load library \" + url);};\n",
       "  document.getElementsByTagName(\"head\")[0].appendChild(s);\n",
       "}\n",
       "\n",
       "if(typeof(LDAvis) !== \"undefined\"){\n",
       "   // already loaded: just create the visualization\n",
       "   !function(LDAvis){\n",
       "       new LDAvis(\"#\" + \"ldavis_el3096045261143848052092986\", ldavis_el3096045261143848052092986_data);\n",
       "   }(LDAvis);\n",
       "}else if(typeof define === \"function\" && define.amd){\n",
       "   // require.js is available: use it to load d3/LDAvis\n",
       "   require.config({paths: {d3: \"https://cdnjs.cloudflare.com/ajax/libs/d3/3.5.5/d3.min\"}});\n",
       "   require([\"d3\"], function(d3){\n",
       "      window.d3 = d3;\n",
       "      LDAvis_load_lib(\"https://cdn.rawgit.com/bmabey/pyLDAvis/files/ldavis.v1.0.0.js\", function(){\n",
       "        new LDAvis(\"#\" + \"ldavis_el3096045261143848052092986\", ldavis_el3096045261143848052092986_data);\n",
       "      });\n",
       "    });\n",
       "}else{\n",
       "    // require.js not available: dynamically load d3 & LDAvis\n",
       "    LDAvis_load_lib(\"https://cdnjs.cloudflare.com/ajax/libs/d3/3.5.5/d3.min.js\", function(){\n",
       "         LDAvis_load_lib(\"https://cdn.rawgit.com/bmabey/pyLDAvis/files/ldavis.v1.0.0.js\", function(){\n",
       "                 new LDAvis(\"#\" + \"ldavis_el3096045261143848052092986\", ldavis_el3096045261143848052092986_data);\n",
       "            })\n",
       "         });\n",
       "}\n",
       "</script>"
      ],
      "text/plain": [
       "PreparedData(topic_coordinates=              x         y  topics  cluster       Freq\n",
       "topic                                                \n",
       "0     -0.141876  0.451939       1        1   3.541566\n",
       "1      0.237688 -0.179055       2        1   2.255508\n",
       "2     -0.309638 -0.255653       3        1   4.095959\n",
       "3      0.508020  0.176455       4        1   1.035574\n",
       "4      0.139424  0.432739       5        1   4.852592\n",
       "5     -0.279917 -0.427460       6        1   1.704989\n",
       "6     -0.167615 -0.124321       7        1   5.764232\n",
       "7     -0.512703  0.111494       8        1   1.378420\n",
       "8      0.046413 -0.256209       9        1   3.555053\n",
       "9      0.480339 -0.206170      10        1   3.076550\n",
       "10     0.310442  0.333594      11        1   3.449644\n",
       "11     0.215111  0.099568      12        1  12.626311\n",
       "12     0.085143 -0.470862      13        1   2.762902\n",
       "13     0.074581  0.278889      14        1  19.958881\n",
       "14    -0.078999 -0.437227      15        1   2.439882\n",
       "15    -0.284734  0.117231      16        1   3.870130\n",
       "16    -0.003352  0.035062      17        1   0.069642\n",
       "17     0.447106 -0.046948      18        1   1.167811\n",
       "18    -0.252002  0.007853      19        1   4.217513\n",
       "19     0.167973  0.268544      20        1   9.021376\n",
       "20    -0.176332  0.306838      21        1   2.913751\n",
       "21    -0.337595  0.305766      22        1   3.449894\n",
       "22    -0.478421 -0.119964      23        1   1.875947\n",
       "23    -0.003352  0.035062      24        1   0.069642\n",
       "24     0.314297 -0.437164      25        1   0.846242, topic_info=     Category       Freq          Term        Total  loglift  logprob\n",
       "term                                                                 \n",
       "33    Default  2532.0000             ”  2532.000000  30.0000  30.0000\n",
       "84    Default   932.0000        church   932.000000  29.0000  29.0000\n",
       "48    Default  1812.0000             ’  1812.000000  28.0000  28.0000\n",
       "32    Default  2171.0000             “  2171.000000  27.0000  27.0000\n",
       "31    Default   680.0000             –   680.000000  26.0000  26.0000\n",
       "15    Default   944.0000     migration   944.000000  25.0000  25.0000\n",
       "24    Default   704.0000      theology   704.000000  24.0000  24.0000\n",
       "28    Default  1182.0000         woman  1182.000000  23.0000  23.0000\n",
       "53    Default   929.0000       migrant   929.000000  22.0000  22.0000\n",
       "11    Default   689.0000      filipino   689.000000  21.0000  21.0000\n",
       "21    Default   583.0000      struggle   583.000000  20.0000  20.0000\n",
       "72    Default  1016.0000           dhs  1016.000000  19.0000  19.0000\n",
       "43    Default  1019.0000             s  1019.000000  18.0000  18.0000\n",
       "7     Default   797.0000             e   797.000000  17.0000  17.0000\n",
       "66    Default   371.0000          work   371.000000  16.0000  16.0000\n",
       "29    Default   446.0000        worker   446.000000  15.0000  15.0000\n",
       "9     Default   437.0000        eology   437.000000  14.0000  14.0000\n",
       "8     Default   416.0000            ed   416.000000  13.0000  13.0000\n",
       "45    Default   317.0000        social   317.000000  12.0000  12.0000\n",
       "90    Default   241.0000             d   241.000000  11.0000  11.0000\n",
       "89    Default   281.0000         right   281.000000  10.0000  10.0000\n",
       "16    Default   534.0000           new   534.000000   9.0000   9.0000\n",
       "51    Default   259.0000      economic   259.000000   8.0000   8.0000\n",
       "63    Default   352.0000      religion   352.000000   7.0000   7.0000\n",
       "55    Default   491.0000        people   491.000000   6.0000   6.0000\n",
       "57    Default   395.0000     religious   395.000000   5.0000   5.0000\n",
       "18    Default   357.0000    philippine   357.000000   4.0000   4.0000\n",
       "35    Default   435.0000           god   435.000000   3.0000   3.0000\n",
       "6     Default   333.0000      domestic   333.000000   2.0000   2.0000\n",
       "105   Default   255.0000     immigrant   255.000000   1.0000   1.0000\n",
       "...       ...        ...           ...          ...      ...      ...\n",
       "5     Topic25     0.0309           doe   185.345108  -3.9271  -9.3032\n",
       "12    Topic25     0.0309          form   190.045227  -3.9521  -9.3032\n",
       "30    Topic25     0.0309          york   191.244476  -3.9584  -9.3032\n",
       "92    Topic25     0.0309          role   193.597183  -3.9707  -9.3032\n",
       "77    Topic25     0.0309          need   194.192856  -3.9737  -9.3032\n",
       "20    Topic25     0.0309           say   195.695679  -3.9814  -9.3032\n",
       "49    Topic25     0.0309      american   200.213348  -4.0043  -9.3032\n",
       "103   Topic25     0.0309        martha   203.451309  -4.0203  -9.3032\n",
       "105   Topic25     0.0309     immigrant   255.402832  -4.2477  -9.3032\n",
       "27    Topic25     0.0309           way   404.960449  -4.7087  -9.3032\n",
       "28    Topic25     0.0309         woman  1182.612549  -5.7804  -9.3032\n",
       "29    Topic25     0.0309        worker   446.743622  -4.8069  -9.3032\n",
       "31    Topic25     0.0309             –   680.013489  -5.2270  -9.3032\n",
       "32    Topic25     0.0309             “  2171.652832  -6.3881  -9.3032\n",
       "33    Topic25     0.0309             ”  2532.001953  -6.5416  -9.3032\n",
       "35    Topic25     0.0309           god   435.382446  -4.7811  -9.3032\n",
       "36    Topic25     0.0309         group   260.828156  -4.2687  -9.3032\n",
       "37    Topic25     0.0309          just   265.370178  -4.2860  -9.3032\n",
       "38    Topic25     0.0309          mean   215.792603  -4.0792  -9.3032\n",
       "25    Topic25     0.0309         tulud   432.440887  -4.7743  -9.3032\n",
       "39    Topic25     0.0309  particularly   208.295227  -4.0438  -9.3032\n",
       "40    Topic25     0.0309         point   232.503494  -4.1538  -9.3032\n",
       "43    Topic25     0.0309             s  1019.668518  -5.6321  -9.3032\n",
       "45    Topic25     0.0309        social   317.231079  -4.4645  -9.3032\n",
       "46    Topic25     0.0309          time   221.323563  -4.1045  -9.3032\n",
       "47    Topic25     0.0309         world   305.379669  -4.4264  -9.3032\n",
       "48    Topic25     0.0309             ’  1812.870239  -6.2075  -9.3032\n",
       "26    Topic25     0.0309           vol   306.194946  -4.4291  -9.3032\n",
       "24    Topic25     0.0309      theology   704.525635  -5.2624  -9.3032\n",
       "51    Topic25     0.0309      economic   259.050964  -4.2619  -9.3032\n",
       "\n",
       "[1107 rows x 6 columns], token_table=      Topic      Freq       Term\n",
       "term                            \n",
       "49        2  0.774174   american\n",
       "49        3  0.054941   american\n",
       "49       13  0.159829   american\n",
       "34        3  0.439466       book\n",
       "34        7  0.055805       book\n",
       "34       10  0.209269       book\n",
       "34       11  0.202294       book\n",
       "34       14  0.020927       book\n",
       "34       20  0.069756       book\n",
       "95        3  0.238951          c\n",
       "95       12  0.179213          c\n",
       "95       25  0.573481          c\n",
       "67        2  0.430711       case\n",
       "67        7  0.120414       case\n",
       "67       12  0.189883       case\n",
       "67       14  0.254722       case\n",
       "0         1  0.102330  challenge\n",
       "0         2  0.081011  challenge\n",
       "0         5  0.255824  challenge\n",
       "0         9  0.247296  challenge\n",
       "0        11  0.204659  challenge\n",
       "0        19  0.038374  challenge\n",
       "0        22  0.063956  challenge\n",
       "1         3  0.093179  christian\n",
       "1         7  0.289891  christian\n",
       "1         9  0.196712  christian\n",
       "1        13  0.184288  christian\n",
       "1        14  0.045554  christian\n",
       "1        19  0.128380  christian\n",
       "1        22  0.060049  christian\n",
       "...     ...       ...        ...\n",
       "28       20  0.822755      woman\n",
       "97        5  0.058733       word\n",
       "97       14  0.006526       word\n",
       "97       19  0.926682       word\n",
       "66       12  0.083392       work\n",
       "66       15  0.185614       work\n",
       "66       18  0.726316       work\n",
       "29       12  0.454399     worker\n",
       "29       15  0.541698     worker\n",
       "47        1  0.003275      world\n",
       "47        3  0.147358      world\n",
       "47        7  0.216124      world\n",
       "47        8  0.058943      world\n",
       "47       14  0.360207      world\n",
       "47       19  0.212850      world\n",
       "30        3  0.993493       york\n",
       "31        4  0.591165          –\n",
       "31       14  0.405874          –\n",
       "83       14  0.739799          ‘\n",
       "83       21  0.249116          ‘\n",
       "48        5  0.403780          ’\n",
       "48       12  0.185341          ’\n",
       "48       14  0.171000          ’\n",
       "48       20  0.239951          ’\n",
       "32       12  0.015196          “\n",
       "32       14  0.942140          “\n",
       "32       20  0.041904          “\n",
       "33       12  0.019747          ”\n",
       "33       14  0.936808          ”\n",
       "33       20  0.043049          ”\n",
       "\n",
       "[429 rows x 3 columns], R=30, lambda_step=0.01, plot_opts={'xlab': 'PC1', 'ylab': 'PC2'}, topic_order=[1, 2, 3, 4, 5, 6, 7, 8, 9, 10, 11, 12, 13, 14, 15, 16, 17, 18, 19, 20, 21, 22, 23, 24, 25])"
      ]
     },
     "execution_count": 43,
     "metadata": {},
     "output_type": "execute_result"
    }
   ],
   "source": [
    "vis"
   ]
  },
  {
   "cell_type": "code",
   "execution_count": 44,
   "metadata": {},
   "outputs": [],
   "source": [
    "pyLDAvis.save_html(vis, 'PrelimTopicModel.html')"
   ]
  },
  {
   "cell_type": "markdown",
   "metadata": {},
   "source": [
    "# Find the Dominant Document For Each Topic \n"
   ]
  },
  {
   "cell_type": "code",
   "execution_count": 18,
   "metadata": {},
   "outputs": [],
   "source": [
    "import pandas as pd"
   ]
  },
  {
   "cell_type": "code",
   "execution_count": 19,
   "metadata": {},
   "outputs": [],
   "source": [
    "# this creates a pandas DataFrame that orders all of the topics and shows the dominant topic for each document\n",
    "def format_topics_sent(ldamodel, corpus, texts):\n",
    "    sent_topics_df = pd.DataFrame()\n",
    "    for i, row in enumerate(ldamodel[corpus]):\n",
    "        row = sorted(row[0], key=lambda x: x[1], reverse=True)\n",
    "        \n",
    "        for j, (topic_num, prop_topic) in enumerate(row):\n",
    "            if j == 0:\n",
    "                wp = ldamodel.show_topic(topic_num)\n",
    "                topic_keywords = \", \".join([word for word, prop in wp])\n",
    "                sent_topics_df = sent_topics_df.append(pd.Series([int(topic_num), round(prop_topic,4), topic_keywords]), ignore_index=True)\n",
    "            else:\n",
    "                break\n",
    "    sent_topics_df.columns = ['Dominant_topic', 'Perc_Contrib', 'Topic_Keywords']\n",
    "    contents = pd.Series(texts)\n",
    "    sent_topics_df = pd.concat([sent_topics_df, contents], axis=1)\n",
    "    return sent_topics_df"
   ]
  },
  {
   "cell_type": "markdown",
   "metadata": {},
   "source": [
    "## Exploring the Dominant Topic Models"
   ]
  },
  {
   "cell_type": "code",
   "execution_count": 20,
   "metadata": {},
   "outputs": [],
   "source": [
    "def format_topics_sent_gen(ldamodel, corpus, texts):\n",
    "    for i, row in enumerate(ldamodel[corpus]):\n",
    "        yield row"
   ]
  },
  {
   "cell_type": "code",
   "execution_count": 21,
   "metadata": {},
   "outputs": [],
   "source": [
    "genny = format_topics_sent_gen(lda_model, corpus, corpus_list)"
   ]
  },
  {
   "cell_type": "code",
   "execution_count": 22,
   "metadata": {},
   "outputs": [],
   "source": [
    "row = next(genny)"
   ]
  },
  {
   "cell_type": "code",
   "execution_count": 23,
   "metadata": {},
   "outputs": [
    {
     "data": {
      "text/plain": [
       "3"
      ]
     },
     "execution_count": 23,
     "metadata": {},
     "output_type": "execute_result"
    }
   ],
   "source": [
    "len(row)"
   ]
  },
  {
   "cell_type": "code",
   "execution_count": 42,
   "metadata": {},
   "outputs": [
    {
     "data": {
      "text/plain": [
       "[('”', 0.2966608),\n",
       " ('“', 0.2558419),\n",
       " ('’', 0.038733605),\n",
       " ('–', 0.03453399),\n",
       " ('vol', 0.03118087),\n",
       " ('e', 0.030572623),\n",
       " ('dhs', 0.028041013),\n",
       " ('s', 0.021423323),\n",
       " ('tulud', 0.015217608),\n",
       " ('cruz', 0.014499779)]"
      ]
     },
     "execution_count": 42,
     "metadata": {},
     "output_type": "execute_result"
    }
   ],
   "source": [
    "lda_model.show_topic(13)"
   ]
  },
  {
   "cell_type": "code",
   "execution_count": 25,
   "metadata": {},
   "outputs": [],
   "source": [
    "sent_topics_df = format_topics_sent(lda_model, corpus, text_list)"
   ]
  },
  {
   "cell_type": "code",
   "execution_count": 26,
   "metadata": {},
   "outputs": [],
   "source": [
    "grpd_df = sent_topics_df.groupby('Dominant_topic')"
   ]
  },
  {
   "cell_type": "code",
   "execution_count": 27,
   "metadata": {},
   "outputs": [
    {
     "data": {
      "text/html": [
       "<div>\n",
       "<style scoped>\n",
       "    .dataframe tbody tr th:only-of-type {\n",
       "        vertical-align: middle;\n",
       "    }\n",
       "\n",
       "    .dataframe tbody tr th {\n",
       "        vertical-align: top;\n",
       "    }\n",
       "\n",
       "    .dataframe thead th {\n",
       "        text-align: right;\n",
       "    }\n",
       "</style>\n",
       "<table border=\"1\" class=\"dataframe\">\n",
       "  <thead>\n",
       "    <tr style=\"text-align: right;\">\n",
       "      <th></th>\n",
       "      <th>Topic_Num</th>\n",
       "      <th>Topic_Perc_Contrib</th>\n",
       "      <th>Keywords</th>\n",
       "      <th>Text</th>\n",
       "    </tr>\n",
       "  </thead>\n",
       "  <tbody>\n",
       "    <tr>\n",
       "      <th>0</th>\n",
       "      <td>0.0</td>\n",
       "      <td>0.5008</td>\n",
       "      <td>migration, context, migrant, study, experience...</td>\n",
       "      <td>(../pdfs/Frederiks and Nagy - 2016 - Religion,...</td>\n",
       "    </tr>\n",
       "    <tr>\n",
       "      <th>1</th>\n",
       "      <td>1.0</td>\n",
       "      <td>0.3923</td>\n",
       "      <td>immigrant, american, case, service, sense, gro...</td>\n",
       "      <td>(../pdfs/Frederiks and Nagy - 2016 - Religion,...</td>\n",
       "    </tr>\n",
       "    <tr>\n",
       "      <th>2</th>\n",
       "      <td>2.0</td>\n",
       "      <td>0.5300</td>\n",
       "      <td>new, ed, press, york, study, mission, book, ch...</td>\n",
       "      <td>(../pdfs/Frederiks and Nagy - 2016 - Religion,...</td>\n",
       "    </tr>\n",
       "    <tr>\n",
       "      <th>3</th>\n",
       "      <td>3.0</td>\n",
       "      <td>0.7007</td>\n",
       "      <td>–, people, religion, dhs, order, come, life, e...</td>\n",
       "      <td>(../pdfs/Cruz - 2010 - Index.pdf, 2)</td>\n",
       "    </tr>\n",
       "    <tr>\n",
       "      <th>4</th>\n",
       "      <td>4.0</td>\n",
       "      <td>0.4219</td>\n",
       "      <td>’, s, god, experience, e, challenge, g, cruz, ...</td>\n",
       "      <td>(../pdfs/Cruz - 2010 - Chapter Four. Exploring...</td>\n",
       "    </tr>\n",
       "    <tr>\n",
       "      <th>5</th>\n",
       "      <td>5.0</td>\n",
       "      <td>0.3031</td>\n",
       "      <td>economic, family, home, role, migration, er, t...</td>\n",
       "      <td>(../pdfs/Frederiks and Nagy - 2016 - Religion,...</td>\n",
       "    </tr>\n",
       "    <tr>\n",
       "      <th>6</th>\n",
       "      <td>6.0</td>\n",
       "      <td>0.8080</td>\n",
       "      <td>nagy, dorottya, frederiks, martha, christian, ...</td>\n",
       "      <td>(../pdfs/Frederiks and Nagy - 2016 - Religion,...</td>\n",
       "    </tr>\n",
       "    <tr>\n",
       "      <th>7</th>\n",
       "      <td>7.0</td>\n",
       "      <td>0.4001</td>\n",
       "      <td>right, power, human, political, world, come, s...</td>\n",
       "      <td>(../pdfs/Frederiks and Nagy - 2016 - Religion,...</td>\n",
       "    </tr>\n",
       "    <tr>\n",
       "      <th>8</th>\n",
       "      <td>8.0</td>\n",
       "      <td>0.4924</td>\n",
       "      <td>religion, identity, religious, culture, cultur...</td>\n",
       "      <td>(../pdfs/Cruz - 2010 - Chapter Six. Expanding ...</td>\n",
       "    </tr>\n",
       "    <tr>\n",
       "      <th>9</th>\n",
       "      <td>9.0</td>\n",
       "      <td>0.3283</td>\n",
       "      <td>struggle, filipino, philippine, eology, book, ...</td>\n",
       "      <td>(../pdfs/Cruz - 2010 - Preliminary Material.pd...</td>\n",
       "    </tr>\n",
       "    <tr>\n",
       "      <th>10</th>\n",
       "      <td>10.0</td>\n",
       "      <td>0.8040</td>\n",
       "      <td>eology, e, feminist, cruz, tulud, g, woman, po...</td>\n",
       "      <td>(../pdfs/Cruz - 2010 - Preliminary Material.pd...</td>\n",
       "    </tr>\n",
       "    <tr>\n",
       "      <th>11</th>\n",
       "      <td>11.0</td>\n",
       "      <td>0.8343</td>\n",
       "      <td>dhs, hong, kong, ’, filipino, hk, domestic, wo...</td>\n",
       "      <td>(../pdfs/Cruz - 2010 - Chapter One. Geographie...</td>\n",
       "    </tr>\n",
       "    <tr>\n",
       "      <th>12</th>\n",
       "      <td>12.0</td>\n",
       "      <td>0.4642</td>\n",
       "      <td>church, christian, role, context, american, ti...</td>\n",
       "      <td>(../pdfs/Frederiks and Nagy - 2016 - Religion,...</td>\n",
       "    </tr>\n",
       "    <tr>\n",
       "      <th>13</th>\n",
       "      <td>13.0</td>\n",
       "      <td>0.8413</td>\n",
       "      <td>”, “, ’, –, vol, e, dhs, s, tulud, cruz</td>\n",
       "      <td>(../pdfs/Cruz - 2010 - Chapter One. Geographie...</td>\n",
       "    </tr>\n",
       "    <tr>\n",
       "      <th>14</th>\n",
       "      <td>14.0</td>\n",
       "      <td>0.5705</td>\n",
       "      <td>migrant, worker, country, domestic, work, soci...</td>\n",
       "      <td>(../pdfs/Frederiks and Nagy - 2016 - Religion,...</td>\n",
       "    </tr>\n",
       "    <tr>\n",
       "      <th>15</th>\n",
       "      <td>15.0</td>\n",
       "      <td>0.4450</td>\n",
       "      <td>people, place, fact, example, make, situation,...</td>\n",
       "      <td>(../pdfs/Izuzquiza - 2011 - Breaking bread not...</td>\n",
       "    </tr>\n",
       "    <tr>\n",
       "      <th>16</th>\n",
       "      <td>17.0</td>\n",
       "      <td>0.4085</td>\n",
       "      <td>work, study, form, relation, place, question, ...</td>\n",
       "      <td>(../pdfs/Frederiks and Nagy - 2016 - Religion,...</td>\n",
       "    </tr>\n",
       "    <tr>\n",
       "      <th>17</th>\n",
       "      <td>18.0</td>\n",
       "      <td>0.6731</td>\n",
       "      <td>life, god, word, people, way, mean, reality, t...</td>\n",
       "      <td>(../pdfs/Izuzquiza - 2011 - Breaking bread not...</td>\n",
       "    </tr>\n",
       "    <tr>\n",
       "      <th>18</th>\n",
       "      <td>19.0</td>\n",
       "      <td>0.5663</td>\n",
       "      <td>woman, ’, s, experience, particularly, oppress...</td>\n",
       "      <td>(../pdfs/Cruz - 2010 - Chapter Four. Exploring...</td>\n",
       "    </tr>\n",
       "    <tr>\n",
       "      <th>19</th>\n",
       "      <td>20.0</td>\n",
       "      <td>0.5590</td>\n",
       "      <td>community, group, religious, migrant, faith, c...</td>\n",
       "      <td>(../pdfs/Frederiks and Nagy - 2016 - Religion,...</td>\n",
       "    </tr>\n",
       "    <tr>\n",
       "      <th>20</th>\n",
       "      <td>21.0</td>\n",
       "      <td>0.4630</td>\n",
       "      <td>theology, theological, context, way, new, ques...</td>\n",
       "      <td>(../pdfs/Frederiks and Nagy - 2016 - Religion,...</td>\n",
       "    </tr>\n",
       "    <tr>\n",
       "      <th>21</th>\n",
       "      <td>22.0</td>\n",
       "      <td>0.4607</td>\n",
       "      <td>social, cultural, political, society, reality,...</td>\n",
       "      <td>(../pdfs/Izuzquiza - 2011 - Breaking bread not...</td>\n",
       "    </tr>\n",
       "    <tr>\n",
       "      <th>22</th>\n",
       "      <td>24.0</td>\n",
       "      <td>0.9262</td>\n",
       "      <td>d, c, come, dhs, life, order, case, like, hk, ...</td>\n",
       "      <td>(../pdfs/Gods People on the Move 2.pdf, 14)</td>\n",
       "    </tr>\n",
       "  </tbody>\n",
       "</table>\n",
       "</div>"
      ],
      "text/plain": [
       "    Topic_Num  Topic_Perc_Contrib  \\\n",
       "0         0.0              0.5008   \n",
       "1         1.0              0.3923   \n",
       "2         2.0              0.5300   \n",
       "3         3.0              0.7007   \n",
       "4         4.0              0.4219   \n",
       "5         5.0              0.3031   \n",
       "6         6.0              0.8080   \n",
       "7         7.0              0.4001   \n",
       "8         8.0              0.4924   \n",
       "9         9.0              0.3283   \n",
       "10       10.0              0.8040   \n",
       "11       11.0              0.8343   \n",
       "12       12.0              0.4642   \n",
       "13       13.0              0.8413   \n",
       "14       14.0              0.5705   \n",
       "15       15.0              0.4450   \n",
       "16       17.0              0.4085   \n",
       "17       18.0              0.6731   \n",
       "18       19.0              0.5663   \n",
       "19       20.0              0.5590   \n",
       "20       21.0              0.4630   \n",
       "21       22.0              0.4607   \n",
       "22       24.0              0.9262   \n",
       "\n",
       "                                             Keywords  \\\n",
       "0   migration, context, migrant, study, experience...   \n",
       "1   immigrant, american, case, service, sense, gro...   \n",
       "2   new, ed, press, york, study, mission, book, ch...   \n",
       "3   –, people, religion, dhs, order, come, life, e...   \n",
       "4   ’, s, god, experience, e, challenge, g, cruz, ...   \n",
       "5   economic, family, home, role, migration, er, t...   \n",
       "6   nagy, dorottya, frederiks, martha, christian, ...   \n",
       "7   right, power, human, political, world, come, s...   \n",
       "8   religion, identity, religious, culture, cultur...   \n",
       "9   struggle, filipino, philippine, eology, book, ...   \n",
       "10  eology, e, feminist, cruz, tulud, g, woman, po...   \n",
       "11  dhs, hong, kong, ’, filipino, hk, domestic, wo...   \n",
       "12  church, christian, role, context, american, ti...   \n",
       "13            ”, “, ’, –, vol, e, dhs, s, tulud, cruz   \n",
       "14  migrant, worker, country, domestic, work, soci...   \n",
       "15  people, place, fact, example, make, situation,...   \n",
       "16  work, study, form, relation, place, question, ...   \n",
       "17  life, god, word, people, way, mean, reality, t...   \n",
       "18  woman, ’, s, experience, particularly, oppress...   \n",
       "19  community, group, religious, migrant, faith, c...   \n",
       "20  theology, theological, context, way, new, ques...   \n",
       "21  social, cultural, political, society, reality,...   \n",
       "22  d, c, come, dhs, life, order, case, like, hk, ...   \n",
       "\n",
       "                                                 Text  \n",
       "0   (../pdfs/Frederiks and Nagy - 2016 - Religion,...  \n",
       "1   (../pdfs/Frederiks and Nagy - 2016 - Religion,...  \n",
       "2   (../pdfs/Frederiks and Nagy - 2016 - Religion,...  \n",
       "3                (../pdfs/Cruz - 2010 - Index.pdf, 2)  \n",
       "4   (../pdfs/Cruz - 2010 - Chapter Four. Exploring...  \n",
       "5   (../pdfs/Frederiks and Nagy - 2016 - Religion,...  \n",
       "6   (../pdfs/Frederiks and Nagy - 2016 - Religion,...  \n",
       "7   (../pdfs/Frederiks and Nagy - 2016 - Religion,...  \n",
       "8   (../pdfs/Cruz - 2010 - Chapter Six. Expanding ...  \n",
       "9   (../pdfs/Cruz - 2010 - Preliminary Material.pd...  \n",
       "10  (../pdfs/Cruz - 2010 - Preliminary Material.pd...  \n",
       "11  (../pdfs/Cruz - 2010 - Chapter One. Geographie...  \n",
       "12  (../pdfs/Frederiks and Nagy - 2016 - Religion,...  \n",
       "13  (../pdfs/Cruz - 2010 - Chapter One. Geographie...  \n",
       "14  (../pdfs/Frederiks and Nagy - 2016 - Religion,...  \n",
       "15  (../pdfs/Izuzquiza - 2011 - Breaking bread not...  \n",
       "16  (../pdfs/Frederiks and Nagy - 2016 - Religion,...  \n",
       "17  (../pdfs/Izuzquiza - 2011 - Breaking bread not...  \n",
       "18  (../pdfs/Cruz - 2010 - Chapter Four. Exploring...  \n",
       "19  (../pdfs/Frederiks and Nagy - 2016 - Religion,...  \n",
       "20  (../pdfs/Frederiks and Nagy - 2016 - Religion,...  \n",
       "21  (../pdfs/Izuzquiza - 2011 - Breaking bread not...  \n",
       "22        (../pdfs/Gods People on the Move 2.pdf, 14)  "
      ]
     },
     "execution_count": 27,
     "metadata": {},
     "output_type": "execute_result"
    }
   ],
   "source": [
    "# This code creates a pandas DataFrame that shows which document is exemplified by which topic\n",
    "sent_topics_df = pd.DataFrame()\n",
    "\n",
    "for i, grp in grpd_df:\n",
    "    sent_topics_df = pd.concat([sent_topics_df, grp.sort_values(['Perc_Contrib'], ascending=[0]).head(1)], axis=0)\n",
    "\n",
    "sent_topics_df.reset_index(drop=True, inplace=True)\n",
    "sent_topics_df.columns = ['Topic_Num', 'Topic_Perc_Contrib', 'Keywords', 'Text']\n",
    "sent_topics_df"
   ]
  },
  {
   "cell_type": "code",
   "execution_count": 28,
   "metadata": {},
   "outputs": [
    {
     "data": {
      "text/plain": [
       "('../pdfs/Frederiks and Nagy - 2016 - Religion, migration, and identity methodological .pdf',\n",
       " 63)"
      ]
     },
     "execution_count": 28,
     "metadata": {},
     "output_type": "execute_result"
    }
   ],
   "source": [
    "sent_topics_df.iloc[0]['Text']"
   ]
  },
  {
   "cell_type": "code",
   "execution_count": 29,
   "metadata": {},
   "outputs": [
    {
     "data": {
      "text/plain": [
       "[('migration', 0.5920657),\n",
       " ('context', 0.12714523),\n",
       " ('migrant', 0.0677818),\n",
       " ('study', 0.05909739),\n",
       " ('experience', 0.037804633),\n",
       " ('tion', 0.024900865),\n",
       " ('community', 0.021318907),\n",
       " ('challenge', 0.017123718),\n",
       " ('human', 0.014246021),\n",
       " ('culture', 0.012124161)]"
      ]
     },
     "execution_count": 29,
     "metadata": {},
     "output_type": "execute_result"
    }
   ],
   "source": [
    "lda_model.show_topic(0)"
   ]
  },
  {
   "cell_type": "code",
   "execution_count": null,
   "metadata": {},
   "outputs": [],
   "source": []
  }
 ],
 "metadata": {
  "kernelspec": {
   "display_name": "Python 3",
   "language": "python",
   "name": "python3"
  },
  "language_info": {
   "codemirror_mode": {
    "name": "ipython",
    "version": 3
   },
   "file_extension": ".py",
   "mimetype": "text/x-python",
   "name": "python",
   "nbconvert_exporter": "python",
   "pygments_lexer": "ipython3",
   "version": "3.7.4"
  }
 },
 "nbformat": 4,
 "nbformat_minor": 2
}
