{
 "cells": [
  {
   "cell_type": "markdown",
   "metadata": {},
   "source": [
    "# Charts and Graphs for Data Analysis\n",
    "\n",
    "The script `pool_process.py` runs on 7 different CPU cores, to spits out the text into `./output/analalyzed_corpus.json`. This script creates text file that needs a bit of massaging to create a python readable dictionary. Part of the goal of this script is to make a pandas dataframe. "
   ]
  },
  {
   "cell_type": "code",
   "execution_count": 1,
   "metadata": {},
   "outputs": [],
   "source": [
    "# thanks to @ninjaaron for help pulling this script section together \n",
    "from collections import namedtuple\n",
    "import json\n",
    "\n",
    "encode = json.JSONEncoder(ensure_ascii=False).encode\n",
    "\n",
    "Book = namedtuple(\"Book\", \"ht_id, top_topic, best_match, most_common_topic\")\n",
    "Topic = namedtuple(\"Topic\", \"top_num, perc\")\n",
    "BestMatch = namedtuple(\"BestMatch\", \"page, top_num, perc\")\n",
    "\n",
    "with open(\"./output/analyzed_corpus3.json\") as fh:\n",
    "    books = eval(fh.read())\n",
    "\n",
    "analyzed_list = []\n",
    "for book in books.values():\n",
    "    out_dict = {}\n",
    "    dct = book._asdict()\n",
    "    out_dict['ht_id'] = dct['ht_id']\n",
    "    for key, value in dct.items():\n",
    "        try:\n",
    "            for inner_key, inner_value in value._asdict().items():\n",
    "                out_dict[key+'_'+inner_key] = inner_value    \n",
    "            # dct[key] = value._asdict()\n",
    "        except AttributeError:\n",
    "            pass\n",
    "    analyzed_list.append(out_dict)"
   ]
  },
  {
   "cell_type": "code",
   "execution_count": 2,
   "metadata": {},
   "outputs": [
    {
     "data": {
      "text/plain": [
       "{'ht_id': 'mdp.39015011261867',\n",
       " 'top_topic_top_num': 0,\n",
       " 'top_topic_perc': 0.4302787482738495,\n",
       " 'best_match_page': 227,\n",
       " 'best_match_top_num': 6,\n",
       " 'best_match_perc': 0.71999705,\n",
       " 'most_common_topic_top_num': 6,\n",
       " 'most_common_topic_perc': 70}"
      ]
     },
     "execution_count": 2,
     "metadata": {},
     "output_type": "execute_result"
    }
   ],
   "source": [
    "# This is what each line looks like after we open in it. \n",
    "analyzed_list[0]"
   ]
  },
  {
   "cell_type": "markdown",
   "metadata": {},
   "source": [
    "Next we create the dataframe we will use, and reorder the columns. "
   ]
  },
  {
   "cell_type": "code",
   "execution_count": 3,
   "metadata": {},
   "outputs": [],
   "source": [
    "import pandas as pd\n",
    "import matplotlib.pyplot as plt\n",
    "%matplotlib inline"
   ]
  },
  {
   "cell_type": "code",
   "execution_count": 4,
   "metadata": {},
   "outputs": [],
   "source": [
    "df = pd.DataFrame(analyzed_list)\n",
    "columns = [\n",
    "     'ht_id',\n",
    "     'top_topic_top_num',\n",
    "     'top_topic_perc',\n",
    "     'best_match_page',\n",
    "     'best_match_top_num',\n",
    "     'best_match_perc',\n",
    "     'most_common_topic_top_num',\n",
    "     'most_common_topic_perc',\n",
    "]\n",
    "df = df[columns]"
   ]
  },
  {
   "cell_type": "markdown",
   "metadata": {},
   "source": [
    "# Supplementing The Dataframe with Data about each record\n",
    "\n",
    "The year publication date used for this, can easily be retrieved from the volume output. As it was, I reused the data from the paper on Political Theology that we presented at Atla's conference in Indianapolis. \n",
    "\n",
    "The titles and dates for each publication could be retrieved inside the `pool_process.py` script. The Subject headings used for this were gathered through OCLC's connection. "
   ]
  },
  {
   "cell_type": "code",
   "execution_count": 5,
   "metadata": {},
   "outputs": [],
   "source": [
    "topic_num2name = {\n",
    "    0: 'Black Experience',\n",
    "    1: 'Context of Migrant Experience',\n",
    "    3: 'Communal Experience',\n",
    "    5: 'Social, Political, Economic Migrations',\n",
    "    6: 'Immigration and American Christianity',\n",
    "    11: 'Religion and Culture',\n",
    "}"
   ]
  },
  {
   "cell_type": "code",
   "execution_count": 6,
   "metadata": {},
   "outputs": [],
   "source": [
    "import sqlite3"
   ]
  },
  {
   "cell_type": "code",
   "execution_count": 7,
   "metadata": {},
   "outputs": [],
   "source": [
    "conn = sqlite3.connect('../data/politheo.db')\n",
    "cur = conn.cursor()"
   ]
  },
  {
   "cell_type": "code",
   "execution_count": 8,
   "metadata": {},
   "outputs": [],
   "source": [
    "def get_year(row):\n",
    "    ht_id = row['ht_id']\n",
    "    query = 'SELECT date FROM hathitrust_rec WHERE htitem_id = ?'\n",
    "    cur.execute(query, (ht_id, ))\n",
    "    year = cur.fetchone()\n",
    "    year = int(year[0].split('-')[0])\n",
    "    return year\n",
    "    "
   ]
  },
  {
   "cell_type": "code",
   "execution_count": 9,
   "metadata": {},
   "outputs": [
    {
     "data": {
      "text/plain": [
       "Index(['ht_id', 'top_topic_top_num', 'top_topic_perc', 'best_match_page',\n",
       "       'best_match_top_num', 'best_match_perc', 'most_common_topic_top_num',\n",
       "       'most_common_topic_perc', 'date'],\n",
       "      dtype='object')"
      ]
     },
     "execution_count": 9,
     "metadata": {},
     "output_type": "execute_result"
    }
   ],
   "source": [
    "df['date'] = df.apply(get_year, axis=1)\n",
    "df.columns"
   ]
  },
  {
   "cell_type": "markdown",
   "metadata": {},
   "source": [
    "Sorting the date by the decade. "
   ]
  },
  {
   "cell_type": "code",
   "execution_count": 10,
   "metadata": {},
   "outputs": [],
   "source": [
    "df['decade'] = df.apply(lambda x: (x['date']//10)*10, axis=1)"
   ]
  },
  {
   "cell_type": "markdown",
   "metadata": {},
   "source": [
    "## Number of Pages Dominated by a Particular Topic \n",
    "\n",
    "This chart shows how many pages are dominated by a particular topic over time. This is grouped by decade.  "
   ]
  },
  {
   "cell_type": "code",
   "execution_count": 11,
   "metadata": {},
   "outputs": [],
   "source": [
    "most_common_df = df.groupby(['most_common_topic_top_num', 'decade'])['most_common_topic_perc'].sum().unstack('most_common_topic_top_num')"
   ]
  },
  {
   "cell_type": "code",
   "execution_count": 12,
   "metadata": {},
   "outputs": [
    {
     "data": {
      "text/plain": [
       "<matplotlib.axes._subplots.AxesSubplot at 0x11adba110>"
      ]
     },
     "execution_count": 12,
     "metadata": {},
     "output_type": "execute_result"
    },
    {
     "data": {
      "image/png": "[encoded data removed]",
      "text/plain": [
       "<Figure size 432x288 with 1 Axes>"
      ]
     },
     "metadata": {
      "needs_background": "light"
     },
     "output_type": "display_data"
    }
   ],
   "source": [
    "most_common_df.plot(kind='bar', stacked=True)"
   ]
  },
  {
   "cell_type": "markdown",
   "metadata": {},
   "source": [
    "This final part saves the script in a png file. "
   ]
  },
  {
   "cell_type": "code",
   "execution_count": 13,
   "metadata": {},
   "outputs": [
    {
     "data": {
      "image/png": "[encoded data removed]",
      "text/plain": [
       "<Figure size 432x288 with 1 Axes>"
      ]
     },
     "metadata": {
      "needs_background": "light"
     },
     "output_type": "display_data"
    }
   ],
   "source": [
    "most_common_plot = most_common_df.plot(kind='bar', stacked=True).get_figure()\n",
    "most_common_plot.savefig('./output/most_common_plot.png')"
   ]
  },
  {
   "cell_type": "markdown",
   "metadata": {},
   "source": [
    "## Top Topic Averages \n",
    "\n",
    "The top_topic column is an average rating of how well the topics match a particular volume. This chart takes an average of those averages by decade to see if there are any decades which have particular highlights on which books where were. "
   ]
  },
  {
   "cell_type": "code",
   "execution_count": 14,
   "metadata": {},
   "outputs": [],
   "source": [
    "top_topic_df = df.groupby(['top_topic_top_num', 'decade'])['top_topic_perc'].mean().unstack('top_topic_top_num')"
   ]
  },
  {
   "cell_type": "code",
   "execution_count": 15,
   "metadata": {},
   "outputs": [
    {
     "data": {
      "text/plain": [
       "<matplotlib.axes._subplots.AxesSubplot at 0x116381310>"
      ]
     },
     "execution_count": 15,
     "metadata": {},
     "output_type": "execute_result"
    },
    {
     "data": {
      "image/png": "[encoded data removed]",
      "text/plain": [
       "<Figure size 432x288 with 1 Axes>"
      ]
     },
     "metadata": {
      "needs_background": "light"
     },
     "output_type": "display_data"
    }
   ],
   "source": [
    "top_topic_df.plot(kind='bar', stacked=True)"
   ]
  },
  {
   "cell_type": "code",
   "execution_count": 16,
   "metadata": {},
   "outputs": [
    {
     "data": {
      "image/png": "[encoded data removed]",
      "text/plain": [
       "<Figure size 432x288 with 1 Axes>"
      ]
     },
     "metadata": {
      "needs_background": "light"
     },
     "output_type": "display_data"
    }
   ],
   "source": [
    "# This code saves the chart to a graph. \n",
    "top_topic_fig = top_topic_df.plot(kind='bar', stacked=True).get_figure()\n",
    "top_topic_fig.savefig('./output/top_topic_fig.png')"
   ]
  },
  {
   "cell_type": "markdown",
   "metadata": {},
   "source": [
    "## Best Match \n",
    "\n",
    "I tried a couple of approaches to find the best match. The Best match was calculated by finding the topic that best matched the model, and showing which page in the volume that came from. I thought it might be interesting to see which decade had the best, best match. But it turns out that this wasn't a particularly helpful measure. "
   ]
  },
  {
   "cell_type": "code",
   "execution_count": 17,
   "metadata": {},
   "outputs": [],
   "source": [
    "best_match_df = df.groupby(['best_match_top_num', 'decade'])['best_match_perc'].max().unstack('best_match_top_num')"
   ]
  },
  {
   "cell_type": "code",
   "execution_count": 18,
   "metadata": {},
   "outputs": [
    {
     "data": {
      "text/plain": [
       "<matplotlib.axes._subplots.AxesSubplot at 0x1163cb5d0>"
      ]
     },
     "execution_count": 18,
     "metadata": {},
     "output_type": "execute_result"
    },
    {
     "data": {
      "image/png": "[encoded data removed]",
      "text/plain": [
       "<Figure size 432x288 with 1 Axes>"
      ]
     },
     "metadata": {
      "needs_background": "light"
     },
     "output_type": "display_data"
    }
   ],
   "source": [
    "best_match_df.plot(kind='bar', stacked=True)"
   ]
  },
  {
   "cell_type": "markdown",
   "metadata": {},
   "source": [
    "Digging into the actual dataframe that produces the chart is a little more interesting. For the decades that only have one or two matches, it is because there are only one or two books that represent that decade. This did lead to the realization that we need a more percise way of looking at the best match data. "
   ]
  },
  {
   "cell_type": "code",
   "execution_count": 19,
   "metadata": {},
   "outputs": [
    {
     "data": {
      "text/html": [
       "<div>\n",
       "<style scoped>\n",
       "    .dataframe tbody tr th:only-of-type {\n",
       "        vertical-align: middle;\n",
       "    }\n",
       "\n",
       "    .dataframe tbody tr th {\n",
       "        vertical-align: top;\n",
       "    }\n",
       "\n",
       "    .dataframe thead th {\n",
       "        text-align: right;\n",
       "    }\n",
       "</style>\n",
       "<table border=\"1\" class=\"dataframe\">\n",
       "  <thead>\n",
       "    <tr style=\"text-align: right;\">\n",
       "      <th>best_match_top_num</th>\n",
       "      <th>0</th>\n",
       "      <th>1</th>\n",
       "      <th>3</th>\n",
       "      <th>5</th>\n",
       "      <th>6</th>\n",
       "      <th>11</th>\n",
       "    </tr>\n",
       "    <tr>\n",
       "      <th>decade</th>\n",
       "      <th></th>\n",
       "      <th></th>\n",
       "      <th></th>\n",
       "      <th></th>\n",
       "      <th></th>\n",
       "      <th></th>\n",
       "    </tr>\n",
       "  </thead>\n",
       "  <tbody>\n",
       "    <tr>\n",
       "      <th>0</th>\n",
       "      <td>0.961600</td>\n",
       "      <td>0.931428</td>\n",
       "      <td>0.880000</td>\n",
       "      <td>0.954286</td>\n",
       "      <td>0.972571</td>\n",
       "      <td>0.953334</td>\n",
       "    </tr>\n",
       "    <tr>\n",
       "      <th>1740</th>\n",
       "      <td>NaN</td>\n",
       "      <td>0.759997</td>\n",
       "      <td>NaN</td>\n",
       "      <td>NaN</td>\n",
       "      <td>NaN</td>\n",
       "      <td>NaN</td>\n",
       "    </tr>\n",
       "    <tr>\n",
       "      <th>1760</th>\n",
       "      <td>NaN</td>\n",
       "      <td>NaN</td>\n",
       "      <td>NaN</td>\n",
       "      <td>NaN</td>\n",
       "      <td>0.696676</td>\n",
       "      <td>NaN</td>\n",
       "    </tr>\n",
       "    <tr>\n",
       "      <th>1780</th>\n",
       "      <td>NaN</td>\n",
       "      <td>NaN</td>\n",
       "      <td>NaN</td>\n",
       "      <td>NaN</td>\n",
       "      <td>NaN</td>\n",
       "      <td>0.808000</td>\n",
       "    </tr>\n",
       "    <tr>\n",
       "      <th>1790</th>\n",
       "      <td>NaN</td>\n",
       "      <td>NaN</td>\n",
       "      <td>NaN</td>\n",
       "      <td>0.679999</td>\n",
       "      <td>0.862856</td>\n",
       "      <td>NaN</td>\n",
       "    </tr>\n",
       "    <tr>\n",
       "      <th>1810</th>\n",
       "      <td>0.985231</td>\n",
       "      <td>NaN</td>\n",
       "      <td>NaN</td>\n",
       "      <td>0.906667</td>\n",
       "      <td>0.893333</td>\n",
       "      <td>0.839999</td>\n",
       "    </tr>\n",
       "    <tr>\n",
       "      <th>1820</th>\n",
       "      <td>0.951826</td>\n",
       "      <td>NaN</td>\n",
       "      <td>NaN</td>\n",
       "      <td>0.931428</td>\n",
       "      <td>0.931428</td>\n",
       "      <td>0.755001</td>\n",
       "    </tr>\n",
       "    <tr>\n",
       "      <th>1830</th>\n",
       "      <td>0.840000</td>\n",
       "      <td>0.807999</td>\n",
       "      <td>NaN</td>\n",
       "      <td>0.893333</td>\n",
       "      <td>0.833935</td>\n",
       "      <td>NaN</td>\n",
       "    </tr>\n",
       "    <tr>\n",
       "      <th>1840</th>\n",
       "      <td>0.842599</td>\n",
       "      <td>0.807999</td>\n",
       "      <td>NaN</td>\n",
       "      <td>0.804002</td>\n",
       "      <td>0.862857</td>\n",
       "      <td>NaN</td>\n",
       "    </tr>\n",
       "    <tr>\n",
       "      <th>1850</th>\n",
       "      <td>0.840000</td>\n",
       "      <td>0.879999</td>\n",
       "      <td>NaN</td>\n",
       "      <td>0.687734</td>\n",
       "      <td>0.917567</td>\n",
       "      <td>NaN</td>\n",
       "    </tr>\n",
       "    <tr>\n",
       "      <th>1860</th>\n",
       "      <td>0.679998</td>\n",
       "      <td>NaN</td>\n",
       "      <td>NaN</td>\n",
       "      <td>0.839999</td>\n",
       "      <td>0.760000</td>\n",
       "      <td>NaN</td>\n",
       "    </tr>\n",
       "    <tr>\n",
       "      <th>1870</th>\n",
       "      <td>NaN</td>\n",
       "      <td>0.807998</td>\n",
       "      <td>0.807998</td>\n",
       "      <td>0.879999</td>\n",
       "      <td>NaN</td>\n",
       "      <td>NaN</td>\n",
       "    </tr>\n",
       "    <tr>\n",
       "      <th>1880</th>\n",
       "      <td>0.840000</td>\n",
       "      <td>0.839999</td>\n",
       "      <td>NaN</td>\n",
       "      <td>0.879999</td>\n",
       "      <td>0.880000</td>\n",
       "      <td>0.804000</td>\n",
       "    </tr>\n",
       "    <tr>\n",
       "      <th>1890</th>\n",
       "      <td>0.673333</td>\n",
       "      <td>0.904000</td>\n",
       "      <td>0.808000</td>\n",
       "      <td>0.958261</td>\n",
       "      <td>NaN</td>\n",
       "      <td>0.804000</td>\n",
       "    </tr>\n",
       "    <tr>\n",
       "      <th>1900</th>\n",
       "      <td>0.760000</td>\n",
       "      <td>0.880000</td>\n",
       "      <td>NaN</td>\n",
       "      <td>0.940000</td>\n",
       "      <td>0.862856</td>\n",
       "      <td>0.804000</td>\n",
       "    </tr>\n",
       "    <tr>\n",
       "      <th>1910</th>\n",
       "      <td>0.807999</td>\n",
       "      <td>0.740874</td>\n",
       "      <td>0.519999</td>\n",
       "      <td>0.903999</td>\n",
       "      <td>0.893333</td>\n",
       "      <td>0.840000</td>\n",
       "    </tr>\n",
       "    <tr>\n",
       "      <th>1920</th>\n",
       "      <td>0.839999</td>\n",
       "      <td>0.807999</td>\n",
       "      <td>0.893333</td>\n",
       "      <td>0.903999</td>\n",
       "      <td>0.868341</td>\n",
       "      <td>0.671111</td>\n",
       "    </tr>\n",
       "    <tr>\n",
       "      <th>1930</th>\n",
       "      <td>0.903999</td>\n",
       "      <td>0.829560</td>\n",
       "      <td>0.734630</td>\n",
       "      <td>0.949473</td>\n",
       "      <td>0.893333</td>\n",
       "      <td>0.881154</td>\n",
       "    </tr>\n",
       "    <tr>\n",
       "      <th>1940</th>\n",
       "      <td>0.862857</td>\n",
       "      <td>0.863058</td>\n",
       "      <td>0.617596</td>\n",
       "      <td>0.943529</td>\n",
       "      <td>0.970402</td>\n",
       "      <td>0.680000</td>\n",
       "    </tr>\n",
       "    <tr>\n",
       "      <th>1950</th>\n",
       "      <td>0.879999</td>\n",
       "      <td>0.880000</td>\n",
       "      <td>0.903999</td>\n",
       "      <td>0.954286</td>\n",
       "      <td>0.896471</td>\n",
       "      <td>0.912727</td>\n",
       "    </tr>\n",
       "    <tr>\n",
       "      <th>1960</th>\n",
       "      <td>0.912727</td>\n",
       "      <td>0.929932</td>\n",
       "      <td>0.903999</td>\n",
       "      <td>0.954286</td>\n",
       "      <td>0.936000</td>\n",
       "      <td>0.931429</td>\n",
       "    </tr>\n",
       "    <tr>\n",
       "      <th>1970</th>\n",
       "      <td>0.952000</td>\n",
       "      <td>0.912727</td>\n",
       "      <td>0.956364</td>\n",
       "      <td>0.959167</td>\n",
       "      <td>0.971765</td>\n",
       "      <td>0.961600</td>\n",
       "    </tr>\n",
       "    <tr>\n",
       "      <th>1980</th>\n",
       "      <td>0.903999</td>\n",
       "      <td>0.926154</td>\n",
       "      <td>0.987027</td>\n",
       "      <td>0.982545</td>\n",
       "      <td>0.979575</td>\n",
       "      <td>0.977674</td>\n",
       "    </tr>\n",
       "    <tr>\n",
       "      <th>1990</th>\n",
       "      <td>0.958261</td>\n",
       "      <td>0.961600</td>\n",
       "      <td>0.912727</td>\n",
       "      <td>0.969032</td>\n",
       "      <td>0.979130</td>\n",
       "      <td>0.974737</td>\n",
       "    </tr>\n",
       "    <tr>\n",
       "      <th>2000</th>\n",
       "      <td>0.913540</td>\n",
       "      <td>0.931428</td>\n",
       "      <td>0.986426</td>\n",
       "      <td>0.989327</td>\n",
       "      <td>0.972000</td>\n",
       "      <td>0.954286</td>\n",
       "    </tr>\n",
       "    <tr>\n",
       "      <th>2010</th>\n",
       "      <td>0.679998</td>\n",
       "      <td>0.862856</td>\n",
       "      <td>NaN</td>\n",
       "      <td>0.880000</td>\n",
       "      <td>NaN</td>\n",
       "      <td>0.720004</td>\n",
       "    </tr>\n",
       "  </tbody>\n",
       "</table>\n",
       "</div>"
      ],
      "text/plain": [
       "best_match_top_num        0         1         3         5         6         11\n",
       "decade                                                                        \n",
       "0                   0.961600  0.931428  0.880000  0.954286  0.972571  0.953334\n",
       "1740                     NaN  0.759997       NaN       NaN       NaN       NaN\n",
       "1760                     NaN       NaN       NaN       NaN  0.696676       NaN\n",
       "1780                     NaN       NaN       NaN       NaN       NaN  0.808000\n",
       "1790                     NaN       NaN       NaN  0.679999  0.862856       NaN\n",
       "1810                0.985231       NaN       NaN  0.906667  0.893333  0.839999\n",
       "1820                0.951826       NaN       NaN  0.931428  0.931428  0.755001\n",
       "1830                0.840000  0.807999       NaN  0.893333  0.833935       NaN\n",
       "1840                0.842599  0.807999       NaN  0.804002  0.862857       NaN\n",
       "1850                0.840000  0.879999       NaN  0.687734  0.917567       NaN\n",
       "1860                0.679998       NaN       NaN  0.839999  0.760000       NaN\n",
       "1870                     NaN  0.807998  0.807998  0.879999       NaN       NaN\n",
       "1880                0.840000  0.839999       NaN  0.879999  0.880000  0.804000\n",
       "1890                0.673333  0.904000  0.808000  0.958261       NaN  0.804000\n",
       "1900                0.760000  0.880000       NaN  0.940000  0.862856  0.804000\n",
       "1910                0.807999  0.740874  0.519999  0.903999  0.893333  0.840000\n",
       "1920                0.839999  0.807999  0.893333  0.903999  0.868341  0.671111\n",
       "1930                0.903999  0.829560  0.734630  0.949473  0.893333  0.881154\n",
       "1940                0.862857  0.863058  0.617596  0.943529  0.970402  0.680000\n",
       "1950                0.879999  0.880000  0.903999  0.954286  0.896471  0.912727\n",
       "1960                0.912727  0.929932  0.903999  0.954286  0.936000  0.931429\n",
       "1970                0.952000  0.912727  0.956364  0.959167  0.971765  0.961600\n",
       "1980                0.903999  0.926154  0.987027  0.982545  0.979575  0.977674\n",
       "1990                0.958261  0.961600  0.912727  0.969032  0.979130  0.974737\n",
       "2000                0.913540  0.931428  0.986426  0.989327  0.972000  0.954286\n",
       "2010                0.679998  0.862856       NaN  0.880000       NaN  0.720004"
      ]
     },
     "execution_count": 19,
     "metadata": {},
     "output_type": "execute_result"
    }
   ],
   "source": [
    "best_match_df"
   ]
  },
  {
   "cell_type": "markdown",
   "metadata": {},
   "source": [
    "### Best Match Spread Sheet \n",
    "\n",
    "I thought it would be worth digging into the data to see which books had high matches. As well as a high representative of that topic across the book. The first script creates a data frame where the most common topic and the best match topic are the same. This will help promote the aboutness of a particular work will be about the topic we are interseted in. "
   ]
  },
  {
   "cell_type": "code",
   "execution_count": 20,
   "metadata": {},
   "outputs": [],
   "source": [
    "# The Top Five Pages for Each topic, Title, and Year\n",
    "\n",
    "# df.groupby('best_match_top_num')['best_match_top_num', 'ht_id', 'best_match_page', 'best_match_perc'].head()\n",
    "bmatch_df = df[df['most_common_topic_top_num'] == df['best_match_top_num']].sort_values(by=['best_match_top_num', 'best_match_perc'], ascending=False)"
   ]
  },
  {
   "cell_type": "code",
   "execution_count": 21,
   "metadata": {},
   "outputs": [
    {
     "data": {
      "text/plain": [
       "Index(['ht_id', 'top_topic_top_num', 'top_topic_perc', 'best_match_page',\n",
       "       'best_match_top_num', 'best_match_perc', 'most_common_topic_top_num',\n",
       "       'most_common_topic_perc', 'date', 'decade'],\n",
       "      dtype='object')"
      ]
     },
     "execution_count": 21,
     "metadata": {},
     "output_type": "execute_result"
    }
   ],
   "source": [
    "# The colomuns of the topic are still all the ones we have\n",
    "bmatch_df.columns"
   ]
  },
  {
   "cell_type": "markdown",
   "metadata": {},
   "source": [
    "These two functions can add additional information from the Hathi Trust database created in the Political Theological project. The title could also be added to the dataframes when the entire corpus is run over the data. "
   ]
  },
  {
   "cell_type": "code",
   "execution_count": 22,
   "metadata": {},
   "outputs": [],
   "source": [
    "def find_title(row):\n",
    "    query = 'SELECT title FROM hathitrust_rec WHERE htitem_id = ?'\n",
    "    cur.execute(query, (row['ht_id'], ))\n",
    "    title = cur.fetchone()\n",
    "    return title[0]\n",
    "\n",
    "def find_subjects(row):\n",
    "    query = 'SELECT subject_heading FROM htitem2subjhead WHERE htitem_id = ?'\n",
    "    cur.execute(query, (row['ht_id'], ))\n",
    "    subjects = cur.fetchall()\n",
    "    return ' | '.join([x[0] for x in subjects])"
   ]
  },
  {
   "cell_type": "code",
   "execution_count": 23,
   "metadata": {},
   "outputs": [],
   "source": [
    "# apply find_title to the dataframe\n",
    "bmatch_df['title'] = bmatch_df.apply(find_title, axis=1)"
   ]
  },
  {
   "cell_type": "code",
   "execution_count": 24,
   "metadata": {},
   "outputs": [],
   "source": [
    "# add the topic name to the dataframe\n",
    "bmatch_df['top_nam'] = bmatch_df.apply(lambda x: topic_num2name[x['best_match_top_num']], axis=1)"
   ]
  },
  {
   "cell_type": "code",
   "execution_count": 25,
   "metadata": {},
   "outputs": [],
   "source": [
    "# add the subjects to the dataframe. \n",
    "# Subjects likewise are available in the hathitrust record reader\n",
    "bmatch_df['subjects'] = bmatch_df.apply(find_subjects, axis=1)"
   ]
  },
  {
   "cell_type": "code",
   "execution_count": 26,
   "metadata": {},
   "outputs": [],
   "source": [
    "# This cell reorders the columns in a more intuitive order\n",
    "bmatch_df = bmatch_df[\n",
    "    ['top_nam',\n",
    "     'best_match_top_num',\n",
    "     'ht_id', \n",
    "     'title',\n",
    "     'date',\n",
    "     'subjects',\n",
    "     'best_match_page',                     \n",
    "     'best_match_perc',      \n",
    "     'most_common_topic_top_num', \n",
    "     'most_common_topic_perc'\n",
    "    ]\n",
    "].reset_index(drop=True)"
   ]
  },
  {
   "cell_type": "code",
   "execution_count": 27,
   "metadata": {},
   "outputs": [
    {
     "data": {
      "text/html": [
       "<div>\n",
       "<style scoped>\n",
       "    .dataframe tbody tr th:only-of-type {\n",
       "        vertical-align: middle;\n",
       "    }\n",
       "\n",
       "    .dataframe tbody tr th {\n",
       "        vertical-align: top;\n",
       "    }\n",
       "\n",
       "    .dataframe thead th {\n",
       "        text-align: right;\n",
       "    }\n",
       "</style>\n",
       "<table border=\"1\" class=\"dataframe\">\n",
       "  <thead>\n",
       "    <tr style=\"text-align: right;\">\n",
       "      <th></th>\n",
       "      <th>top_nam</th>\n",
       "      <th>best_match_top_num</th>\n",
       "      <th>ht_id</th>\n",
       "      <th>title</th>\n",
       "      <th>date</th>\n",
       "      <th>subjects</th>\n",
       "      <th>best_match_page</th>\n",
       "      <th>best_match_perc</th>\n",
       "      <th>most_common_topic_top_num</th>\n",
       "      <th>most_common_topic_perc</th>\n",
       "    </tr>\n",
       "  </thead>\n",
       "  <tbody>\n",
       "    <tr>\n",
       "      <th>0</th>\n",
       "      <td>Religion and Culture</td>\n",
       "      <td>11</td>\n",
       "      <td>uva.x030453390</td>\n",
       "      <td>Bulletin signalétique. 527, Histoire et scien...</td>\n",
       "      <td>1984</td>\n",
       "      <td></td>\n",
       "      <td>926</td>\n",
       "      <td>0.977674</td>\n",
       "      <td>11</td>\n",
       "      <td>453</td>\n",
       "    </tr>\n",
       "    <tr>\n",
       "      <th>1</th>\n",
       "      <td>Religion and Culture</td>\n",
       "      <td>11</td>\n",
       "      <td>mdp.39015064409652</td>\n",
       "      <td>Francis bulletin signalétique. 527, Histoire e...</td>\n",
       "      <td>1994</td>\n",
       "      <td></td>\n",
       "      <td>494</td>\n",
       "      <td>0.974737</td>\n",
       "      <td>11</td>\n",
       "      <td>206</td>\n",
       "    </tr>\n",
       "    <tr>\n",
       "      <th>2</th>\n",
       "      <td>Religion and Culture</td>\n",
       "      <td>11</td>\n",
       "      <td>mdp.39015079907781</td>\n",
       "      <td>Bulletin signalétique. 527: Sciences religieus...</td>\n",
       "      <td>1970</td>\n",
       "      <td></td>\n",
       "      <td>78</td>\n",
       "      <td>0.961600</td>\n",
       "      <td>11</td>\n",
       "      <td>101</td>\n",
       "    </tr>\n",
       "    <tr>\n",
       "      <th>3</th>\n",
       "      <td>Religion and Culture</td>\n",
       "      <td>11</td>\n",
       "      <td>uva.x030785791</td>\n",
       "      <td>Theologische revue. Jahrg.70-72 1974-76</td>\n",
       "      <td>1976</td>\n",
       "      <td></td>\n",
       "      <td>216</td>\n",
       "      <td>0.960000</td>\n",
       "      <td>11</td>\n",
       "      <td>172</td>\n",
       "    </tr>\n",
       "    <tr>\n",
       "      <th>4</th>\n",
       "      <td>Religion and Culture</td>\n",
       "      <td>11</td>\n",
       "      <td>inu.30000087051045</td>\n",
       "      <td>Das Bild des Menschen in den Wissenschaften / ...</td>\n",
       "      <td>2002</td>\n",
       "      <td>Philosophical anthropology | Human beings | Bo...</td>\n",
       "      <td>66</td>\n",
       "      <td>0.954286</td>\n",
       "      <td>11</td>\n",
       "      <td>43</td>\n",
       "    </tr>\n",
       "    <tr>\n",
       "      <th>5</th>\n",
       "      <td>Religion and Culture</td>\n",
       "      <td>11</td>\n",
       "      <td>mdp.39015062902328</td>\n",
       "      <td>Die Säkularisation im Prozess der Säkularisier...</td>\n",
       "      <td>2005</td>\n",
       "      <td>SaÌˆkularisierung.$0(DE-588)4051238-1$2gnd | S...</td>\n",
       "      <td>446</td>\n",
       "      <td>0.954286</td>\n",
       "      <td>11</td>\n",
       "      <td>174</td>\n",
       "    </tr>\n",
       "    <tr>\n",
       "      <th>6</th>\n",
       "      <td>Religion and Culture</td>\n",
       "      <td>11</td>\n",
       "      <td>mdp.39015063320546</td>\n",
       "      <td>New approaches to the study of religion / edit...</td>\n",
       "      <td>0</td>\n",
       "      <td></td>\n",
       "      <td>501</td>\n",
       "      <td>0.953334</td>\n",
       "      <td>11</td>\n",
       "      <td>166</td>\n",
       "    </tr>\n",
       "    <tr>\n",
       "      <th>7</th>\n",
       "      <td>Religion and Culture</td>\n",
       "      <td>11</td>\n",
       "      <td>uva.x006167926</td>\n",
       "      <td>Communio viatorum. v.43-44 2001-2002</td>\n",
       "      <td>2002</td>\n",
       "      <td>Theology--Periodicals | Theologie | Theology</td>\n",
       "      <td>563</td>\n",
       "      <td>0.949474</td>\n",
       "      <td>11</td>\n",
       "      <td>64</td>\n",
       "    </tr>\n",
       "    <tr>\n",
       "      <th>8</th>\n",
       "      <td>Religion and Culture</td>\n",
       "      <td>11</td>\n",
       "      <td>uc1.b3365232</td>\n",
       "      <td>Transzendenz und Immanenz : Philosophie und Th...</td>\n",
       "      <td>1977</td>\n",
       "      <td>Philosophie et theÌologie--CongreÌ€s | Foi et...</td>\n",
       "      <td>92</td>\n",
       "      <td>0.949474</td>\n",
       "      <td>11</td>\n",
       "      <td>132</td>\n",
       "    </tr>\n",
       "    <tr>\n",
       "      <th>9</th>\n",
       "      <td>Religion and Culture</td>\n",
       "      <td>11</td>\n",
       "      <td>ien.35556034292441</td>\n",
       "      <td>Politik und Politeia : Formen und Probleme pol...</td>\n",
       "      <td>2000</td>\n",
       "      <td>Political sociology | Bibliografie.$0(DE-588)4...</td>\n",
       "      <td>116</td>\n",
       "      <td>0.949474</td>\n",
       "      <td>11</td>\n",
       "      <td>78</td>\n",
       "    </tr>\n",
       "    <tr>\n",
       "      <th>10</th>\n",
       "      <td>Religion and Culture</td>\n",
       "      <td>11</td>\n",
       "      <td>mdp.39015021492742</td>\n",
       "      <td>Troeltsch-Studien / herausgegeben von Horst Re...</td>\n",
       "      <td>0</td>\n",
       "      <td>Theologians--Germany--Biography | Theologians</td>\n",
       "      <td>23</td>\n",
       "      <td>0.946667</td>\n",
       "      <td>11</td>\n",
       "      <td>152</td>\n",
       "    </tr>\n",
       "    <tr>\n",
       "      <th>11</th>\n",
       "      <td>Religion and Culture</td>\n",
       "      <td>11</td>\n",
       "      <td>mdp.39015059876949</td>\n",
       "      <td>Deutsche Nationalbibliographie und Bibliograph...</td>\n",
       "      <td>1995</td>\n",
       "      <td>Bibliography, National.$0(DNLM)D001637 | Tijds...</td>\n",
       "      <td>755</td>\n",
       "      <td>0.946667</td>\n",
       "      <td>11</td>\n",
       "      <td>83</td>\n",
       "    </tr>\n",
       "    <tr>\n",
       "      <th>12</th>\n",
       "      <td>Religion and Culture</td>\n",
       "      <td>11</td>\n",
       "      <td>mdp.39015078401489</td>\n",
       "      <td>Beiträge zur Geschichte des Bistums Regensburg...</td>\n",
       "      <td>1983</td>\n",
       "      <td>Zeitschrift.$2swd | Geschichte.$2swd</td>\n",
       "      <td>282</td>\n",
       "      <td>0.943529</td>\n",
       "      <td>11</td>\n",
       "      <td>123</td>\n",
       "    </tr>\n",
       "    <tr>\n",
       "      <th>13</th>\n",
       "      <td>Religion and Culture</td>\n",
       "      <td>11</td>\n",
       "      <td>uva.x000043098</td>\n",
       "      <td>Civilisation noire et Église catholique : col...</td>\n",
       "      <td>1978</td>\n",
       "      <td>Blacks--Africa--Congresses | Noirs--Afrique--C...</td>\n",
       "      <td>125</td>\n",
       "      <td>0.943529</td>\n",
       "      <td>11</td>\n",
       "      <td>111</td>\n",
       "    </tr>\n",
       "    <tr>\n",
       "      <th>14</th>\n",
       "      <td>Religion and Culture</td>\n",
       "      <td>11</td>\n",
       "      <td>uva.x001488980</td>\n",
       "      <td>Civil Religion : die religiöse Dimension der ...</td>\n",
       "      <td>1987</td>\n",
       "      <td>Begriff.$2swd | Civil religion | Zivilreligion...</td>\n",
       "      <td>11</td>\n",
       "      <td>0.940000</td>\n",
       "      <td>11</td>\n",
       "      <td>277</td>\n",
       "    </tr>\n",
       "    <tr>\n",
       "      <th>15</th>\n",
       "      <td>Religion and Culture</td>\n",
       "      <td>11</td>\n",
       "      <td>mdp.39015051374331</td>\n",
       "      <td>Die Flucht in den Begriff : Materialien zu Heg...</td>\n",
       "      <td>1982</td>\n",
       "      <td></td>\n",
       "      <td>358</td>\n",
       "      <td>0.936000</td>\n",
       "      <td>11</td>\n",
       "      <td>211</td>\n",
       "    </tr>\n",
       "    <tr>\n",
       "      <th>16</th>\n",
       "      <td>Religion and Culture</td>\n",
       "      <td>11</td>\n",
       "      <td>mdp.39015053573773</td>\n",
       "      <td>Der Mensch als Bild Gottes.</td>\n",
       "      <td>1969</td>\n",
       "      <td>Noise-prevention and control | Homme (theÌolo...</td>\n",
       "      <td>332</td>\n",
       "      <td>0.931429</td>\n",
       "      <td>11</td>\n",
       "      <td>39</td>\n",
       "    </tr>\n",
       "    <tr>\n",
       "      <th>17</th>\n",
       "      <td>Religion and Culture</td>\n",
       "      <td>11</td>\n",
       "      <td>uva.x006090923</td>\n",
       "      <td>Post-theism : reframing the Judeo-Christian tr...</td>\n",
       "      <td>2000</td>\n",
       "      <td>Judaism--Relations--Christianity | Christianit...</td>\n",
       "      <td>102</td>\n",
       "      <td>0.926154</td>\n",
       "      <td>11</td>\n",
       "      <td>122</td>\n",
       "    </tr>\n",
       "    <tr>\n",
       "      <th>18</th>\n",
       "      <td>Religion and Culture</td>\n",
       "      <td>11</td>\n",
       "      <td>mdp.39015066107940</td>\n",
       "      <td>Göttinger Miszellen. no.198-203(2004)</td>\n",
       "      <td>2004</td>\n",
       "      <td>Antiquities | Civilization | Egyptologie</td>\n",
       "      <td>501</td>\n",
       "      <td>0.926154</td>\n",
       "      <td>11</td>\n",
       "      <td>49</td>\n",
       "    </tr>\n",
       "    <tr>\n",
       "      <th>19</th>\n",
       "      <td>Religion and Culture</td>\n",
       "      <td>11</td>\n",
       "      <td>mdp.39015063166550</td>\n",
       "      <td>Religion und Politik : zu Theorie und Praxis d...</td>\n",
       "      <td>2004</td>\n",
       "      <td>Politische Theologie.$0(DE-588)4046562-7$2gnd ...</td>\n",
       "      <td>368</td>\n",
       "      <td>0.926154</td>\n",
       "      <td>11</td>\n",
       "      <td>187</td>\n",
       "    </tr>\n",
       "  </tbody>\n",
       "</table>\n",
       "</div>"
      ],
      "text/plain": [
       "                 top_nam  best_match_top_num               ht_id  \\\n",
       "0   Religion and Culture                  11      uva.x030453390   \n",
       "1   Religion and Culture                  11  mdp.39015064409652   \n",
       "2   Religion and Culture                  11  mdp.39015079907781   \n",
       "3   Religion and Culture                  11      uva.x030785791   \n",
       "4   Religion and Culture                  11  inu.30000087051045   \n",
       "5   Religion and Culture                  11  mdp.39015062902328   \n",
       "6   Religion and Culture                  11  mdp.39015063320546   \n",
       "7   Religion and Culture                  11      uva.x006167926   \n",
       "8   Religion and Culture                  11        uc1.b3365232   \n",
       "9   Religion and Culture                  11  ien.35556034292441   \n",
       "10  Religion and Culture                  11  mdp.39015021492742   \n",
       "11  Religion and Culture                  11  mdp.39015059876949   \n",
       "12  Religion and Culture                  11  mdp.39015078401489   \n",
       "13  Religion and Culture                  11      uva.x000043098   \n",
       "14  Religion and Culture                  11      uva.x001488980   \n",
       "15  Religion and Culture                  11  mdp.39015051374331   \n",
       "16  Religion and Culture                  11  mdp.39015053573773   \n",
       "17  Religion and Culture                  11      uva.x006090923   \n",
       "18  Religion and Culture                  11  mdp.39015066107940   \n",
       "19  Religion and Culture                  11  mdp.39015063166550   \n",
       "\n",
       "                                                title  date  \\\n",
       "0   Bulletin signalétique. 527, Histoire et scien...  1984   \n",
       "1   Francis bulletin signalétique. 527, Histoire e...  1994   \n",
       "2   Bulletin signalétique. 527: Sciences religieus...  1970   \n",
       "3             Theologische revue. Jahrg.70-72 1974-76  1976   \n",
       "4   Das Bild des Menschen in den Wissenschaften / ...  2002   \n",
       "5   Die Säkularisation im Prozess der Säkularisier...  2005   \n",
       "6   New approaches to the study of religion / edit...     0   \n",
       "7                Communio viatorum. v.43-44 2001-2002  2002   \n",
       "8   Transzendenz und Immanenz : Philosophie und Th...  1977   \n",
       "9   Politik und Politeia : Formen und Probleme pol...  2000   \n",
       "10  Troeltsch-Studien / herausgegeben von Horst Re...     0   \n",
       "11  Deutsche Nationalbibliographie und Bibliograph...  1995   \n",
       "12  Beiträge zur Geschichte des Bistums Regensburg...  1983   \n",
       "13  Civilisation noire et Église catholique : col...  1978   \n",
       "14  Civil Religion : die religiöse Dimension der ...  1987   \n",
       "15  Die Flucht in den Begriff : Materialien zu Heg...  1982   \n",
       "16                       Der Mensch als Bild Gottes.   1969   \n",
       "17  Post-theism : reframing the Judeo-Christian tr...  2000   \n",
       "18              Göttinger Miszellen. no.198-203(2004)  2004   \n",
       "19  Religion und Politik : zu Theorie und Praxis d...  2004   \n",
       "\n",
       "                                             subjects  best_match_page  \\\n",
       "0                                                                  926   \n",
       "1                                                                  494   \n",
       "2                                                                   78   \n",
       "3                                                                  216   \n",
       "4   Philosophical anthropology | Human beings | Bo...               66   \n",
       "5   SaÌˆkularisierung.$0(DE-588)4051238-1$2gnd | S...              446   \n",
       "6                                                                  501   \n",
       "7        Theology--Periodicals | Theologie | Theology              563   \n",
       "8   Philosophie et theÌologie--CongreÌ€s | Foi et...               92   \n",
       "9   Political sociology | Bibliografie.$0(DE-588)4...              116   \n",
       "10      Theologians--Germany--Biography | Theologians               23   \n",
       "11  Bibliography, National.$0(DNLM)D001637 | Tijds...              755   \n",
       "12               Zeitschrift.$2swd | Geschichte.$2swd              282   \n",
       "13  Blacks--Africa--Congresses | Noirs--Afrique--C...              125   \n",
       "14  Begriff.$2swd | Civil religion | Zivilreligion...               11   \n",
       "15                                                                 358   \n",
       "16  Noise-prevention and control | Homme (theÌolo...              332   \n",
       "17  Judaism--Relations--Christianity | Christianit...              102   \n",
       "18           Antiquities | Civilization | Egyptologie              501   \n",
       "19  Politische Theologie.$0(DE-588)4046562-7$2gnd ...              368   \n",
       "\n",
       "    best_match_perc  most_common_topic_top_num  most_common_topic_perc  \n",
       "0          0.977674                         11                     453  \n",
       "1          0.974737                         11                     206  \n",
       "2          0.961600                         11                     101  \n",
       "3          0.960000                         11                     172  \n",
       "4          0.954286                         11                      43  \n",
       "5          0.954286                         11                     174  \n",
       "6          0.953334                         11                     166  \n",
       "7          0.949474                         11                      64  \n",
       "8          0.949474                         11                     132  \n",
       "9          0.949474                         11                      78  \n",
       "10         0.946667                         11                     152  \n",
       "11         0.946667                         11                      83  \n",
       "12         0.943529                         11                     123  \n",
       "13         0.943529                         11                     111  \n",
       "14         0.940000                         11                     277  \n",
       "15         0.936000                         11                     211  \n",
       "16         0.931429                         11                      39  \n",
       "17         0.926154                         11                     122  \n",
       "18         0.926154                         11                      49  \n",
       "19         0.926154                         11                     187  "
      ]
     },
     "execution_count": 27,
     "metadata": {},
     "output_type": "execute_result"
    }
   ],
   "source": [
    "bmatch_df.head(20)"
   ]
  },
  {
   "cell_type": "code",
   "execution_count": 28,
   "metadata": {},
   "outputs": [],
   "source": [
    "# This cell saves the dataframe to a \n",
    "bmatch_df.to_excel('./output/best_match.xlsx', index=False)"
   ]
  },
  {
   "cell_type": "code",
   "execution_count": null,
   "metadata": {},
   "outputs": [],
   "source": []
  }
 ],
 "metadata": {
  "kernelspec": {
   "display_name": "Python 3",
   "language": "python",
   "name": "python3"
  },
  "language_info": {
   "codemirror_mode": {
    "name": "ipython",
    "version": 3
   },
   "file_extension": ".py",
   "mimetype": "text/x-python",
   "name": "python",
   "nbconvert_exporter": "python",
   "pygments_lexer": "ipython3",
   "version": "3.7.6"
  }
 },
 "nbformat": 4,
 "nbformat_minor": 2
}
